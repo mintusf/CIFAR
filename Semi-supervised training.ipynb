{
  "nbformat": 4,
  "nbformat_minor": 0,
  "metadata": {
    "colab": {
      "name": "VGG16encoder_forsubmission.ipynb",
      "provenance": [],
      "collapsed_sections": [],
      "include_colab_link": true
    },
    "kernelspec": {
      "name": "python3",
      "display_name": "Python 3"
    },
    "accelerator": "GPU"
  },
  "cells": [
    {
      "cell_type": "markdown",
      "metadata": {
        "id": "view-in-github",
        "colab_type": "text"
      },
      "source": [
        "<a href=\"https://colab.research.google.com/github/mintusf/CIFAR/blob/master/Semi-supervised%20training.ipynb\" target=\"_parent\"><img src=\"https://colab.research.google.com/assets/colab-badge.svg\" alt=\"Open In Colab\"/></a>"
      ]
    },
    {
      "cell_type": "markdown",
      "metadata": {
        "id": "_xuGdhIxr619",
        "colab_type": "text"
      },
      "source": [
        "# Semi-unsupervised CIFAR-10 classification\n",
        "\n",
        "---\n"
      ]
    },
    {
      "cell_type": "markdown",
      "metadata": {
        "id": "DHIfC1m4CX1V",
        "colab_type": "text"
      },
      "source": [
        "**Data downloading and pre-processing**"
      ]
    },
    {
      "cell_type": "markdown",
      "metadata": {
        "id": "n9wjwcBssItQ",
        "colab_type": "text"
      },
      "source": [
        "This script present model for classification of undersampled CIFAR-10 dataset. All functions needed to build and and train model are included."
      ]
    },
    {
      "cell_type": "markdown",
      "metadata": {
        "id": "17aoP9hesVKS",
        "colab_type": "text"
      },
      "source": [
        "At first, let's connect with google drive in order to download dataset data.\n",
        "You need to click the shown link, choose your google account and allow Google Cloud SDK to access it. The password will be shown which should be inputed in blank area."
      ]
    },
    {
      "cell_type": "code",
      "metadata": {
        "id": "gblZY-ytr7ZW",
        "colab_type": "code",
        "colab": {}
      },
      "source": [
        "!pip install -U -q PyDrive\n",
        "from pydrive.auth import GoogleAuth\n",
        "from pydrive.drive import GoogleDrive\n",
        "from google.colab import auth\n",
        "from oauth2client.client import GoogleCredentials\n",
        "auth.authenticate_user()\n",
        "gauth = GoogleAuth()\n",
        "gauth.credentials = GoogleCredentials.get_application_default()\n",
        "drive = GoogleDrive(gauth)"
      ],
      "execution_count": 0,
      "outputs": []
    },
    {
      "cell_type": "markdown",
      "metadata": {
        "id": "j1dlv3TvKOxd",
        "colab_type": "text"
      },
      "source": [
        "Now, let's download data from Google Drive.\n",
        "\n",
        "\n",
        "\n",
        "*   Train -> undersampled dataset with 42500 examples\n",
        "*   Train_augmented -> training dataset where some augmented examples were added to undersampled classes (50000 examples in total)\n",
        "*   Dev -> balanced dataset with 5000 examples for model development (cross validation)\n",
        "*   Test -> balanced dataset with 5000 examples for final model check"
      ]
    },
    {
      "cell_type": "code",
      "metadata": {
        "id": "inmfCi6SKJRq",
        "colab_type": "code",
        "colab": {}
      },
      "source": [
        "!pip install -U -q PyDrive\n",
        "from pydrive.auth import GoogleAuth\n",
        "from pydrive.drive import GoogleDrive\n",
        "from google.colab import auth\n",
        "from oauth2client.client import GoogleCredentials\n",
        "\n",
        "# Authenticate and create the PyDrive client.\n",
        "auth.authenticate_user()\n",
        "gauth = GoogleAuth()\n",
        "gauth.credentials = GoogleCredentials.get_application_default()\n",
        "drive = GoogleDrive(gauth)\n",
        "\n",
        "# Downloading Train_X file containing 42500 examples with undersampled classes [bird, deer, truck]\n",
        "link = 'https://drive.google.com/open?id=1MfxFllrpEduRC6L42cthQwNWtdtE6DiG'\n",
        "fluff, id = link.split('=')\n",
        "downloaded = drive.CreateFile({'id':id}) \n",
        "downloaded.GetContentFile('Train_X')\n",
        "\n",
        "# Downloading Train_Y file containing 42500 labels for Train_X\n",
        "link = 'https://drive.google.com/open?id=1_WtueFsji8R9o6QFVHfoYfphnYykHQqG'\n",
        "fluff, id = link.split('=')\n",
        "downloaded = drive.CreateFile({'id':id}) \n",
        "downloaded.GetContentFile('Train_Y')\n",
        "\n",
        "# Downloading Train_X_augmented file containing 50000 examples with 7500 examples being augmented images of undersampled classes [bird, deer, truck]\n",
        "link = 'https://drive.google.com/open?id=1Vnfgpdwg248OI91BwoWlUG7rAW8ewYCK'\n",
        "fluff, id = link.split('=')\n",
        "downloaded = drive.CreateFile({'id':id}) \n",
        "downloaded.GetContentFile('Train_X_augmented')\n",
        "\n",
        "# Downloading Train_Y file containing 50000 labels for Train_X_augmented\n",
        "link = 'https://drive.google.com/open?id=1bCrf0yc_Axh0RKkpbHCdNislxvdJZ9VO'\n",
        "fluff, id = link.split('=')\n",
        "downloaded = drive.CreateFile({'id':id}) \n",
        "downloaded.GetContentFile('Train_Y_augmented')\n",
        "\n",
        "link = 'https://drive.google.com/open?id=1X_vSxFLO-IBmPGZ8mP9tK9jtyrkf27dl'\n",
        "fluff, id = link.split('=')\n",
        "downloaded = drive.CreateFile({'id':id}) \n",
        "downloaded.GetContentFile('Dev_X')\n",
        "\n",
        "link = 'https://drive.google.com/open?id=1bEJFQb6rSWnEREG3IBIxvN3enYt0jT0X'\n",
        "fluff, id = link.split('=')\n",
        "downloaded = drive.CreateFile({'id':id}) \n",
        "downloaded.GetContentFile('Dev_Y')\n",
        "\n",
        "link = 'https://drive.google.com/open?id=1v1t_Gu4Ulyt58mSg_bwIeJbvJq0OA80l'\n",
        "fluff, id = link.split('=')\n",
        "downloaded = drive.CreateFile({'id':id}) \n",
        "downloaded.GetContentFile('Test_X')\n",
        "\n",
        "link = 'https://drive.google.com/open?id=1BV8IxrBW46H0Jj_NatVsORQmAki3Osdt'\n",
        "fluff, id = link.split('=')\n",
        "downloaded = drive.CreateFile({'id':id}) \n",
        "downloaded.GetContentFile('Test_Y')"
      ],
      "execution_count": 0,
      "outputs": []
    },
    {
      "cell_type": "markdown",
      "metadata": {
        "id": "AuWZEfVuTBi6",
        "colab_type": "text"
      },
      "source": [
        "Let's download needed libraries"
      ]
    },
    {
      "cell_type": "code",
      "metadata": {
        "id": "o51DgxWVTEmr",
        "colab_type": "code",
        "colab": {}
      },
      "source": [
        "import numpy as np\n",
        "import tensorflow as tf\n",
        "from tensorflow.keras.datasets import cifar10"
      ],
      "execution_count": 0,
      "outputs": []
    },
    {
      "cell_type": "markdown",
      "metadata": {
        "id": "muP55Uy5TeZ4",
        "colab_type": "text"
      },
      "source": [
        "In the next step, downloaded files will be loaded into variables into dataset variables. Input images are normalized to the range <0, 1> in order to improve training."
      ]
    },
    {
      "cell_type": "code",
      "metadata": {
        "id": "pUci-nBAKTct",
        "colab_type": "code",
        "colab": {}
      },
      "source": [
        "X_train = np.load('Train_X')/255.\n",
        "Y_train_1d = np.load('Train_Y')\n",
        "X_dev = np.load('Dev_X')/255.\n",
        "Y_dev_1d = np.load('Dev_Y')\n",
        "X_test = np.load('Test_X')/255.\n",
        "Y_test_1d = np.load('Test_Y')\n",
        "X_train_augmented = np.load('Train_X_augmented')/255.\n",
        "Y_train_augmented_1d = np.load('Train_Y_augmented')\n"
      ],
      "execution_count": 0,
      "outputs": []
    },
    {
      "cell_type": "markdown",
      "metadata": {
        "id": "dB5CE1JvTsj6",
        "colab_type": "text"
      },
      "source": [
        "Next step is to convert labels into one-hot format. The reason of that is that softmax activation will be used in the last layer which outputs vector with the lenght of the number of classes containing probabilities for each class."
      ]
    },
    {
      "cell_type": "code",
      "metadata": {
        "id": "xRmvyB6KTr3B",
        "colab_type": "code",
        "outputId": "40d8ba8e-d439-439e-b551-dfcc9e16a178",
        "colab": {
          "base_uri": "https://localhost:8080/",
          "height": 84
        }
      },
      "source": [
        "Y_train = np.eye(10)[Y_train_1d.reshape(-1)]\n",
        "print(Y_train.shape)\n",
        "Y_dev = np.eye(10)[Y_dev_1d.reshape(-1)]\n",
        "print(Y_dev.shape)\n",
        "Y_test = np.eye(10)[Y_test_1d.reshape(-1)]\n",
        "print(Y_test.shape)\n",
        "Y_train_augmented = np.eye(10)[Y_train_augmented_1d.reshape(-1)]\n",
        "print(Y_train_augmented.shape)"
      ],
      "execution_count": 15,
      "outputs": [
        {
          "output_type": "stream",
          "text": [
            "(42500, 10)\n",
            "(5000, 10)\n",
            "(5000, 10)\n",
            "(50000, 10)\n"
          ],
          "name": "stdout"
        }
      ]
    },
    {
      "cell_type": "markdown",
      "metadata": {
        "id": "f-Z1vIWZxbRe",
        "colab_type": "text"
      },
      "source": [
        "Let's save names of labels."
      ]
    },
    {
      "cell_type": "code",
      "metadata": {
        "id": "i_sw-pRvxcn6",
        "colab_type": "code",
        "colab": {}
      },
      "source": [
        "names = ['airplane',\n",
        " 'automobile',\n",
        " 'bird',\n",
        " 'cat',\n",
        " 'deer',\n",
        " 'dog',\n",
        " 'frog',\n",
        " 'horse',\n",
        " 'ship',\n",
        " 'truck']"
      ],
      "execution_count": 0,
      "outputs": []
    },
    {
      "cell_type": "markdown",
      "metadata": {
        "id": "8TdaV_CkCdzh",
        "colab_type": "text"
      },
      "source": [
        "**Autoencoder development**"
      ]
    },
    {
      "cell_type": "markdown",
      "metadata": {
        "id": "bWQ4bPx7TZAk",
        "colab_type": "text"
      },
      "source": [
        "Keras framework will be used for building the model.It includes many functions which simplifies creating deep learning algorithms."
      ]
    },
    {
      "cell_type": "code",
      "metadata": {
        "id": "BP_ynLA2TX_l",
        "colab_type": "code",
        "colab": {}
      },
      "source": [
        "from tensorflow.keras.layers import Input, Add, Dense, Activation, ZeroPadding2D, BatchNormalization, Flatten, Conv2D, AveragePooling2D, MaxPooling2D, Dropout,UpSampling2D\n",
        "from tensorflow.keras.models import Model, load_model\n",
        "from tensorflow.keras import regularizers\n",
        "from tensorflow.keras.initializers import glorot_uniform\n",
        "from tensorflow.keras.utils import plot_model\n",
        "from tensorflow.keras.preprocessing.image import ImageDataGenerator"
      ],
      "execution_count": 0,
      "outputs": []
    },
    {
      "cell_type": "markdown",
      "metadata": {
        "id": "nM81mtCOT3bh",
        "colab_type": "text"
      },
      "source": [
        "Now, let's build the model of convolutional autoencoder. \n",
        "\n",
        "---\n",
        "\n",
        "\n",
        "Autoencoders use same examples as inputs and outputs in order to remove data which are unrelevant for classification and extract informational features in hidden layers which can be used for classification. Usually hidden layers have smaller shape than input in order to 'force' the algorithm to find most useful features. An autoencoder can be divided into encoder and decoder. While the first one encodes the image into lower-dimension format, the second decodes it into the same format as input. Usually, a decoder has a symetrical architecture of an encoder.\n",
        "\n",
        "The architecture is based on VGG-16. It consists of blocks CONV->BN->DROPOUT, however it is important that when MaxPooling layer is used to decrease dimensions, dropout should not be used before it but after. For the training, data augmentation is used.\n",
        "\n",
        "Following function creates a CNN model of autoencoder connecting input layer with output layer.\n",
        "  \n",
        "\n",
        "> Arguments:\n",
        "*   input_img -> an input layer consisting image\n",
        "*   dropout -> probability of dropout\n",
        "\n",
        "\n",
        "\n",
        "> Returns:\n",
        "*   encoded -> a tensor of hidden layer which is used as encoder of input image\n",
        "*   decoded -> the output of autoencoder\n",
        "\n",
        "\n",
        "\n",
        "\n",
        "\n",
        "\n",
        "\n"
      ]
    },
    {
      "cell_type": "code",
      "metadata": {
        "id": "iw0uV7FCS_yH",
        "colab_type": "code",
        "colab": {}
      },
      "source": [
        "def Autoencoder (input_img,dropout):\n",
        "\n",
        "    # The Autoencoder is divided into encoder and decoder\n",
        "    # Shape of input is 32,32,3\n",
        "\n",
        "    # First convolution block of encoder\n",
        "    x = Conv2D(64, (3, 3), activation='relu', padding='same', name = 'Conv1_encoder')(input_img)  # Shape: 32x32x64\n",
        "    x = BatchNormalization(name = 'BN0')(x)\n",
        "    x = Dropout(dropout)(x)\n",
        "\n",
        "    # Second convolution block of encoder\n",
        "    x = Conv2D(64, (3, 3), activation='relu', padding='same', name = 'Conv2_encoder')(x) # Shape: 32x32x64\n",
        "    x = BatchNormalization(name = 'BN1')(x)\n",
        "    \n",
        "    # Max Pooling for dimensions reduction\n",
        "    x = MaxPooling2D((2,2),name = 'MP1')(x)# 16x16x64\n",
        "    x = Dropout(dropout)(x)\n",
        "\n",
        "    # Third convolution block of encoder\n",
        "    x = Conv2D(128, (3, 3), activation='relu', padding='same', name = 'Conv3_encoder')(x) # Shape: 16x16x128\n",
        "    x = BatchNormalization(name = 'BN2')(x)\n",
        "    x = Dropout(dropout)(x)\n",
        "\n",
        "    # Fourth convolution block of encoder\n",
        "    x = Conv2D(128, (3, 3), activation='relu', padding='same', name = 'Conv4_encoder')(x) # Shape: 16x16x128\n",
        "    x = BatchNormalization(name = 'BN3')(x)\n",
        "    \n",
        "    # Max Pooling for dimensions reduction\n",
        "    x = MaxPooling2D((2, 2), padding='same',name = 'MP2')(x) # Shape: 8x8x128\n",
        "    x = Dropout(dropout)(x)\n",
        "\n",
        "    # Fifth convolution block of encoder\n",
        "    x = Conv2D(256, (3, 3), activation='relu', padding='same', name = 'Conv5_encoder')(x) # Shape: 8x8x256\n",
        "    x = BatchNormalization(name = 'BN4')(x)\n",
        "    x = Dropout(dropout)(x)\n",
        "\n",
        "    # Sixth convolution block of encoder\n",
        "    x = Conv2D(256, (3, 3), activation='relu', padding='same', name = 'Conv6_encoder')(x) # Shape: 8x8x256\n",
        "    x = BatchNormalization(name = 'Encoded')(x)\n",
        "\n",
        "    # the encoded representation's shape is 8x8x256\n",
        "    encoded = x\n",
        "\n",
        "    # First convolution block of decoder\n",
        "    x = Conv2D(256, (3, 3), activation='relu', padding='same', name = 'Conv6_decoder')(encoded) # Shape: 8x8x256\n",
        "    x = BatchNormalization(name = 'BN6')(x)\n",
        "    x = Dropout(dropout)(x)\n",
        "\n",
        "    # Second convolution block of decoder\n",
        "    x = Conv2D(256, (3, 3), activation='relu', padding='same', name = 'Conv5_decoder')(x) # Shape: 8x8x256\n",
        "    x = BatchNormalization(name = 'BN7')(x)\n",
        "    \n",
        "    x = UpSampling2D((2,2),name = 'US1')(x) # Shape: 16x16x256\n",
        "    x = Dropout(dropout)(x)\n",
        "\n",
        "    # Third convolution block of decoder\n",
        "    x = Conv2D(128, (3, 3), activation='relu', padding='same', name = 'Conv4_decoder')(x) # Shape: 16x16x128\n",
        "    x = BatchNormalization(name = 'BN8')(x)\n",
        "    x = Dropout(dropout)(x)\n",
        "\n",
        "    # Fourth convolution block of decoder\n",
        "    x = Conv2D(128, (3, 3), activation='relu', padding='same', name = 'Conv3_decoder')(x) # Shape: 16x16x128\n",
        "    x = BatchNormalization(name = 'BN9')(x)\n",
        "    \n",
        "    x = UpSampling2D((2,2),name = 'US2')(x) # Shape: 32x32x128\n",
        "    x = Dropout(dropout)(x)\n",
        "    \n",
        "    # Fifth convolution block of decoder\n",
        "    x = Conv2D(64, (3, 3), activation='relu', padding='same', name = 'Conv2_decoder')(x) # Shape: 32x32x64\n",
        "    x = BatchNormalization(name = 'BN10')(x)\n",
        "    x = Dropout(dropout)(x)\n",
        "\n",
        "    # Sixth convolution block of decoder\n",
        "    x = Conv2D(64, (3, 3), activation='relu', padding='same', name = 'Conv1_decoder')(x) # Shape: 32x32x64\n",
        "    x = BatchNormalization(name = 'BN11')(x)\n",
        "    x = Dropout(dropout)(x)\n",
        "    decoded = Conv2D(3, (3, 3), activation='sigmoid', padding='same', name = 'Output')(x) # Shape: 32x32x3\n",
        "\n",
        "    return (encoded, decoded)"
      ],
      "execution_count": 0,
      "outputs": []
    },
    {
      "cell_type": "markdown",
      "metadata": {
        "id": "aglQ3BaxRTZQ",
        "colab_type": "text"
      },
      "source": [
        "Following function creates autoencoder network.\n",
        "\n",
        "> Arguments:\n",
        "*   dropout -> probability of dropout\n",
        "*   load_weights -> boolean argument deciding if weights of a pre-trained model should be used as initial\n",
        "*   train -> boolean argument deciding if the model should be train (it is possible to just load weights without training)\n",
        "*   save_model -> boolean deciding if model and its weigths be save on google drive\n",
        "*   augmentation -> boolean deciding if augmentation is used\n",
        "*   model_name -> string with the name of file with weigths to be saved\n",
        "\n",
        "\n",
        "\n",
        "\n",
        "> Returns:\n",
        "*   model_autoenc -> a class of created model\n",
        "*   history -> a history of training process (if trained)\n"
      ]
    },
    {
      "cell_type": "code",
      "metadata": {
        "id": "Xm8o1Y44UIwH",
        "colab_type": "code",
        "colab": {}
      },
      "source": [
        "def autoencoder_train(x_train, x_dev,dropout,load_weights = False, train_model = True, save_model = False, augmentation = False, model_name=''):\n",
        "  # Creating the tensor of input layer\n",
        "  input_img = Input(shape = (32,32,3))\n",
        "\n",
        "  # Creating a model based on architecture from Autoencoder function\n",
        "  model_autoenc = Model(input_img,Autoencoder(input_img,dropout)[1],name = 'Autoencoder')\n",
        "\n",
        "  # Defining Adam as used optimizer\n",
        "  Adam = tf.keras.optimizers.Adam(learning_rate=0.001, beta_1=0.9, beta_2=0.999, amsgrad=False)\n",
        "\n",
        "  # Compiling the model with mean square error as loss function, because it will represent how much information is lost by average in each pixel  \n",
        "  model_autoenc.compile(optimizer='adam', loss='mse', metrics=['accuracy'])\n",
        "\n",
        "  # Printing model's architecture\n",
        "  model_autoenc.summary()\n",
        "\n",
        "  # Loading weights from google drive file\n",
        "  if load_weights:\n",
        "    last_weight_file = drive.CreateFile({'id': '1uQ4fMOlGQeXj-Wh7az6bixJcFJAymez0'}) \n",
        "    last_weight_file.GetContentFile('last_weights.mat')\n",
        "    model_autoenc.load_weights('last_weights.mat')\n",
        "    print('Weights loaded.')\n",
        "\n",
        "  # Autoencoder training\n",
        "  if train_model:\n",
        "  \n",
        "  # Creating data generator \n",
        "    if augmentation:\n",
        "      datagen = ImageDataGenerator(\n",
        "        featurewise_center=False,  # set input mean to 0 over the dataset\n",
        "        samplewise_center=False,  # set each sample mean to 0\n",
        "        featurewise_std_normalization=False,  # divide inputs by std of the dataset\n",
        "        samplewise_std_normalization=False,  # divide each input by its std\n",
        "        zca_whitening=False,  # apply ZCA whitening\n",
        "        rotation_range=15,  # randomly rotate images in the range (degrees, 0 to 180)\n",
        "        width_shift_range=0.1,  # randomly shift images horizontally (fraction of total width)\n",
        "        height_shift_range=0.1,  # randomly shift images vertically (fraction of total height)\n",
        "        zoom_range=0.1,\n",
        "        shear_range=0.1,\n",
        "        horizontal_flip=True,  # randomly flip images\n",
        "        vertical_flip=False)  # randomly flip images\n",
        "      \n",
        "      # Fitting data generator to training dataset\n",
        "      datagen.fit(x_train)\n",
        "\n",
        "      # Training\n",
        "      history = model_autoenc.fit_generator(datagen.flow(x_train, x_train,\n",
        "                                      batch_size=256),\n",
        "                          steps_per_epoch=x_train.shape[0] // batch_size,\n",
        "                          epochs=50,\n",
        "                          validation_data=(x_dev, x_dev),verbose=2)\n",
        "    \n",
        "    # Training without augmentation option\n",
        "    else:\n",
        "        history = model_autoenc.fit(x_train, x_train, validation_data=(x_dev, x_dev), epochs = 50, batch_size = 256,verbose = 2)\n",
        "    print('Training finished.')\n",
        "  else:\n",
        "    history = None\n",
        "  if save_model:\n",
        "    # Saving model on Google Drive\n",
        "    model_autoenc.save(model_name + '.h5')    \n",
        "    model_file = drive.CreateFile({'title' : model_name + '.h5'})\n",
        "    model_file.SetContentFile(model_name + '.h5')\n",
        "    model_file.Upload()\n",
        "    drive.CreateFile({'id': model_file.get('id')})\n",
        "    print(f\"Model saved, id: {model_file.get('''id''')}\")\n",
        "\n",
        "    # Saving weights on Google Drive\n",
        "    model_autoenc.save_weights(model_name + '_weights.h5')\n",
        "    weights_file = drive.CreateFile({'title' : model_name + '_weights.h5'})\n",
        "    weights_file.SetContentFile(model_name + '_weights.h5')\n",
        "    weights_file.Upload()\n",
        "    drive.CreateFile({'id': weights_file.get('id')})\n",
        "    print(f\"Weights saved, id: {model_file.get('''id''')}\")\n",
        "\n",
        "  return model_autoenc, history"
      ],
      "execution_count": 0,
      "outputs": []
    },
    {
      "cell_type": "markdown",
      "metadata": {
        "id": "7_IugEG478gu",
        "colab_type": "text"
      },
      "source": [
        "Now autoencoder model can be created. By default, weights from a pre-trained mode are used.\n",
        "\n",
        "Note:\n",
        "If download error is raised, please rerun first cell from the script."
      ]
    },
    {
      "cell_type": "code",
      "metadata": {
        "id": "eKbAQuhG78sV",
        "colab_type": "code",
        "outputId": "102547c8-c6d6-4927-c902-2cff958fb5ae",
        "colab": {
          "base_uri": "https://localhost:8080/",
          "height": 1000
        }
      },
      "source": [
        "model_autoenc, history = autoencoder_train(X_train_augmented, X_dev, 0.1,load_weights = True, train_model = False,save_model=False,augmentation = False)"
      ],
      "execution_count": 24,
      "outputs": [
        {
          "output_type": "stream",
          "text": [
            "Model: \"Autoencoder\"\n",
            "_________________________________________________________________\n",
            "Layer (type)                 Output Shape              Param #   \n",
            "=================================================================\n",
            "input_3 (InputLayer)         [(None, 32, 32, 3)]       0         \n",
            "_________________________________________________________________\n",
            "Conv1_encoder (Conv2D)       (None, 32, 32, 64)        1792      \n",
            "_________________________________________________________________\n",
            "BN0 (BatchNormalization)     (None, 32, 32, 64)        256       \n",
            "_________________________________________________________________\n",
            "dropout_22 (Dropout)         (None, 32, 32, 64)        0         \n",
            "_________________________________________________________________\n",
            "Conv2_encoder (Conv2D)       (None, 32, 32, 64)        36928     \n",
            "_________________________________________________________________\n",
            "BN1 (BatchNormalization)     (None, 32, 32, 64)        256       \n",
            "_________________________________________________________________\n",
            "MP1 (MaxPooling2D)           (None, 16, 16, 64)        0         \n",
            "_________________________________________________________________\n",
            "dropout_23 (Dropout)         (None, 16, 16, 64)        0         \n",
            "_________________________________________________________________\n",
            "Conv3_encoder (Conv2D)       (None, 16, 16, 128)       73856     \n",
            "_________________________________________________________________\n",
            "BN2 (BatchNormalization)     (None, 16, 16, 128)       512       \n",
            "_________________________________________________________________\n",
            "dropout_24 (Dropout)         (None, 16, 16, 128)       0         \n",
            "_________________________________________________________________\n",
            "Conv4_encoder (Conv2D)       (None, 16, 16, 128)       147584    \n",
            "_________________________________________________________________\n",
            "BN3 (BatchNormalization)     (None, 16, 16, 128)       512       \n",
            "_________________________________________________________________\n",
            "MP2 (MaxPooling2D)           (None, 8, 8, 128)         0         \n",
            "_________________________________________________________________\n",
            "dropout_25 (Dropout)         (None, 8, 8, 128)         0         \n",
            "_________________________________________________________________\n",
            "Conv5_encoder (Conv2D)       (None, 8, 8, 256)         295168    \n",
            "_________________________________________________________________\n",
            "BN4 (BatchNormalization)     (None, 8, 8, 256)         1024      \n",
            "_________________________________________________________________\n",
            "dropout_26 (Dropout)         (None, 8, 8, 256)         0         \n",
            "_________________________________________________________________\n",
            "Conv6_encoder (Conv2D)       (None, 8, 8, 256)         590080    \n",
            "_________________________________________________________________\n",
            "Encoded (BatchNormalization) (None, 8, 8, 256)         1024      \n",
            "_________________________________________________________________\n",
            "Conv6_decoder (Conv2D)       (None, 8, 8, 256)         590080    \n",
            "_________________________________________________________________\n",
            "BN6 (BatchNormalization)     (None, 8, 8, 256)         1024      \n",
            "_________________________________________________________________\n",
            "dropout_27 (Dropout)         (None, 8, 8, 256)         0         \n",
            "_________________________________________________________________\n",
            "Conv5_decoder (Conv2D)       (None, 8, 8, 256)         590080    \n",
            "_________________________________________________________________\n",
            "BN7 (BatchNormalization)     (None, 8, 8, 256)         1024      \n",
            "_________________________________________________________________\n",
            "US1 (UpSampling2D)           (None, 16, 16, 256)       0         \n",
            "_________________________________________________________________\n",
            "dropout_28 (Dropout)         (None, 16, 16, 256)       0         \n",
            "_________________________________________________________________\n",
            "Conv4_decoder (Conv2D)       (None, 16, 16, 128)       295040    \n",
            "_________________________________________________________________\n",
            "BN8 (BatchNormalization)     (None, 16, 16, 128)       512       \n",
            "_________________________________________________________________\n",
            "dropout_29 (Dropout)         (None, 16, 16, 128)       0         \n",
            "_________________________________________________________________\n",
            "Conv3_decoder (Conv2D)       (None, 16, 16, 128)       147584    \n",
            "_________________________________________________________________\n",
            "BN9 (BatchNormalization)     (None, 16, 16, 128)       512       \n",
            "_________________________________________________________________\n",
            "US2 (UpSampling2D)           (None, 32, 32, 128)       0         \n",
            "_________________________________________________________________\n",
            "dropout_30 (Dropout)         (None, 32, 32, 128)       0         \n",
            "_________________________________________________________________\n",
            "Conv2_decoder (Conv2D)       (None, 32, 32, 64)        73792     \n",
            "_________________________________________________________________\n",
            "BN10 (BatchNormalization)    (None, 32, 32, 64)        256       \n",
            "_________________________________________________________________\n",
            "dropout_31 (Dropout)         (None, 32, 32, 64)        0         \n",
            "_________________________________________________________________\n",
            "Conv1_decoder (Conv2D)       (None, 32, 32, 64)        36928     \n",
            "_________________________________________________________________\n",
            "BN11 (BatchNormalization)    (None, 32, 32, 64)        256       \n",
            "_________________________________________________________________\n",
            "dropout_32 (Dropout)         (None, 32, 32, 64)        0         \n",
            "_________________________________________________________________\n",
            "Output (Conv2D)              (None, 32, 32, 3)         1731      \n",
            "=================================================================\n",
            "Total params: 2,887,811\n",
            "Trainable params: 2,884,227\n",
            "Non-trainable params: 3,584\n",
            "_________________________________________________________________\n",
            "Weights loaded.\n"
          ],
          "name": "stdout"
        }
      ]
    },
    {
      "cell_type": "markdown",
      "metadata": {
        "id": "sHr8k0_g91Q_",
        "colab_type": "text"
      },
      "source": [
        "Following function visualize training process."
      ]
    },
    {
      "cell_type": "code",
      "metadata": {
        "id": "scLHUSiadRK6",
        "colab_type": "code",
        "colab": {}
      },
      "source": [
        "def visualize_training(history):\n",
        "  import matplotlib.pyplot as plt\n",
        "\n",
        "  figure,ax = plt.subplots(1,2,figsize = (10,4))\n",
        "  ax[0].plot(history.history['acc'])\n",
        "  ax[0].plot(history.history['val_acc'])\n",
        "  ax[0].set_title('Model accuracy')\n",
        "  ax[0].set_ylabel('Accuracy')\n",
        "  ax[0].set_xlabel('Epoch')\n",
        "  ax[0].legend(['Train', 'Test'], loc='upper left')\n",
        "\n",
        "  # Plot training & validation loss values\n",
        "  ax[1].plot(history.history['loss'])\n",
        "  ax[1].plot(history.history['val_loss'])\n",
        "  ax[1].set_title('Model loss')\n",
        "  ax[1].set_ylabel('Loss')\n",
        "  ax[1].set_xlabel('Epoch')\n",
        "  ax[1].legend(['Train', 'Test'], loc='upper left')\n",
        "  plt.show()"
      ],
      "execution_count": 0,
      "outputs": []
    },
    {
      "cell_type": "code",
      "metadata": {
        "id": "tpdiOLC9A0vp",
        "colab_type": "code",
        "colab": {}
      },
      "source": [
        "if history!=None:\n",
        "  visualize_training(history)"
      ],
      "execution_count": 0,
      "outputs": []
    },
    {
      "cell_type": "markdown",
      "metadata": {
        "id": "gR2hjthPX4AZ",
        "colab_type": "text"
      },
      "source": [
        "Let's see the example of input image and decoded output from autoencoder."
      ]
    },
    {
      "cell_type": "code",
      "metadata": {
        "id": "Y9PyhbowWG4H",
        "colab_type": "code",
        "outputId": "6ea95106-c6e0-47d7-89f9-198aa39f40fe",
        "colab": {
          "base_uri": "https://localhost:8080/",
          "height": 531
        }
      },
      "source": [
        "import matplotlib.pyplot as plt\n",
        "\n",
        "i = np.random.randint(5000)\n",
        "decoded = model_autoenc.predict(np.reshape(X_test[i],(-1,32,32,3)))\n",
        "plt.imshow(X_test[i])\n",
        "plt.show()\n",
        "plt.imshow(decoded[0])"
      ],
      "execution_count": 27,
      "outputs": [
        {
          "output_type": "display_data",
          "data": {
            "image/png": "[encoded data removed]",
            "text/plain": [
              "<Figure size 432x288 with 1 Axes>"
            ]
          },
          "metadata": {
            "tags": []
          }
        },
        {
          "output_type": "execute_result",
          "data": {
            "text/plain": [
              "<matplotlib.image.AxesImage at 0x7f7a7655a0b8>"
            ]
          },
          "metadata": {
            "tags": []
          },
          "execution_count": 27
        },
        {
          "output_type": "display_data",
          "data": {
            "image/png": "[encoded data removed]",
            "text/plain": [
              "<Figure size 432x288 with 1 Axes>"
            ]
          },
          "metadata": {
            "tags": []
          }
        }
      ]
    },
    {
      "cell_type": "markdown",
      "metadata": {
        "id": "zhgQy4dEX9uQ",
        "colab_type": "text"
      },
      "source": [
        "It seems that not much information is lost. It means that the autoencoder does not decrease variance of image."
      ]
    },
    {
      "cell_type": "markdown",
      "metadata": {
        "id": "Wqn3ESEUChmX",
        "colab_type": "text"
      },
      "source": [
        "**Classifier development**"
      ]
    },
    {
      "cell_type": "markdown",
      "metadata": {
        "id": "z800VUeJajqE",
        "colab_type": "text"
      },
      "source": [
        "Now let's create another network for final classification, which will be 'attached' to the hidden layer inside of the developed autoencoder called. The goal is to use features extracted by autoencoder as input to classification network in order to achieve accurate classification."
      ]
    },
    {
      "cell_type": "markdown",
      "metadata": {
        "id": "cYIgFp08wgNR",
        "colab_type": "text"
      },
      "source": [
        "Following function build the classification model consisting of 2 convolutional blocks (Conv, Batch_norm, Activation and dropout) using autoencoder's hidden layer as input.\n",
        "\n",
        "> Arguments:\n",
        "*   encoded -> tensor of input layer for the network\n",
        "*   weights_decay -> l2 regularization parameter\n",
        "*   train -> boolean argument deciding if the model should be train (it is possible to just load weights without training)\n",
        "*   num_classes -> number of classes\n",
        "*   dropout -> the probability of dropout \n",
        "\n",
        "\n",
        "\n",
        "> Returns:\n",
        "*   X -> tensor with output layer of classifier (shape [m,10])"
      ]
    },
    {
      "cell_type": "code",
      "metadata": {
        "id": "cI6ty26SE8A0",
        "colab_type": "code",
        "colab": {}
      },
      "source": [
        "def build_model(encoded,weight_decay,num_classes,dropout,dropout_fc):\n",
        "\n",
        "      # First convolutional block\n",
        "      X = Conv2D(512, (3, 3), padding='same',kernel_regularizer=regularizers.l2(weight_decay))(encoded)\n",
        "      X = BatchNormalization()(X)\n",
        "      X = Activation('relu')(X)\n",
        "      \n",
        "      X = MaxPooling2D(pool_size=(2, 2))(X)\n",
        "      X = Dropout(dropout)(X)\n",
        "\n",
        "      # First convolutional block\n",
        "      X = Conv2D(512, (3, 3), padding='same',kernel_regularizer=regularizers.l2(weight_decay))(X)\n",
        "      X = BatchNormalization()(X)\n",
        "      X = Activation('relu')(X)  \n",
        "      \n",
        "      X = MaxPooling2D(pool_size=(2, 2))(X)\n",
        "      X = Dropout(dropout)(X)\n",
        "\n",
        "      # First fully connected layer\n",
        "      X = Flatten()(X)\n",
        "      X = Dense(1024,kernel_regularizer=regularizers.l2(weight_decay))(X)\n",
        "      X = BatchNormalization()(X)\n",
        "      X = Activation('relu')(X)  \n",
        "      X = Dropout(dropout_fc)(X)\n",
        "\n",
        "      # Second fully connected layer\n",
        "      X = Dense(1024,kernel_regularizer=regularizers.l2(weight_decay))(X)\n",
        "      X = BatchNormalization()(X)\n",
        "      X = Activation('relu')(X)  \n",
        "      X = Dropout(dropout_fc)(X)\n",
        "\n",
        "      # Output layer with softmax function\n",
        "      X = Dense(num_classes)(X)\n",
        "      X = Activation('softmax')(X)\n",
        "      \n",
        "      return X"
      ],
      "execution_count": 0,
      "outputs": []
    },
    {
      "cell_type": "markdown",
      "metadata": {
        "id": "bqDIQAyjF18z",
        "colab_type": "text"
      },
      "source": [
        "Nextr function is for training the classifier\n",
        "\n",
        "> Arguments:\n",
        "*   epochs -> number of epochs for training\n",
        "*   model_classifier -> instance of a model to be trained\n",
        "*   x_train -> training dataset\n",
        "*   y_train -> training labels\n",
        "*   x_dev -> development dataset\n",
        "*   y_dev -> development labels\n",
        "*   learning rate\n",
        "*   augmentation -> boolean deciding if augmentation is used\n",
        "\n",
        "\n",
        "\n",
        "> Returns:\n",
        "*   model_classifier -> trained model\n",
        "*   history -> training history"
      ]
    },
    {
      "cell_type": "code",
      "metadata": {
        "id": "iyPQFlFlF2Jv",
        "colab_type": "code",
        "colab": {}
      },
      "source": [
        "def train(epochs,model_classifier,x_train,y_train,x_dev,y_dev,learning_rate=0.001, augmentation = True):\n",
        "\n",
        "    #training parameters\n",
        "    batch_size = 128\n",
        "\n",
        "    #data augmentation\n",
        "    datagen = ImageDataGenerator(\n",
        "        featurewise_center=False,  # set input mean to 0 over the dataset\n",
        "        samplewise_center=False,  # set each sample mean to 0\n",
        "        featurewise_std_normalization=False,  # divide inputs by std of the dataset\n",
        "        samplewise_std_normalization=False,  # divide each input by its std\n",
        "        zca_whitening=False,  # apply ZCA whitening\n",
        "        rotation_range=15,  # randomly rotate images in the range (degrees, 0 to 180)\n",
        "        width_shift_range=0.1,  # randomly shift images horizontally (fraction of total width)\n",
        "        height_shift_range=0.1,  # randomly shift images vertically (fraction of total height)\n",
        "        zoom_range=0.1,\n",
        "        shear_range=0.1,\n",
        "        horizontal_flip=True,  # randomly flip images\n",
        "        vertical_flip=False)  # randomly flip images\n",
        "    \n",
        "    # Fitting generator to training dataset\n",
        "    datagen.fit(x_train)\n",
        "\n",
        "    # class weights for loss function\n",
        "    class_weight = {0: 1.,1: 1.,2: 5.,3: 2.,4: 3.,5: 4.,6: 1.,7: 1.,8: 1.,9: 1.}\n",
        "\n",
        "    # Training with augmentation\n",
        "    if augmentation:\n",
        "      history = model_classifier.fit_generator(datagen.flow(x_train, y_train,\n",
        "                                      batch_size=batch_size),\n",
        "                          steps_per_epoch=x_train.shape[0] // batch_size,\n",
        "                          epochs=epochs,\n",
        "                          validation_data=(x_dev, y_dev),verbose=2,class_weight = class_weight)\n",
        "    \n",
        "    else:  \n",
        "      history = model_classifier.fit(x_train,y_train, batch_size=batch_size,epochs=maxepoches,validation_data=(x_test, y_test),verbose=1,class_weight = class_weight)\n",
        "\n",
        "    return model_classifier, history"
      ],
      "execution_count": 0,
      "outputs": []
    },
    {
      "cell_type": "markdown",
      "metadata": {
        "id": "-ADN9iHtF8aj",
        "colab_type": "text"
      },
      "source": [
        "Nextr function is for training the classifier\n",
        "\n",
        "> Arguments:\n",
        "*   epochs -> number of epochs for training\n",
        "*   x_train -> training dataset\n",
        "*   y_train -> training labels\n",
        "*   x_dev -> development dataset\n",
        "*   y_dev -> development labels\n",
        "*   load_weights -> boolean deciding if pre-trained weigths should be downloaded\n",
        "*   train_model -> boolean deciding if training process is executed\n",
        "*   trainable_autoencoder -> boolean deciding if autoencoder layers are trainable\n",
        "*   save_weights -> boolean deciding if optimized weights are saved on google drive\n",
        "*   augmentation -> boolean deciding if augmentation is used\n",
        "*   learning rate\n",
        "*   dropout -> probability for classifier's CNN layers\n",
        "*   dropout_fc -> probability for fully connected layers\n",
        "*   weights_id -> google drive id of weights to be loaded\n",
        "*   model_name -> name of model for saved files\n",
        "\n",
        "\n",
        "> Returns:\n",
        "*   model -> trained model\n",
        "*   history -> training history"
      ]
    },
    {
      "cell_type": "code",
      "metadata": {
        "id": "oDofFvbFF8h7",
        "colab_type": "code",
        "colab": {}
      },
      "source": [
        "from tensorflow.keras import optimizers\n",
        "\n",
        "def build_and_train(epochs,x_train,y_train,x_dev,y_dev,load_weights=True,train_model=True,trainable_autoencoder=True, save_weights = False, augmentation = True,learning_rate=0.001, dropout = 0.1, weights_id = None,ae_drop = 0.0, dropout_fc=0.3,model_name=''):\n",
        "  \n",
        "    # Model parameters\n",
        "    num_classes = 10\n",
        "    weight_decay = 0\n",
        "    x_shape = [32,32,3]\n",
        "    input_img = Input((32,32,3))\n",
        "\n",
        "    # Creating instance of encoder's part of autoencoder model\n",
        "    encoded = Autoencoder(input_img,ae_drop)[0]\n",
        "\n",
        "    # Joining classifier with encoder\n",
        "    model = Model(input_img,build_model(encoded,weight_decay,num_classes,dropout,dropout_fc=dropout_fc))\n",
        "\n",
        "    # Copying weights from encoder\n",
        "    for l1,l2 in zip(model.layers[:20],model_autoenc.layers[:20]):\n",
        "      l1.set_weights(l2.get_weights())\n",
        "\n",
        "    # Choosing trainability of encoder's layers\n",
        "    for layer in model.layers[0:20]:\n",
        "      layer.trainable = trainable_autoencoder\n",
        "\n",
        "    # Loading weights of a whole classifier (if set)\n",
        "    if load_weights:\n",
        "      last_weight_file = drive.CreateFile({'id': weights_id}) \n",
        "      last_weight_file.GetContentFile('last_weights.mat')\n",
        "      model.load_weights('last_weights.mat')\n",
        "\n",
        "    # Printing model's structure\n",
        "    model.summary()\n",
        "\n",
        "    # Using Adam optimizer\n",
        "    adam = optimizers.Adam(learning_rate=learning_rate, beta_1=0.9, beta_2=0.999, amsgrad=False)\n",
        "\n",
        "    # Compiling the model\n",
        "    model.compile(loss='categorical_crossentropy', optimizer=adam,metrics=['accuracy'])\n",
        "\n",
        "    # Training the model\n",
        "    if train_model:\n",
        "      model,history = train(epochs, model,x_train,y_train,x_dev,y_dev,learning_rate,augmentation)\n",
        "    else:\n",
        "      history=None\n",
        "\n",
        "    if save_weights:\n",
        "      # saving model\n",
        "      model.save(model_name + '.h5')    \n",
        "      model_file = drive.CreateFile({'title' : model_name + '.h5'})\n",
        "      model_file.SetContentFile(model_name + '.h5')\n",
        "      model_file.Upload()\n",
        "      drive.CreateFile({'id': model_file.get('id')})\n",
        "      print(f\"Model saved, id: {model_file.get('''id''')}\")\n",
        "\n",
        "      # saving weights\n",
        "      model.save_weights(model_name + '_weights.h5')\n",
        "      weights_file = drive.CreateFile({'title' : model_name + '_weights.h5'})\n",
        "      weights_file.SetContentFile(model_name + '_weights.h5')\n",
        "      weights_file.Upload()\n",
        "      drive.CreateFile({'id': weights_file.get('id')})\n",
        "      print(f\"Weights saved, id: {model_file.get('''id''')}\")\n",
        "\n",
        "    return model,history\n"
      ],
      "execution_count": 0,
      "outputs": []
    },
    {
      "cell_type": "markdown",
      "metadata": {
        "id": "LmvbQz9_s7AG",
        "colab_type": "text"
      },
      "source": [
        "Let's use these functions to train model."
      ]
    },
    {
      "cell_type": "code",
      "metadata": {
        "id": "2t12pjVOc4pl",
        "colab_type": "code",
        "outputId": "f88c60fb-9961-4338-c100-dfa01badade0",
        "colab": {
          "base_uri": "https://localhost:8080/",
          "height": 1000
        }
      },
      "source": [
        "with tf.device('/device:GPU:0'):\n",
        "  model_classifier1,history = build_and_train(100,X_train_augmented,Y_train_augmented,X_dev,Y_dev,load_weights=False, train_model=True,trainable_autoencoder=True, save_weights = False,dropout = 0.4, ae_drop = 0.4, dropout_fc=0.4,weights_id = '1YFjoNan-Uyir-9ul6CBbGNN2QnAJik6t')"
      ],
      "execution_count": 36,
      "outputs": [
        {
          "output_type": "stream",
          "text": [
            "Model: \"model_1\"\n",
            "_________________________________________________________________\n",
            "Layer (type)                 Output Shape              Param #   \n",
            "=================================================================\n",
            "input_5 (InputLayer)         [(None, 32, 32, 3)]       0         \n",
            "_________________________________________________________________\n",
            "Conv1_encoder (Conv2D)       (None, 32, 32, 64)        1792      \n",
            "_________________________________________________________________\n",
            "BN0 (BatchNormalization)     (None, 32, 32, 64)        256       \n",
            "_________________________________________________________________\n",
            "dropout_48 (Dropout)         (None, 32, 32, 64)        0         \n",
            "_________________________________________________________________\n",
            "Conv2_encoder (Conv2D)       (None, 32, 32, 64)        36928     \n",
            "_________________________________________________________________\n",
            "BN1 (BatchNormalization)     (None, 32, 32, 64)        256       \n",
            "_________________________________________________________________\n",
            "MP1 (MaxPooling2D)           (None, 16, 16, 64)        0         \n",
            "_________________________________________________________________\n",
            "dropout_49 (Dropout)         (None, 16, 16, 64)        0         \n",
            "_________________________________________________________________\n",
            "Conv3_encoder (Conv2D)       (None, 16, 16, 128)       73856     \n",
            "_________________________________________________________________\n",
            "BN2 (BatchNormalization)     (None, 16, 16, 128)       512       \n",
            "_________________________________________________________________\n",
            "dropout_50 (Dropout)         (None, 16, 16, 128)       0         \n",
            "_________________________________________________________________\n",
            "Conv4_encoder (Conv2D)       (None, 16, 16, 128)       147584    \n",
            "_________________________________________________________________\n",
            "BN3 (BatchNormalization)     (None, 16, 16, 128)       512       \n",
            "_________________________________________________________________\n",
            "MP2 (MaxPooling2D)           (None, 8, 8, 128)         0         \n",
            "_________________________________________________________________\n",
            "dropout_51 (Dropout)         (None, 8, 8, 128)         0         \n",
            "_________________________________________________________________\n",
            "Conv5_encoder (Conv2D)       (None, 8, 8, 256)         295168    \n",
            "_________________________________________________________________\n",
            "BN4 (BatchNormalization)     (None, 8, 8, 256)         1024      \n",
            "_________________________________________________________________\n",
            "dropout_52 (Dropout)         (None, 8, 8, 256)         0         \n",
            "_________________________________________________________________\n",
            "Conv6_encoder (Conv2D)       (None, 8, 8, 256)         590080    \n",
            "_________________________________________________________________\n",
            "Encoded (BatchNormalization) (None, 8, 8, 256)         1024      \n",
            "_________________________________________________________________\n",
            "conv2d_2 (Conv2D)            (None, 8, 8, 512)         1180160   \n",
            "_________________________________________________________________\n",
            "batch_normalization_4 (Batch (None, 8, 8, 512)         2048      \n",
            "_________________________________________________________________\n",
            "activation_5 (Activation)    (None, 8, 8, 512)         0         \n",
            "_________________________________________________________________\n",
            "max_pooling2d_2 (MaxPooling2 (None, 4, 4, 512)         0         \n",
            "_________________________________________________________________\n",
            "dropout_59 (Dropout)         (None, 4, 4, 512)         0         \n",
            "_________________________________________________________________\n",
            "conv2d_3 (Conv2D)            (None, 4, 4, 512)         2359808   \n",
            "_________________________________________________________________\n",
            "batch_normalization_5 (Batch (None, 4, 4, 512)         2048      \n",
            "_________________________________________________________________\n",
            "activation_6 (Activation)    (None, 4, 4, 512)         0         \n",
            "_________________________________________________________________\n",
            "max_pooling2d_3 (MaxPooling2 (None, 2, 2, 512)         0         \n",
            "_________________________________________________________________\n",
            "dropout_60 (Dropout)         (None, 2, 2, 512)         0         \n",
            "_________________________________________________________________\n",
            "flatten_1 (Flatten)          (None, 2048)              0         \n",
            "_________________________________________________________________\n",
            "dense_3 (Dense)              (None, 1024)              2098176   \n",
            "_________________________________________________________________\n",
            "batch_normalization_6 (Batch (None, 1024)              4096      \n",
            "_________________________________________________________________\n",
            "activation_7 (Activation)    (None, 1024)              0         \n",
            "_________________________________________________________________\n",
            "dropout_61 (Dropout)         (None, 1024)              0         \n",
            "_________________________________________________________________\n",
            "dense_4 (Dense)              (None, 1024)              1049600   \n",
            "_________________________________________________________________\n",
            "batch_normalization_7 (Batch (None, 1024)              4096      \n",
            "_________________________________________________________________\n",
            "activation_8 (Activation)    (None, 1024)              0         \n",
            "_________________________________________________________________\n",
            "dropout_62 (Dropout)         (None, 1024)              0         \n",
            "_________________________________________________________________\n",
            "dense_5 (Dense)              (None, 10)                10250     \n",
            "_________________________________________________________________\n",
            "activation_9 (Activation)    (None, 10)                0         \n",
            "=================================================================\n",
            "Total params: 7,859,274\n",
            "Trainable params: 7,851,338\n",
            "Non-trainable params: 7,936\n",
            "_________________________________________________________________\n",
            "Epoch 1/100\n",
            "Epoch 1/100\n",
            "5000/390 - 2s - loss: 19.0028 - acc: 0.2480\n",
            "390/390 - 57s - loss: 3.4891 - acc: 0.3165 - val_loss: 12.2279 - val_acc: 0.2480\n",
            "Epoch 2/100\n",
            "Epoch 1/100\n",
            "5000/390 - 2s - loss: 1.0597 - acc: 0.5618\n",
            "390/390 - 54s - loss: 2.8641 - acc: 0.4422 - val_loss: 1.2796 - val_acc: 0.5618\n",
            "Epoch 3/100\n",
            "Epoch 1/100\n",
            "5000/390 - 2s - loss: 1.1572 - acc: 0.5994\n",
            "390/390 - 53s - loss: 2.4694 - acc: 0.5196 - val_loss: 1.1254 - val_acc: 0.5994\n",
            "Epoch 4/100\n",
            "Epoch 1/100\n",
            "5000/390 - 2s - loss: 0.9865 - acc: 0.6534\n",
            "390/390 - 54s - loss: 2.2336 - acc: 0.5666 - val_loss: 1.0139 - val_acc: 0.6534\n",
            "Epoch 5/100\n",
            "Epoch 1/100\n",
            "5000/390 - 3s - loss: 0.7007 - acc: 0.7220\n",
            "390/390 - 54s - loss: 2.0427 - acc: 0.6093 - val_loss: 0.7931 - val_acc: 0.7220\n",
            "Epoch 6/100\n",
            "Epoch 1/100\n",
            "5000/390 - 3s - loss: 1.0334 - acc: 0.7232\n",
            "390/390 - 54s - loss: 1.8882 - acc: 0.6404 - val_loss: 0.8765 - val_acc: 0.7232\n",
            "Epoch 7/100\n",
            "Epoch 1/100\n",
            "5000/390 - 2s - loss: 0.7609 - acc: 0.7354\n",
            "390/390 - 54s - loss: 1.7837 - acc: 0.6604 - val_loss: 0.7834 - val_acc: 0.7354\n",
            "Epoch 8/100\n",
            "Epoch 1/100\n",
            "5000/390 - 2s - loss: 0.5216 - acc: 0.7560\n",
            "390/390 - 54s - loss: 1.6928 - acc: 0.6797 - val_loss: 0.7181 - val_acc: 0.7560\n",
            "Epoch 9/100\n",
            "Epoch 1/100\n",
            "5000/390 - 4s - loss: 0.8268 - acc: 0.7424\n",
            "390/390 - 56s - loss: 1.6156 - acc: 0.6977 - val_loss: 0.8012 - val_acc: 0.7424\n",
            "Epoch 10/100\n",
            "Epoch 1/100\n",
            "5000/390 - 4s - loss: 0.5443 - acc: 0.7450\n",
            "390/390 - 55s - loss: 1.5442 - acc: 0.7115 - val_loss: 0.8108 - val_acc: 0.7450\n",
            "Epoch 11/100\n",
            "Epoch 1/100\n",
            "5000/390 - 3s - loss: 0.6118 - acc: 0.7794\n",
            "390/390 - 55s - loss: 1.4757 - acc: 0.7223 - val_loss: 0.6553 - val_acc: 0.7794\n",
            "Epoch 12/100\n",
            "Epoch 1/100\n",
            "5000/390 - 4s - loss: 0.4179 - acc: 0.7874\n",
            "390/390 - 56s - loss: 1.4175 - acc: 0.7350 - val_loss: 0.5890 - val_acc: 0.7874\n",
            "Epoch 13/100\n",
            "Epoch 1/100\n",
            "5000/390 - 4s - loss: 0.6644 - acc: 0.7746\n",
            "390/390 - 57s - loss: 1.3706 - acc: 0.7440 - val_loss: 0.6689 - val_acc: 0.7746\n",
            "Epoch 14/100\n",
            "Epoch 1/100\n",
            "5000/390 - 4s - loss: 0.6559 - acc: 0.7422\n",
            "390/390 - 57s - loss: 1.3525 - acc: 0.7492 - val_loss: 0.7734 - val_acc: 0.7422\n",
            "Epoch 15/100\n",
            "Epoch 1/100\n",
            "5000/390 - 4s - loss: 0.4038 - acc: 0.8090\n",
            "390/390 - 57s - loss: 1.2994 - acc: 0.7569 - val_loss: 0.5389 - val_acc: 0.8090\n",
            "Epoch 16/100\n",
            "Epoch 1/100\n",
            "5000/390 - 4s - loss: 0.4039 - acc: 0.7940\n",
            "390/390 - 57s - loss: 1.2598 - acc: 0.7632 - val_loss: 0.5970 - val_acc: 0.7940\n",
            "Epoch 17/100\n",
            "Epoch 1/100\n",
            "5000/390 - 4s - loss: 0.4161 - acc: 0.8088\n",
            "390/390 - 58s - loss: 1.2375 - acc: 0.7675 - val_loss: 0.5466 - val_acc: 0.8088\n",
            "Epoch 18/100\n",
            "Epoch 1/100\n",
            "5000/390 - 4s - loss: 0.6391 - acc: 0.8314\n",
            "390/390 - 58s - loss: 1.1945 - acc: 0.7785 - val_loss: 0.5257 - val_acc: 0.8314\n",
            "Epoch 19/100\n",
            "Epoch 1/100\n",
            "5000/390 - 5s - loss: 0.3960 - acc: 0.8114\n",
            "390/390 - 58s - loss: 1.1620 - acc: 0.7822 - val_loss: 0.5602 - val_acc: 0.8114\n",
            "Epoch 20/100\n",
            "Epoch 1/100\n",
            "5000/390 - 5s - loss: 0.4108 - acc: 0.8114\n",
            "390/390 - 58s - loss: 1.1364 - acc: 0.7863 - val_loss: 0.5319 - val_acc: 0.8114\n",
            "Epoch 21/100\n",
            "Epoch 1/100\n",
            "5000/390 - 5s - loss: 0.4506 - acc: 0.8358\n",
            "390/390 - 59s - loss: 1.1079 - acc: 0.7928 - val_loss: 0.5370 - val_acc: 0.8358\n",
            "Epoch 22/100\n",
            "Epoch 1/100\n",
            "5000/390 - 5s - loss: 0.3132 - acc: 0.8386\n",
            "390/390 - 60s - loss: 1.0967 - acc: 0.7950 - val_loss: 0.4694 - val_acc: 0.8386\n",
            "Epoch 23/100\n",
            "Epoch 1/100\n",
            "5000/390 - 5s - loss: 0.3714 - acc: 0.8138\n",
            "390/390 - 59s - loss: 1.0692 - acc: 0.7976 - val_loss: 0.5643 - val_acc: 0.8138\n",
            "Epoch 24/100\n",
            "Epoch 1/100\n",
            "5000/390 - 5s - loss: 0.6020 - acc: 0.7728\n",
            "390/390 - 59s - loss: 1.0391 - acc: 0.8024 - val_loss: 0.7422 - val_acc: 0.7728\n",
            "Epoch 25/100\n",
            "Epoch 1/100\n",
            "5000/390 - 5s - loss: 0.2969 - acc: 0.8398\n",
            "390/390 - 59s - loss: 1.0366 - acc: 0.8058 - val_loss: 0.4651 - val_acc: 0.8398\n",
            "Epoch 26/100\n",
            "Epoch 1/100\n",
            "5000/390 - 5s - loss: 0.3371 - acc: 0.8334\n",
            "390/390 - 60s - loss: 0.9973 - acc: 0.8111 - val_loss: 0.5106 - val_acc: 0.8334\n",
            "Epoch 27/100\n",
            "Epoch 1/100\n",
            "5000/390 - 6s - loss: 0.3221 - acc: 0.8354\n",
            "390/390 - 60s - loss: 0.9818 - acc: 0.8151 - val_loss: 0.4849 - val_acc: 0.8354\n",
            "Epoch 28/100\n",
            "Epoch 1/100\n",
            "5000/390 - 6s - loss: 0.2940 - acc: 0.8342\n",
            "390/390 - 60s - loss: 0.9703 - acc: 0.8185 - val_loss: 0.4917 - val_acc: 0.8342\n",
            "Epoch 29/100\n",
            "Epoch 1/100\n",
            "5000/390 - 6s - loss: 0.3578 - acc: 0.8200\n",
            "390/390 - 61s - loss: 0.9596 - acc: 0.8189 - val_loss: 0.6353 - val_acc: 0.8200\n",
            "Epoch 30/100\n",
            "Epoch 1/100\n",
            "5000/390 - 6s - loss: 0.2914 - acc: 0.8314\n",
            "390/390 - 61s - loss: 0.9355 - acc: 0.8213 - val_loss: 0.4870 - val_acc: 0.8314\n",
            "Epoch 31/100\n",
            "Epoch 1/100\n",
            "5000/390 - 6s - loss: 0.3221 - acc: 0.8346\n",
            "390/390 - 61s - loss: 0.8858 - acc: 0.8286 - val_loss: 0.5146 - val_acc: 0.8346\n",
            "Epoch 32/100\n",
            "Epoch 1/100\n",
            "5000/390 - 6s - loss: 0.3218 - acc: 0.8372\n",
            "390/390 - 61s - loss: 0.8981 - acc: 0.8296 - val_loss: 0.5060 - val_acc: 0.8372\n",
            "Epoch 33/100\n",
            "Epoch 1/100\n",
            "5000/390 - 6s - loss: 0.3250 - acc: 0.8480\n",
            "390/390 - 62s - loss: 0.8785 - acc: 0.8321 - val_loss: 0.4540 - val_acc: 0.8480\n",
            "Epoch 34/100\n",
            "Epoch 1/100\n",
            "5000/390 - 6s - loss: 0.2830 - acc: 0.8494\n",
            "390/390 - 62s - loss: 0.8973 - acc: 0.8295 - val_loss: 0.4572 - val_acc: 0.8494\n",
            "Epoch 35/100\n",
            "Epoch 1/100\n",
            "5000/390 - 7s - loss: 0.3013 - acc: 0.8422\n",
            "390/390 - 62s - loss: 0.8724 - acc: 0.8336 - val_loss: 0.4726 - val_acc: 0.8422\n",
            "Epoch 36/100\n",
            "Epoch 1/100\n",
            "5000/390 - 6s - loss: 0.2496 - acc: 0.8648\n",
            "390/390 - 62s - loss: 0.8468 - acc: 0.8371 - val_loss: 0.4037 - val_acc: 0.8648\n",
            "Epoch 37/100\n",
            "Epoch 1/100\n",
            "5000/390 - 6s - loss: 0.3509 - acc: 0.8452\n",
            "390/390 - 62s - loss: 0.8357 - acc: 0.8396 - val_loss: 0.4831 - val_acc: 0.8452\n",
            "Epoch 38/100\n",
            "Epoch 1/100\n",
            "5000/390 - 7s - loss: 0.2953 - acc: 0.8428\n",
            "390/390 - 63s - loss: 0.8150 - acc: 0.8419 - val_loss: 0.4864 - val_acc: 0.8428\n",
            "Epoch 39/100\n",
            "Epoch 1/100\n",
            "5000/390 - 7s - loss: 0.2492 - acc: 0.8494\n",
            "390/390 - 63s - loss: 0.8080 - acc: 0.8429 - val_loss: 0.4431 - val_acc: 0.8494\n",
            "Epoch 40/100\n",
            "Epoch 1/100\n",
            "5000/390 - 7s - loss: 0.2630 - acc: 0.8600\n",
            "390/390 - 63s - loss: 0.8089 - acc: 0.8435 - val_loss: 0.4271 - val_acc: 0.8600\n",
            "Epoch 41/100\n",
            "Epoch 1/100\n",
            "5000/390 - 7s - loss: 0.2315 - acc: 0.8636\n",
            "390/390 - 64s - loss: 0.7982 - acc: 0.8453 - val_loss: 0.4141 - val_acc: 0.8636\n",
            "Epoch 42/100\n",
            "Epoch 1/100\n",
            "5000/390 - 7s - loss: 0.2144 - acc: 0.8768\n",
            "390/390 - 64s - loss: 0.7721 - acc: 0.8494 - val_loss: 0.3785 - val_acc: 0.8768\n",
            "Epoch 43/100\n",
            "Epoch 1/100\n",
            "5000/390 - 8s - loss: 0.2485 - acc: 0.8590\n",
            "390/390 - 64s - loss: 0.7683 - acc: 0.8504 - val_loss: 0.4371 - val_acc: 0.8590\n",
            "Epoch 44/100\n",
            "Epoch 1/100\n",
            "5000/390 - 7s - loss: 0.2334 - acc: 0.8632\n",
            "390/390 - 64s - loss: 0.7775 - acc: 0.8482 - val_loss: 0.4056 - val_acc: 0.8632\n",
            "Epoch 45/100\n",
            "Epoch 1/100\n",
            "5000/390 - 8s - loss: 0.2366 - acc: 0.8548\n",
            "390/390 - 64s - loss: 0.7540 - acc: 0.8541 - val_loss: 0.4376 - val_acc: 0.8548\n",
            "Epoch 46/100\n",
            "Epoch 1/100\n",
            "5000/390 - 8s - loss: 0.2087 - acc: 0.8730\n",
            "390/390 - 65s - loss: 0.7478 - acc: 0.8550 - val_loss: 0.3834 - val_acc: 0.8730\n",
            "Epoch 47/100\n",
            "Epoch 1/100\n",
            "5000/390 - 8s - loss: 0.2178 - acc: 0.8668\n",
            "390/390 - 65s - loss: 0.7454 - acc: 0.8553 - val_loss: 0.3937 - val_acc: 0.8668\n",
            "Epoch 48/100\n",
            "Epoch 1/100\n",
            "5000/390 - 8s - loss: 0.2392 - acc: 0.8664\n",
            "390/390 - 65s - loss: 0.7306 - acc: 0.8568 - val_loss: 0.4027 - val_acc: 0.8664\n",
            "Epoch 49/100\n",
            "Epoch 1/100\n",
            "5000/390 - 8s - loss: 0.2186 - acc: 0.8686\n",
            "390/390 - 66s - loss: 0.7252 - acc: 0.8588 - val_loss: 0.3990 - val_acc: 0.8686\n",
            "Epoch 50/100\n",
            "Epoch 1/100\n",
            "5000/390 - 8s - loss: 0.2070 - acc: 0.8758\n",
            "390/390 - 65s - loss: 0.6949 - acc: 0.8624 - val_loss: 0.3782 - val_acc: 0.8758\n",
            "Epoch 51/100\n",
            "Epoch 1/100\n",
            "5000/390 - 8s - loss: 0.2742 - acc: 0.8460\n",
            "390/390 - 65s - loss: 0.7060 - acc: 0.8615 - val_loss: 0.4980 - val_acc: 0.8460\n",
            "Epoch 52/100\n",
            "Epoch 1/100\n",
            "5000/390 - 9s - loss: 0.2185 - acc: 0.8690\n",
            "390/390 - 67s - loss: 0.7017 - acc: 0.8638 - val_loss: 0.3915 - val_acc: 0.8690\n",
            "Epoch 53/100\n",
            "Epoch 1/100\n",
            "5000/390 - 8s - loss: 0.2147 - acc: 0.8752\n",
            "390/390 - 66s - loss: 0.6861 - acc: 0.8641 - val_loss: 0.3725 - val_acc: 0.8752\n",
            "Epoch 54/100\n",
            "Epoch 1/100\n",
            "5000/390 - 9s - loss: 0.2189 - acc: 0.8720\n",
            "390/390 - 67s - loss: 0.6867 - acc: 0.8640 - val_loss: 0.3841 - val_acc: 0.8720\n",
            "Epoch 55/100\n",
            "Epoch 1/100\n",
            "5000/390 - 8s - loss: 0.2120 - acc: 0.8750\n",
            "390/390 - 66s - loss: 0.6626 - acc: 0.8682 - val_loss: 0.3845 - val_acc: 0.8750\n",
            "Epoch 56/100\n",
            "Epoch 1/100\n",
            "5000/390 - 9s - loss: 0.2228 - acc: 0.8668\n",
            "390/390 - 68s - loss: 0.6669 - acc: 0.8709 - val_loss: 0.4153 - val_acc: 0.8668\n",
            "Epoch 57/100\n",
            "Epoch 1/100\n",
            "5000/390 - 9s - loss: 0.2409 - acc: 0.8616\n",
            "390/390 - 67s - loss: 0.6606 - acc: 0.8699 - val_loss: 0.4480 - val_acc: 0.8616\n",
            "Epoch 58/100\n",
            "Epoch 1/100\n",
            "5000/390 - 9s - loss: 0.2070 - acc: 0.8784\n",
            "390/390 - 68s - loss: 0.6495 - acc: 0.8729 - val_loss: 0.3761 - val_acc: 0.8784\n",
            "Epoch 59/100\n",
            "Epoch 1/100\n",
            "5000/390 - 10s - loss: 0.2029 - acc: 0.8790\n",
            "390/390 - 68s - loss: 0.6475 - acc: 0.8725 - val_loss: 0.3798 - val_acc: 0.8790\n",
            "Epoch 60/100\n",
            "Epoch 1/100\n",
            "5000/390 - 9s - loss: 0.2524 - acc: 0.8694\n",
            "390/390 - 68s - loss: 0.6570 - acc: 0.8721 - val_loss: 0.4142 - val_acc: 0.8694\n",
            "Epoch 61/100\n",
            "Epoch 1/100\n",
            "5000/390 - 8s - loss: 0.2043 - acc: 0.8792\n",
            "390/390 - 67s - loss: 0.6303 - acc: 0.8738 - val_loss: 0.3772 - val_acc: 0.8792\n",
            "Epoch 62/100\n",
            "Epoch 1/100\n",
            "5000/390 - 10s - loss: 0.2312 - acc: 0.8642\n",
            "390/390 - 69s - loss: 0.6267 - acc: 0.8742 - val_loss: 0.4251 - val_acc: 0.8642\n",
            "Epoch 63/100\n",
            "Epoch 1/100\n",
            "5000/390 - 10s - loss: 0.2028 - acc: 0.8824\n",
            "390/390 - 69s - loss: 0.6284 - acc: 0.8766 - val_loss: 0.3729 - val_acc: 0.8824\n",
            "Epoch 64/100\n",
            "Epoch 1/100\n",
            "5000/390 - 10s - loss: 0.2340 - acc: 0.8660\n",
            "390/390 - 70s - loss: 0.6204 - acc: 0.8783 - val_loss: 0.4307 - val_acc: 0.8660\n",
            "Epoch 65/100\n",
            "Epoch 1/100\n",
            "5000/390 - 11s - loss: 0.2405 - acc: 0.8598\n",
            "390/390 - 70s - loss: 0.6186 - acc: 0.8786 - val_loss: 0.4422 - val_acc: 0.8598\n",
            "Epoch 66/100\n",
            "Epoch 1/100\n",
            "5000/390 - 11s - loss: 0.3317 - acc: 0.8742\n",
            "390/390 - 70s - loss: 0.6068 - acc: 0.8777 - val_loss: 0.4004 - val_acc: 0.8742\n",
            "Epoch 67/100\n",
            "Epoch 1/100\n",
            "5000/390 - 10s - loss: 0.2278 - acc: 0.8726\n",
            "390/390 - 70s - loss: 0.6026 - acc: 0.8797 - val_loss: 0.4089 - val_acc: 0.8726\n",
            "Epoch 68/100\n",
            "Epoch 1/100\n",
            "5000/390 - 10s - loss: 0.5696 - acc: 0.8490\n",
            "390/390 - 71s - loss: 0.5995 - acc: 0.8785 - val_loss: 0.4983 - val_acc: 0.8490\n",
            "Epoch 69/100\n",
            "Epoch 1/100\n",
            "5000/390 - 11s - loss: 0.2764 - acc: 0.8638\n",
            "390/390 - 71s - loss: 0.6018 - acc: 0.8808 - val_loss: 0.4388 - val_acc: 0.8638\n",
            "Epoch 70/100\n",
            "Epoch 1/100\n",
            "5000/390 - 11s - loss: 0.2026 - acc: 0.8808\n",
            "390/390 - 72s - loss: 0.5851 - acc: 0.8830 - val_loss: 0.3802 - val_acc: 0.8808\n",
            "Epoch 71/100\n",
            "Epoch 1/100\n",
            "5000/390 - 11s - loss: 0.3073 - acc: 0.8850\n",
            "390/390 - 71s - loss: 0.5812 - acc: 0.8836 - val_loss: 0.3836 - val_acc: 0.8850\n",
            "Epoch 72/100\n",
            "Epoch 1/100\n",
            "5000/390 - 11s - loss: 0.2430 - acc: 0.8616\n",
            "390/390 - 72s - loss: 0.5644 - acc: 0.8863 - val_loss: 0.4487 - val_acc: 0.8616\n",
            "Epoch 73/100\n",
            "Epoch 1/100\n",
            "5000/390 - 12s - loss: 0.2175 - acc: 0.8816\n",
            "390/390 - 72s - loss: 0.5709 - acc: 0.8866 - val_loss: 0.3938 - val_acc: 0.8816\n",
            "Epoch 74/100\n",
            "Epoch 1/100\n",
            "5000/390 - 12s - loss: 0.2105 - acc: 0.8844\n",
            "390/390 - 73s - loss: 0.5685 - acc: 0.8869 - val_loss: 0.3653 - val_acc: 0.8844\n",
            "Epoch 75/100\n",
            "Epoch 1/100\n",
            "5000/390 - 11s - loss: 0.2380 - acc: 0.8710\n",
            "390/390 - 73s - loss: 0.5518 - acc: 0.8903 - val_loss: 0.4299 - val_acc: 0.8710\n",
            "Epoch 76/100\n",
            "Epoch 1/100\n",
            "5000/390 - 10s - loss: 0.2054 - acc: 0.8766\n",
            "390/390 - 72s - loss: 0.5591 - acc: 0.8889 - val_loss: 0.3775 - val_acc: 0.8766\n",
            "Epoch 77/100\n",
            "Epoch 1/100\n",
            "5000/390 - 12s - loss: 0.2010 - acc: 0.8864\n",
            "390/390 - 74s - loss: 0.5568 - acc: 0.8867 - val_loss: 0.3552 - val_acc: 0.8864\n",
            "Epoch 78/100\n",
            "Epoch 1/100\n",
            "5000/390 - 12s - loss: 0.2103 - acc: 0.8890\n",
            "390/390 - 74s - loss: 0.5640 - acc: 0.8883 - val_loss: 0.3522 - val_acc: 0.8890\n",
            "Epoch 79/100\n",
            "Epoch 1/100\n",
            "5000/390 - 12s - loss: 0.2043 - acc: 0.8892\n",
            "390/390 - 74s - loss: 0.5609 - acc: 0.8858 - val_loss: 0.3523 - val_acc: 0.8892\n",
            "Epoch 80/100\n",
            "Epoch 1/100\n",
            "5000/390 - 12s - loss: 0.2224 - acc: 0.8784\n",
            "390/390 - 74s - loss: 0.5447 - acc: 0.8902 - val_loss: 0.3906 - val_acc: 0.8784\n",
            "Epoch 81/100\n",
            "Epoch 1/100\n",
            "5000/390 - 13s - loss: 0.2975 - acc: 0.8842\n",
            "390/390 - 74s - loss: 0.5370 - acc: 0.8912 - val_loss: 0.3630 - val_acc: 0.8842\n",
            "Epoch 82/100\n",
            "Epoch 1/100\n",
            "5000/390 - 13s - loss: 0.2157 - acc: 0.8776\n",
            "390/390 - 75s - loss: 0.5391 - acc: 0.8912 - val_loss: 0.3960 - val_acc: 0.8776\n",
            "Epoch 83/100\n",
            "Epoch 1/100\n",
            "5000/390 - 13s - loss: 0.2174 - acc: 0.8690\n",
            "390/390 - 75s - loss: 0.5362 - acc: 0.8932 - val_loss: 0.4054 - val_acc: 0.8690\n",
            "Epoch 84/100\n",
            "Epoch 1/100\n",
            "5000/390 - 13s - loss: 0.2035 - acc: 0.8798\n",
            "390/390 - 76s - loss: 0.5217 - acc: 0.8951 - val_loss: 0.3844 - val_acc: 0.8798\n",
            "Epoch 85/100\n",
            "Epoch 1/100\n",
            "5000/390 - 13s - loss: 0.2781 - acc: 0.8850\n",
            "390/390 - 76s - loss: 0.5213 - acc: 0.8939 - val_loss: 0.3871 - val_acc: 0.8850\n",
            "Epoch 86/100\n",
            "Epoch 1/100\n",
            "5000/390 - 13s - loss: 0.2133 - acc: 0.8910\n",
            "390/390 - 75s - loss: 0.5265 - acc: 0.8938 - val_loss: 0.3647 - val_acc: 0.8910\n",
            "Epoch 87/100\n",
            "Epoch 1/100\n",
            "5000/390 - 14s - loss: 0.4215 - acc: 0.8702\n",
            "390/390 - 77s - loss: 0.5183 - acc: 0.8968 - val_loss: 0.4127 - val_acc: 0.8702\n",
            "Epoch 88/100\n",
            "Epoch 1/100\n",
            "5000/390 - 12s - loss: 0.2599 - acc: 0.8810\n",
            "390/390 - 75s - loss: 0.5131 - acc: 0.8956 - val_loss: 0.3932 - val_acc: 0.8810\n",
            "Epoch 89/100\n",
            "Epoch 1/100\n",
            "5000/390 - 14s - loss: 0.2110 - acc: 0.8790\n",
            "390/390 - 77s - loss: 0.4991 - acc: 0.8996 - val_loss: 0.3880 - val_acc: 0.8790\n",
            "Epoch 90/100\n",
            "Epoch 1/100\n",
            "5000/390 - 13s - loss: 0.2703 - acc: 0.8644\n",
            "390/390 - 76s - loss: 0.5037 - acc: 0.8978 - val_loss: 0.4531 - val_acc: 0.8644\n",
            "Epoch 91/100\n",
            "Epoch 1/100\n",
            "5000/390 - 14s - loss: 0.2147 - acc: 0.8856\n",
            "390/390 - 77s - loss: 0.4962 - acc: 0.9003 - val_loss: 0.3636 - val_acc: 0.8856\n",
            "Epoch 92/100\n",
            "Epoch 1/100\n",
            "5000/390 - 14s - loss: 0.2738 - acc: 0.8700\n",
            "390/390 - 77s - loss: 0.5019 - acc: 0.8989 - val_loss: 0.4246 - val_acc: 0.8700\n",
            "Epoch 93/100\n",
            "Epoch 1/100\n",
            "5000/390 - 14s - loss: 0.1979 - acc: 0.8812\n",
            "390/390 - 78s - loss: 0.5001 - acc: 0.8989 - val_loss: 0.3700 - val_acc: 0.8812\n",
            "Epoch 94/100\n",
            "Epoch 1/100\n",
            "5000/390 - 15s - loss: 0.1905 - acc: 0.8866\n",
            "390/390 - 79s - loss: 0.4879 - acc: 0.9017 - val_loss: 0.3550 - val_acc: 0.8866\n",
            "Epoch 95/100\n",
            "Epoch 1/100\n",
            "5000/390 - 15s - loss: 0.1994 - acc: 0.8902\n",
            "390/390 - 79s - loss: 0.4906 - acc: 0.9010 - val_loss: 0.3630 - val_acc: 0.8902\n",
            "Epoch 96/100\n",
            "Epoch 1/100\n",
            "5000/390 - 15s - loss: 0.2189 - acc: 0.8774\n",
            "390/390 - 79s - loss: 0.4843 - acc: 0.9026 - val_loss: 0.4069 - val_acc: 0.8774\n",
            "Epoch 97/100\n",
            "Epoch 1/100\n",
            "5000/390 - 15s - loss: 0.2121 - acc: 0.8800\n",
            "390/390 - 80s - loss: 0.4886 - acc: 0.9013 - val_loss: 0.3931 - val_acc: 0.8800\n",
            "Epoch 98/100\n",
            "Epoch 1/100\n",
            "5000/390 - 14s - loss: 0.2161 - acc: 0.8860\n",
            "390/390 - 79s - loss: 0.4787 - acc: 0.9022 - val_loss: 0.3865 - val_acc: 0.8860\n",
            "Epoch 99/100\n",
            "Epoch 1/100\n",
            "5000/390 - 14s - loss: 0.2189 - acc: 0.8798\n",
            "390/390 - 80s - loss: 0.4805 - acc: 0.9028 - val_loss: 0.4003 - val_acc: 0.8798\n",
            "Epoch 100/100\n",
            "Epoch 1/100\n",
            "5000/390 - 15s - loss: 0.1987 - acc: 0.8896\n",
            "390/390 - 80s - loss: 0.4685 - acc: 0.9047 - val_loss: 0.3696 - val_acc: 0.8896\n"
          ],
          "name": "stdout"
        }
      ]
    },
    {
      "cell_type": "code",
      "metadata": {
        "id": "LbP0BvVoM3Z6",
        "colab_type": "code",
        "colab": {
          "base_uri": "https://localhost:8080/",
          "height": 295
        },
        "outputId": "5581a8d0-e92f-430c-8889-f27023e38514"
      },
      "source": [
        "if history!=None:\n",
        "  visualize_training(history)"
      ],
      "execution_count": 37,
      "outputs": [
        {
          "output_type": "display_data",
          "data": {
            "image/png": "[encoded data removed]",
            "text/plain": [
              "<Figure size 720x288 with 2 Axes>"
            ]
          },
          "metadata": {
            "tags": []
          }
        }
      ]
    },
    {
      "cell_type": "markdown",
      "metadata": {
        "id": "5xuo5bXLNdo5",
        "colab_type": "text"
      },
      "source": [
        "Let's download pre-trained weights with the best performance.\n",
        "\n",
        "Note:\n",
        "If download error is raised, please rerun first cell from the script."
      ]
    },
    {
      "cell_type": "code",
      "metadata": {
        "colab_type": "code",
        "outputId": "b7fb69b6-a382-4961-8e74-a58de67dd434",
        "id": "RXdY7EZVNion",
        "colab": {
          "base_uri": "https://localhost:8080/",
          "height": 1000
        }
      },
      "source": [
        "with tf.device('/device:GPU:0'):\n",
        "  model_classifier1,history = build_and_train(100,X_train_augmented,Y_train_augmented,X_dev,Y_dev,load_weights=True, train_model=False,trainable_autoencoder=True, save_weights = False,dropout = 0.4, ae_drop = 0.4, dropout_fc=0.4,weights_id = '1YFjoNan-Uyir-9ul6CBbGNN2QnAJik6t')"
      ],
      "execution_count": 43,
      "outputs": [
        {
          "output_type": "stream",
          "text": [
            "Model: \"model_4\"\n",
            "_________________________________________________________________\n",
            "Layer (type)                 Output Shape              Param #   \n",
            "=================================================================\n",
            "input_8 (InputLayer)         [(None, 32, 32, 3)]       0         \n",
            "_________________________________________________________________\n",
            "Conv1_encoder (Conv2D)       (None, 32, 32, 64)        1792      \n",
            "_________________________________________________________________\n",
            "BN0 (BatchNormalization)     (None, 32, 32, 64)        256       \n",
            "_________________________________________________________________\n",
            "dropout_93 (Dropout)         (None, 32, 32, 64)        0         \n",
            "_________________________________________________________________\n",
            "Conv2_encoder (Conv2D)       (None, 32, 32, 64)        36928     \n",
            "_________________________________________________________________\n",
            "BN1 (BatchNormalization)     (None, 32, 32, 64)        256       \n",
            "_________________________________________________________________\n",
            "MP1 (MaxPooling2D)           (None, 16, 16, 64)        0         \n",
            "_________________________________________________________________\n",
            "dropout_94 (Dropout)         (None, 16, 16, 64)        0         \n",
            "_________________________________________________________________\n",
            "Conv3_encoder (Conv2D)       (None, 16, 16, 128)       73856     \n",
            "_________________________________________________________________\n",
            "BN2 (BatchNormalization)     (None, 16, 16, 128)       512       \n",
            "_________________________________________________________________\n",
            "dropout_95 (Dropout)         (None, 16, 16, 128)       0         \n",
            "_________________________________________________________________\n",
            "Conv4_encoder (Conv2D)       (None, 16, 16, 128)       147584    \n",
            "_________________________________________________________________\n",
            "BN3 (BatchNormalization)     (None, 16, 16, 128)       512       \n",
            "_________________________________________________________________\n",
            "MP2 (MaxPooling2D)           (None, 8, 8, 128)         0         \n",
            "_________________________________________________________________\n",
            "dropout_96 (Dropout)         (None, 8, 8, 128)         0         \n",
            "_________________________________________________________________\n",
            "Conv5_encoder (Conv2D)       (None, 8, 8, 256)         295168    \n",
            "_________________________________________________________________\n",
            "BN4 (BatchNormalization)     (None, 8, 8, 256)         1024      \n",
            "_________________________________________________________________\n",
            "dropout_97 (Dropout)         (None, 8, 8, 256)         0         \n",
            "_________________________________________________________________\n",
            "Conv6_encoder (Conv2D)       (None, 8, 8, 256)         590080    \n",
            "_________________________________________________________________\n",
            "Encoded (BatchNormalization) (None, 8, 8, 256)         1024      \n",
            "_________________________________________________________________\n",
            "conv2d_8 (Conv2D)            (None, 8, 8, 512)         1180160   \n",
            "_________________________________________________________________\n",
            "batch_normalization_16 (Batc (None, 8, 8, 512)         2048      \n",
            "_________________________________________________________________\n",
            "activation_20 (Activation)   (None, 8, 8, 512)         0         \n",
            "_________________________________________________________________\n",
            "max_pooling2d_8 (MaxPooling2 (None, 4, 4, 512)         0         \n",
            "_________________________________________________________________\n",
            "dropout_104 (Dropout)        (None, 4, 4, 512)         0         \n",
            "_________________________________________________________________\n",
            "conv2d_9 (Conv2D)            (None, 4, 4, 512)         2359808   \n",
            "_________________________________________________________________\n",
            "batch_normalization_17 (Batc (None, 4, 4, 512)         2048      \n",
            "_________________________________________________________________\n",
            "activation_21 (Activation)   (None, 4, 4, 512)         0         \n",
            "_________________________________________________________________\n",
            "max_pooling2d_9 (MaxPooling2 (None, 2, 2, 512)         0         \n",
            "_________________________________________________________________\n",
            "dropout_105 (Dropout)        (None, 2, 2, 512)         0         \n",
            "_________________________________________________________________\n",
            "flatten_4 (Flatten)          (None, 2048)              0         \n",
            "_________________________________________________________________\n",
            "dense_12 (Dense)             (None, 1024)              2098176   \n",
            "_________________________________________________________________\n",
            "batch_normalization_18 (Batc (None, 1024)              4096      \n",
            "_________________________________________________________________\n",
            "activation_22 (Activation)   (None, 1024)              0         \n",
            "_________________________________________________________________\n",
            "dropout_106 (Dropout)        (None, 1024)              0         \n",
            "_________________________________________________________________\n",
            "dense_13 (Dense)             (None, 1024)              1049600   \n",
            "_________________________________________________________________\n",
            "batch_normalization_19 (Batc (None, 1024)              4096      \n",
            "_________________________________________________________________\n",
            "activation_23 (Activation)   (None, 1024)              0         \n",
            "_________________________________________________________________\n",
            "dropout_107 (Dropout)        (None, 1024)              0         \n",
            "_________________________________________________________________\n",
            "dense_14 (Dense)             (None, 10)                10250     \n",
            "_________________________________________________________________\n",
            "activation_24 (Activation)   (None, 10)                0         \n",
            "=================================================================\n",
            "Total params: 7,859,274\n",
            "Trainable params: 7,851,338\n",
            "Non-trainable params: 7,936\n",
            "_________________________________________________________________\n"
          ],
          "name": "stdout"
        }
      ]
    },
    {
      "cell_type": "markdown",
      "metadata": {
        "id": "Gge74veTtC2f",
        "colab_type": "text"
      },
      "source": [
        "Next cell shows model's evaluation, mislabeled examples and classes misclassification distribution."
      ]
    },
    {
      "cell_type": "code",
      "metadata": {
        "id": "ssk1dt_fiBgL",
        "colab_type": "code",
        "outputId": "5196ad68-4587-49a5-fa9d-2f5ab9558510",
        "colab": {
          "base_uri": "https://localhost:8080/",
          "height": 1000
        }
      },
      "source": [
        "import tensorflow.keras.backend as K\n",
        "model_classifier1.evaluate(X_test,Y_test)\n",
        "predictions = np.argmax(model_classifier1.predict(X_dev),axis = 1)\n",
        "labels = np.argmax(Y_dev,axis = 1)\n",
        "print(predictions.shape)\n",
        "print(labels.shape)\n",
        "print(np.equal(predictions,labels))\n",
        "mistaken = X_dev[np.not_equal(predictions,labels)]\n",
        "new_labels = labels[np.not_equal(predictions,labels)]\n",
        "new_predictions = predictions [np.not_equal(predictions,labels)]\n",
        "print(mistaken.shape)\n",
        "\n",
        "for i in range(5):\n",
        "  plt.imshow(mistaken[i,:,:,:])\n",
        "  plt.show()\n",
        "  print(\"Class: \"+names[new_labels[i]])\n",
        "  print(\"Predicted: \"+names[new_predictions[i]])\n",
        "\n",
        "for i in range(10):\n",
        "  count = np.sum(new_labels==i)\n",
        "  print(\"The number of mistaken \"+ names[i] + \"s is: \"+ str(count))"
      ],
      "execution_count": 44,
      "outputs": [
        {
          "output_type": "stream",
          "text": [
            "5000/5000 [==============================] - 6s 1ms/sample - loss: 0.3783 - acc: 0.8954\n",
            "(5000,)\n",
            "(5000,)\n",
            "[ True False  True ...  True  True  True]\n",
            "(482, 32, 32, 3)\n"
          ],
          "name": "stdout"
        },
        {
          "output_type": "display_data",
          "data": {
            "image/png": "[encoded data removed]",
            "text/plain": [
              "<Figure size 432x288 with 1 Axes>"
            ]
          },
          "metadata": {
            "tags": []
          }
        },
        {
          "output_type": "stream",
          "text": [
            "Class: cat\n",
            "Predicted: frog\n"
          ],
          "name": "stdout"
        },
        {
          "output_type": "display_data",
          "data": {
            "image/png": "[encoded data removed]",
            "text/plain": [
              "<Figure size 432x288 with 1 Axes>"
            ]
          },
          "metadata": {
            "tags": []
          }
        },
        {
          "output_type": "stream",
          "text": [
            "Class: dog\n",
            "Predicted: cat\n"
          ],
          "name": "stdout"
        },
        {
          "output_type": "display_data",
          "data": {
            "image/png": "[encoded data removed]",
            "text/plain": [
              "<Figure size 432x288 with 1 Axes>"
            ]
          },
          "metadata": {
            "tags": []
          }
        },
        {
          "output_type": "stream",
          "text": [
            "Class: frog\n",
            "Predicted: deer\n"
          ],
          "name": "stdout"
        },
        {
          "output_type": "display_data",
          "data": {
            "image/png": "[encoded data removed]",
            "text/plain": [
              "<Figure size 432x288 with 1 Axes>"
            ]
          },
          "metadata": {
            "tags": []
          }
        },
        {
          "output_type": "stream",
          "text": [
            "Class: cat\n",
            "Predicted: truck\n"
          ],
          "name": "stdout"
        },
        {
          "output_type": "display_data",
          "data": {
            "image/png": "[encoded data removed]",
            "text/plain": [
              "<Figure size 432x288 with 1 Axes>"
            ]
          },
          "metadata": {
            "tags": []
          }
        },
        {
          "output_type": "stream",
          "text": [
            "Class: horse\n",
            "Predicted: cat\n",
            "The number of mistaken airplanes is: 29\n",
            "The number of mistaken automobiles is: 9\n",
            "The number of mistaken birds is: 72\n",
            "The number of mistaken cats is: 101\n",
            "The number of mistaken deers is: 101\n",
            "The number of mistaken dogs is: 51\n",
            "The number of mistaken frogs is: 27\n",
            "The number of mistaken horses is: 30\n",
            "The number of mistaken ships is: 23\n",
            "The number of mistaken trucks is: 39\n"
          ],
          "name": "stdout"
        }
      ]
    },
    {
      "cell_type": "markdown",
      "metadata": {
        "id": "DbqmTuKLtV1E",
        "colab_type": "text"
      },
      "source": [
        "Classification report and confusion matrix are another ways to evaluate a model:"
      ]
    },
    {
      "cell_type": "code",
      "metadata": {
        "id": "sqLPjJ6b4HeB",
        "colab_type": "code",
        "outputId": "58bf6435-1757-4323-bbbf-77ff36118487",
        "colab": {
          "base_uri": "https://localhost:8080/",
          "height": 504
        }
      },
      "source": [
        "from sklearn.metrics import classification_report, confusion_matrix\n",
        "print(classification_report(labels,predictions))\n",
        "print(confusion_matrix(labels,predictions))\n",
        "print(names)\n",
        "print(X_test.shape)"
      ],
      "execution_count": 45,
      "outputs": [
        {
          "output_type": "stream",
          "text": [
            "              precision    recall  f1-score   support\n",
            "\n",
            "           0       0.88      0.94      0.91       484\n",
            "           1       0.94      0.98      0.96       496\n",
            "           2       0.90      0.85      0.87       478\n",
            "           3       0.85      0.81      0.83       527\n",
            "           4       0.94      0.80      0.87       509\n",
            "           5       0.83      0.90      0.86       519\n",
            "           6       0.89      0.95      0.92       518\n",
            "           7       0.93      0.94      0.94       477\n",
            "           8       0.94      0.95      0.95       486\n",
            "           9       0.95      0.92      0.94       506\n",
            "\n",
            "    accuracy                           0.90      5000\n",
            "   macro avg       0.91      0.90      0.90      5000\n",
            "weighted avg       0.90      0.90      0.90      5000\n",
            "\n",
            "[[455   2   6   3   2   1   1   0  12   2]\n",
            " [  1 487   0   0   0   0   1   0   1   6]\n",
            " [ 12   0 406  14   6  13  15   5   2   5]\n",
            " [  9   2   9 426   6  51  15   3   3   3]\n",
            " [  5   1  18  14 408  19  25  15   4   0]\n",
            " [  3   0   4  25   3 468   4   9   1   2]\n",
            " [  2   1   5  12   3   3 491   0   0   1]\n",
            " [  5   0   3   5   4  11   0 447   1   1]\n",
            " [ 15   3   0   1   0   0   0   0 463   4]\n",
            " [ 10  21   1   1   0   1   0   0   5 467]]\n",
            "['airplane', 'automobile', 'bird', 'cat', 'deer', 'dog', 'frog', 'horse', 'ship', 'truck']\n",
            "(5000, 32, 32, 3)\n"
          ],
          "name": "stdout"
        }
      ]
    },
    {
      "cell_type": "code",
      "metadata": {
        "id": "N-Kehax_Pq3Y",
        "colab_type": "code",
        "colab": {}
      },
      "source": [
        ""
      ],
      "execution_count": 0,
      "outputs": []
    }
  ]
}