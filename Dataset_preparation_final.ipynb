{
  "nbformat": 4,
  "nbformat_minor": 0,
  "metadata": {
    "colab": {
      "name": "Untitled2.ipynb",
      "provenance": [],
      "include_colab_link": true
    },
    "kernelspec": {
      "name": "python3",
      "display_name": "Python 3"
    },
    "accelerator": "GPU"
  },
  "cells": [
    {
      "cell_type": "markdown",
      "metadata": {
        "id": "view-in-github",
        "colab_type": "text"
      },
      "source": [
        "<a href=\"https://colab.research.google.com/github/mintusf/CIFAR/blob/master/Dataset_preparation_final.ipynb\" target=\"_parent\"><img src=\"https://colab.research.google.com/assets/colab-badge.svg\" alt=\"Open In Colab\"/></a>"
      ]
    },
    {
      "cell_type": "markdown",
      "metadata": {
        "id": "clgv0OegLzKb",
        "colab_type": "text"
      },
      "source": [
        "This script's objective is to prepare the dataset for a task. Procedures includes:\n",
        "\n",
        "\n",
        "*   Downloading data\n",
        "*   Deleting images to be undersampled (50% of classes [bird, deer, truck])\n",
        "*   Preparing augmented dataset to balance the distribution of classes\n",
        "*   Save all 4 datasets: training dataset with undersampled data, training dataset with augmented data, development and test datasets with balanced classes distribution"
      ]
    },
    {
      "cell_type": "markdown",
      "metadata": {
        "id": "J2bQNftrMoVq",
        "colab_type": "text"
      },
      "source": [
        "First, let's download CIFAR-10 dataset and check shapes."
      ]
    },
    {
      "cell_type": "code",
      "metadata": {
        "id": "FosqcTVYMn37",
        "colab_type": "code",
        "outputId": "62c32f20-0def-4a56-c0ac-a1e55f2be3be",
        "colab": {
          "base_uri": "https://localhost:8080/",
          "height": 163
        }
      },
      "source": [
        "import numpy as np\n",
        "import tensorflow as tf\n",
        "from tensorflow.keras.datasets import cifar10\n",
        "(X_train_original, Y_train_original_1d), (X_test,Y_test_1d) = cifar10.load_data()\n",
        "X_train_original = X_train_original/255.\n",
        "\n",
        "print(X_train_original.shape)\n",
        "print(X_test.shape)\n",
        "print(Y_train_original_1d.shape)\n",
        "print(Y_test_1d.shape)"
      ],
      "execution_count": 1,
      "outputs": [
        {
          "output_type": "display_data",
          "data": {
            "text/html": [
              "<p style=\"color: red;\">\n",
              "The default version of TensorFlow in Colab will soon switch to TensorFlow 2.x.<br>\n",
              "We recommend you <a href=\"https://www.tensorflow.org/guide/migrate\" target=\"_blank\">upgrade</a> now \n",
              "or ensure your notebook will continue to use TensorFlow 1.x via the <code>%tensorflow_version 1.x</code> magic:\n",
              "<a href=\"https://colab.research.google.com/notebooks/tensorflow_version.ipynb\" target=\"_blank\">more info</a>.</p>\n"
            ],
            "text/plain": [
              "<IPython.core.display.HTML object>"
            ]
          },
          "metadata": {
            "tags": []
          }
        },
        {
          "output_type": "stream",
          "text": [
            "Downloading data from https://www.cs.toronto.edu/~kriz/cifar-10-python.tar.gz\n",
            "170500096/170498071 [==============================] - 11s 0us/step\n",
            "(50000, 32, 32, 3)\n",
            "(10000, 32, 32, 3)\n",
            "(50000, 1)\n",
            "(10000, 1)\n"
          ],
          "name": "stdout"
        }
      ]
    },
    {
      "cell_type": "markdown",
      "metadata": {
        "id": "C9pVZINHvwnp",
        "colab_type": "text"
      },
      "source": [
        "## Dataset preparation"
      ]
    },
    {
      "cell_type": "markdown",
      "metadata": {
        "id": "yTWL-dsWPWfw",
        "colab_type": "text"
      },
      "source": [
        "The assumption of the problem is that classes [bird, deer, truck] should be limited to 50%. Following function is deleting images from dataset.\n",
        "\n",
        "\n",
        "\n",
        "> Arguments:\n",
        "\n",
        "\n",
        "*   X -> numpy array containing examples from dataset\n",
        "*   Y -> numpy array labels corresponding labels\n",
        "*   ratio -> float indicating how big part of class should be deleted\n",
        "*   class_no -> integer indicating which class should be undersampled\n",
        "\n",
        "\n",
        "\n",
        "\n",
        "> Returns:\n",
        "\n",
        "\n",
        "*   X -> numpy array containing new dataset with chosen classes undersampled\n",
        "*   Y -> numpy array containing corresponding labels\n",
        "*   deleted_examples -> numpy array containing deleted examples\n",
        "*   deleted_labels -> numpy array containing corresponding labels\n",
        "\n",
        "\n",
        "\n",
        "\n",
        "\n",
        "\n"
      ]
    },
    {
      "cell_type": "code",
      "metadata": {
        "id": "r02TtwxMPy4l",
        "colab_type": "code",
        "colab": {}
      },
      "source": [
        "def del_img (X, Y, ratio, class_no):\n",
        "  \n",
        "  m = X.shape [0]\n",
        "  class_count = 0\n",
        "\n",
        "  # creating empty arrays for deleted dataset\n",
        "  deleted = []\n",
        "  deleted_labels = []\n",
        "\n",
        "  # counting number of examples of selected class\n",
        "  class_count = np.sum(Y==class_no)\n",
        "\n",
        "  # for repeatable results\n",
        "  np.random.seed(1)\n",
        "\n",
        "  # creating and shuffling array of indices\n",
        "  a = np.arange(class_count)\n",
        "  np.random.seed(1)\n",
        "  np.random.shuffle(a)\n",
        "\n",
        "  # picking indices of examples to be deleted\n",
        "  img_to_del = a [:int(class_count*ratio)]\n",
        "  img_to_del_wholearray = []\n",
        "  counter = 0\n",
        "\n",
        "  # looping through the array to find global indices instances of chosen class to be deleted and saving these instances \n",
        "  for i in range(m):\n",
        "      if Y[i]==class_no:\n",
        "          if counter in img_to_del:\n",
        "              img_to_del_wholearray.append(i)\n",
        "              deleted.append (X[i])\n",
        "              deleted_labels.append(int(Y[i]))\n",
        "          counter += 1\n",
        "  \n",
        "  # deleting examples and labels at randomly chosen indices of selected class\n",
        "  X = np.delete(X,img_to_del_wholearray,axis = 0)\n",
        "  Y = np.delete(Y,img_to_del_wholearray,axis = 0)\n",
        "  deleted_examples = np.array(deleted,dtype=np.uint8)\n",
        "  return X, Y, deleted_examples, deleted_labels"
      ],
      "execution_count": 0,
      "outputs": []
    },
    {
      "cell_type": "code",
      "metadata": {
        "id": "0m4gA576Mna7",
        "colab_type": "code",
        "outputId": "1749d58c-bd29-442e-8a43-dd7957e36679",
        "colab": {
          "base_uri": "https://localhost:8080/",
          "height": 67
        }
      },
      "source": [
        "deleted_all = np.empty((0,32,32,3),dtype=np.uint8)\n",
        "deleted_labels_all = np.empty((0),dtype = np.int8)\n",
        "\n",
        "\n",
        "# Deleting half of birds, deer and deerrs\n",
        "  \n",
        "#deleting half of birds images\n",
        "X_train, Y_train_1d, deleted,deleted_labels = del_img(X_train_original, Y_train_original_1d, 0.5,2)\n",
        "deleted_all = np.append(deleted_all,deleted,axis = 0)\n",
        "deleted_labels_all = np.append(deleted_labels_all,deleted_labels,axis = 0)\n",
        "  \n",
        "#deleting half of deer images\n",
        "X_train, Y_train_1d, deleted,deleted_labels = del_img(X_train, Y_train_1d, 0.5,4)\n",
        "deleted_all = np.append(deleted_all,deleted,axis = 0)\n",
        "deleted_labels_all = np.append(deleted_labels_all,deleted_labels,axis = 0)\n",
        "  \n",
        "#deleting half of truck images\n",
        "X_train, Y_train_1d, deleted,deleted_labels = del_img(X_train, Y_train_1d, 0.5,9)\n",
        "deleted_all = np.append(deleted_all,deleted,axis = 0)\n",
        "deleted_labels_all = np.append(deleted_labels_all,deleted_labels,axis = 0)\n",
        "\n",
        "print(X_train.shape)\n",
        "print(deleted_all.shape)\n",
        "print(deleted_labels_all.shape)"
      ],
      "execution_count": 3,
      "outputs": [
        {
          "output_type": "stream",
          "text": [
            "(42500, 32, 32, 3)\n",
            "(7500, 32, 32, 3)\n",
            "(7500,)\n"
          ],
          "name": "stdout"
        }
      ]
    },
    {
      "cell_type": "markdown",
      "metadata": {
        "id": "Q9nfmkpStAUW",
        "colab_type": "text"
      },
      "source": [
        "Next cell defines two function for validation of created dataset. Function \"Count_class\" counts instances of a class in dataset and function \"show_img\" show randomly chosen examples with labels."
      ]
    },
    {
      "cell_type": "code",
      "metadata": {
        "id": "rKG2I6NPOZAN",
        "colab_type": "code",
        "colab": {}
      },
      "source": [
        "# list with class names\n",
        "names = ['airplane',\n",
        " 'automobile',\n",
        " 'bird',\n",
        " 'cat',\n",
        " 'deer',\n",
        " 'dog',\n",
        " 'frog',\n",
        " 'horse',\n",
        " 'ship',\n",
        " 'truck']\n",
        "\n",
        "def count_class (Y,class_no):\n",
        "  class_count = 0\n",
        "  for i in range (Y.shape[0]):\n",
        "      if Y[i]==class_no:\n",
        "          class_count += 1\n",
        "  return class_count\n",
        "\n",
        "\n",
        "import matplotlib.pyplot as plt\n",
        "def show_img (X,Y,no):\n",
        "  idx = np.random.randint(Y.shape [0],size = no)  \n",
        "  for i in idx:\n",
        "      #step1 = X[i,:,:,:]\n",
        "      plt.imshow(X[i])\n",
        "      plt.show()\n",
        "      print(names[int(Y[i])])"
      ],
      "execution_count": 0,
      "outputs": []
    },
    {
      "cell_type": "markdown",
      "metadata": {
        "id": "r_WDgoCVtsvy",
        "colab_type": "text"
      },
      "source": [
        "Let's check number of examples of each class in labels vector as well as random images if dataset and labels are synchronized."
      ]
    },
    {
      "cell_type": "code",
      "metadata": {
        "id": "1Jm2LMEQtsQI",
        "colab_type": "code",
        "outputId": "16826fe6-0621-45f2-eed9-744b93c61e6f",
        "colab": {
          "base_uri": "https://localhost:8080/",
          "height": 1000
        }
      },
      "source": [
        "for i in range(10):  \n",
        "    print(f'Examples of class {names[i]}: ' + str(count_class(Y_train_1d,i)))\n",
        "\n",
        "show_img(X_train,Y_train_1d,5)\n"
      ],
      "execution_count": 5,
      "outputs": [
        {
          "output_type": "stream",
          "text": [
            "Examples of class airplane: 5000\n",
            "Examples of class automobile: 5000\n",
            "Examples of class bird: 2500\n",
            "Examples of class cat: 5000\n",
            "Examples of class deer: 2500\n",
            "Examples of class dog: 5000\n",
            "Examples of class frog: 5000\n",
            "Examples of class horse: 5000\n",
            "Examples of class ship: 5000\n",
            "Examples of class truck: 2500\n"
          ],
          "name": "stdout"
        },
        {
          "output_type": "display_data",
          "data": {
            "image/png": "[encoded data removed]",
            "text/plain": [
              "<Figure size 432x288 with 1 Axes>"
            ]
          },
          "metadata": {
            "tags": []
          }
        },
        {
          "output_type": "stream",
          "text": [
            "dog\n"
          ],
          "name": "stdout"
        },
        {
          "output_type": "display_data",
          "data": {
            "image/png": "[encoded data removed]",
            "text/plain": [
              "<Figure size 432x288 with 1 Axes>"
            ]
          },
          "metadata": {
            "tags": []
          }
        },
        {
          "output_type": "stream",
          "text": [
            "ship\n"
          ],
          "name": "stdout"
        },
        {
          "output_type": "display_data",
          "data": {
            "image/png": "[encoded data removed]",
            "text/plain": [
              "<Figure size 432x288 with 1 Axes>"
            ]
          },
          "metadata": {
            "tags": []
          }
        },
        {
          "output_type": "stream",
          "text": [
            "cat\n"
          ],
          "name": "stdout"
        },
        {
          "output_type": "display_data",
          "data": {
            "image/png": "[encoded data removed]",
            "text/plain": [
              "<Figure size 432x288 with 1 Axes>"
            ]
          },
          "metadata": {
            "tags": []
          }
        },
        {
          "output_type": "stream",
          "text": [
            "frog\n"
          ],
          "name": "stdout"
        },
        {
          "output_type": "display_data",
          "data": {
            "image/png": "[encoded data removed]",
            "text/plain": [
              "<Figure size 432x288 with 1 Axes>"
            ]
          },
          "metadata": {
            "tags": []
          }
        },
        {
          "output_type": "stream",
          "text": [
            "bird\n"
          ],
          "name": "stdout"
        }
      ]
    },
    {
      "cell_type": "markdown",
      "metadata": {
        "id": "UsfwhL89uxWO",
        "colab_type": "text"
      },
      "source": [
        "It proves that the dataset was divided properly."
      ]
    },
    {
      "cell_type": "markdown",
      "metadata": {
        "id": "adD2DSnWviOr",
        "colab_type": "text"
      },
      "source": [
        "# Data augmentation\n",
        "\n"
      ]
    },
    {
      "cell_type": "markdown",
      "metadata": {
        "id": "jZCxQ5lrv1An",
        "colab_type": "text"
      },
      "source": [
        "Since dataset is unbalanced in terms of class distribution, it can cause unbalanced training which could lead to 'naive' network where one class has higher probability to be predicted. In the case of CIFAR-10, the model should not have any 'preferable' class therefore some countermeasures should be implemented. According to publication https://arxiv.org/pdf/1710.05381.pdf, a good way to deal with unbalanced dataset is minority oversampling. In order to decrease possibility of overfitting, this method will be combined with data augmentation. In this section, new 2500 examples of undersampled classes will be created."
      ]
    },
    {
      "cell_type": "markdown",
      "metadata": {
        "id": "efjWI7eJ3875",
        "colab_type": "text"
      },
      "source": [
        "Next function adds augmented examples to a dataset.\n",
        "\n",
        "\n",
        "> Arguments:\n",
        "\n",
        "\n",
        "*   X -> numpy array containing examples from dataset\n",
        "*   Y -> numpy array labels corresponding labels\n",
        "*   class_no -> integer indicating which class should be undersampled\n",
        "*   amount -> number of new images to be created\n",
        "\n",
        "\n",
        "\n",
        "> Returns:\n",
        "\n",
        "\n",
        "\n",
        "*   X -> dataset with augmented examples appended\n",
        "*   Y -> corresponding labels\n",
        "\n",
        "\n",
        "\n",
        "\n"
      ]
    },
    {
      "cell_type": "code",
      "metadata": {
        "id": "_ySVLSaMjEk_",
        "colab_type": "code",
        "colab": {}
      },
      "source": [
        "from tensorflow.keras.preprocessing.image import ImageDataGenerator\n",
        "\n",
        "def add_augmented(X,Y,class_no,amount):\n",
        "\n",
        "  # definition of data generator using keras function\n",
        "  datagen = ImageDataGenerator(\n",
        "    rotation_range=15,\n",
        "    width_shift_range=0.2,\n",
        "    height_shift_range=0.2,\n",
        "    shear_range=0.2,\n",
        "    zoom_range=0.3,\n",
        "    horizontal_flip=False,\n",
        "    fill_mode='nearest')\n",
        "  i = 1\n",
        "\n",
        "  # separate only images of selected class for generator\n",
        "  X_separated = X[Y==class_no] \n",
        "  m = X_separated.shape[0]\n",
        "  for batch in datagen.flow(X_separated, batch_size=1): # getting iterator\n",
        "      generated = batch.astype(np.uint8)\n",
        "      X = np.append(X, generated,axis=0)\n",
        "      i += 1\n",
        "\n",
        "      # Since generator is generating images continously, loop break is needed\n",
        "      if i > amount:\n",
        "          break\n",
        "  Y = np.append(Y,(class_no*np.ones((amount,1))).astype(np.uint8))\n",
        "  return X, Y"
      ],
      "execution_count": 0,
      "outputs": []
    },
    {
      "cell_type": "markdown",
      "metadata": {
        "id": "llC9afFp5PRB",
        "colab_type": "text"
      },
      "source": [
        "In order to add 2500 examples for each of undersampled class [bird, deer, truck], function will be run 3 times. Cell might take 10 minutes to run."
      ]
    },
    {
      "cell_type": "code",
      "metadata": {
        "id": "92GfEegi5LgI",
        "colab_type": "code",
        "outputId": "629e9279-9de9-4721-940f-2ee1f3c9018b",
        "colab": {
          "base_uri": "https://localhost:8080/",
          "height": 67
        }
      },
      "source": [
        "with tf.device('/device:GPU:0'):\n",
        "  X_train_aug, Y_train_1d_aug = add_augmented(X_train,Y_train_1d.flatten(),2,2500)\n",
        "  print('Birds addded')\n",
        "  X_train_aug, Y_train_1d_aug = add_augmented(X_train_aug,Y_train_1d_aug.flatten(),4,2500)\n",
        "  print('Deers added')\n",
        "  X_train_aug, Y_train_1d_aug = add_augmented(X_train_aug,Y_train_1d_aug.flatten(),9,2500)\n",
        "  print('Trucks added')"
      ],
      "execution_count": 7,
      "outputs": [
        {
          "output_type": "stream",
          "text": [
            "Birds addded\n",
            "Deers added\n",
            "Trucks added\n"
          ],
          "name": "stdout"
        }
      ]
    },
    {
      "cell_type": "markdown",
      "metadata": {
        "id": "OhqsWqKFEda9",
        "colab_type": "text"
      },
      "source": [
        "Let's shuffle obtained dataset."
      ]
    },
    {
      "cell_type": "code",
      "metadata": {
        "id": "UAow-Zla5bwm",
        "colab_type": "code",
        "colab": {}
      },
      "source": [
        "np.random.seed(1)\n",
        "permutation = list(np.random.permutation(X_train_aug.shape[0]))\n",
        "X_train_aug = X_train_aug[permutation, :, :, :]\n",
        "Y_train_1d_aug = Y_train_1d_aug[permutation]"
      ],
      "execution_count": 0,
      "outputs": []
    },
    {
      "cell_type": "markdown",
      "metadata": {
        "id": "mF7sYu8FEkVA",
        "colab_type": "text"
      },
      "source": [
        "And finally, let's divide test dataset into development dataset, which would be used in the network development process and test dataset, which would be used to judge the network on data that is has never seen."
      ]
    },
    {
      "cell_type": "code",
      "metadata": {
        "id": "YDjwDr7fEhuu",
        "colab_type": "code",
        "colab": {}
      },
      "source": [
        "from sklearn.model_selection import train_test_split\n",
        "X_test,X_dev, Y_test_1d, Y_dev_1d = train_test_split(X_test,Y_test_1d,test_size = 0.5)"
      ],
      "execution_count": 0,
      "outputs": []
    },
    {
      "cell_type": "markdown",
      "metadata": {
        "id": "0TJ9s5chFJm8",
        "colab_type": "text"
      },
      "source": [
        "In the last step, let's evaluate created dataset before using them for classification problem solving."
      ]
    },
    {
      "cell_type": "code",
      "metadata": {
        "id": "GN1j_3pYEzSY",
        "colab_type": "code",
        "outputId": "aab8e0a1-c22b-4500-ab2c-f91a27bb7d8a",
        "colab": {
          "base_uri": "https://localhost:8080/",
          "height": 1000
        }
      },
      "source": [
        "for i in range (10):\n",
        "  print(f'Class: {names[i]}')\n",
        "  print('Training dataset: \\t\\t' + str(count_class(Y_train_1d,i)))\n",
        "  print('Training dataset (augmented): \\t' + str(count_class(Y_train_1d_aug,i)))\n",
        "  print('Test dataset: \\t\\t\\t' + str(count_class(Y_test_1d,i)))\n",
        "  print('Development dataset: \\t\\t' + str(count_class(Y_dev_1d,i)))\n",
        "  print('\\n')"
      ],
      "execution_count": 10,
      "outputs": [
        {
          "output_type": "stream",
          "text": [
            "Class: airplane\n",
            "Training dataset: \t\t5000\n",
            "Training dataset (augmented): \t5000\n",
            "Test dataset: \t\t\t494\n",
            "Development dataset: \t\t506\n",
            "\n",
            "\n",
            "Class: automobile\n",
            "Training dataset: \t\t5000\n",
            "Training dataset (augmented): \t5000\n",
            "Test dataset: \t\t\t478\n",
            "Development dataset: \t\t522\n",
            "\n",
            "\n",
            "Class: bird\n",
            "Training dataset: \t\t2500\n",
            "Training dataset (augmented): \t5000\n",
            "Test dataset: \t\t\t495\n",
            "Development dataset: \t\t505\n",
            "\n",
            "\n",
            "Class: cat\n",
            "Training dataset: \t\t5000\n",
            "Training dataset (augmented): \t5000\n",
            "Test dataset: \t\t\t513\n",
            "Development dataset: \t\t487\n",
            "\n",
            "\n",
            "Class: deer\n",
            "Training dataset: \t\t2500\n",
            "Training dataset (augmented): \t5000\n",
            "Test dataset: \t\t\t488\n",
            "Development dataset: \t\t512\n",
            "\n",
            "\n",
            "Class: dog\n",
            "Training dataset: \t\t5000\n",
            "Training dataset (augmented): \t5000\n",
            "Test dataset: \t\t\t525\n",
            "Development dataset: \t\t475\n",
            "\n",
            "\n",
            "Class: frog\n",
            "Training dataset: \t\t5000\n",
            "Training dataset (augmented): \t5000\n",
            "Test dataset: \t\t\t488\n",
            "Development dataset: \t\t512\n",
            "\n",
            "\n",
            "Class: horse\n",
            "Training dataset: \t\t5000\n",
            "Training dataset (augmented): \t5000\n",
            "Test dataset: \t\t\t486\n",
            "Development dataset: \t\t514\n",
            "\n",
            "\n",
            "Class: ship\n",
            "Training dataset: \t\t5000\n",
            "Training dataset (augmented): \t5000\n",
            "Test dataset: \t\t\t508\n",
            "Development dataset: \t\t492\n",
            "\n",
            "\n",
            "Class: truck\n",
            "Training dataset: \t\t2500\n",
            "Training dataset (augmented): \t5000\n",
            "Test dataset: \t\t\t525\n",
            "Development dataset: \t\t475\n",
            "\n",
            "\n"
          ],
          "name": "stdout"
        }
      ]
    },
    {
      "cell_type": "code",
      "metadata": {
        "id": "_jQAxAKwFvwE",
        "colab_type": "code",
        "colab": {
          "base_uri": "https://localhost:8080/",
          "height": 1000
        },
        "outputId": "ef42fbc4-7dbe-4532-f615-430be83b07c5"
      },
      "source": [
        "show_img(X_train_aug,Y_train_1d_aug,5)"
      ],
      "execution_count": 26,
      "outputs": [
        {
          "output_type": "display_data",
          "data": {
            "image/png": "[encoded data removed]",
            "text/plain": [
              "<Figure size 432x288 with 1 Axes>"
            ]
          },
          "metadata": {
            "tags": []
          }
        },
        {
          "output_type": "stream",
          "text": [
            "bird\n"
          ],
          "name": "stdout"
        },
        {
          "output_type": "display_data",
          "data": {
            "image/png": "[encoded data removed]",
            "text/plain": [
              "<Figure size 432x288 with 1 Axes>"
            ]
          },
          "metadata": {
            "tags": []
          }
        },
        {
          "output_type": "stream",
          "text": [
            "ship\n"
          ],
          "name": "stdout"
        },
        {
          "output_type": "display_data",
          "data": {
            "image/png": "[encoded data removed]",
            "text/plain": [
              "<Figure size 432x288 with 1 Axes>"
            ]
          },
          "metadata": {
            "tags": []
          }
        },
        {
          "output_type": "stream",
          "text": [
            "automobile\n"
          ],
          "name": "stdout"
        },
        {
          "output_type": "display_data",
          "data": {
            "image/png": "[encoded data removed]",
            "text/plain": [
              "<Figure size 432x288 with 1 Axes>"
            ]
          },
          "metadata": {
            "tags": []
          }
        },
        {
          "output_type": "stream",
          "text": [
            "dog\n"
          ],
          "name": "stdout"
        },
        {
          "output_type": "display_data",
          "data": {
            "image/png": "[encoded data removed]",
            "text/plain": [
              "<Figure size 432x288 with 1 Axes>"
            ]
          },
          "metadata": {
            "tags": []
          }
        },
        {
          "output_type": "stream",
          "text": [
            "cat\n"
          ],
          "name": "stdout"
        }
      ]
    },
    {
      "cell_type": "code",
      "metadata": {
        "id": "oBthwe8WqHv4",
        "colab_type": "code",
        "colab": {}
      },
      "source": [
        ""
      ],
      "execution_count": 0,
      "outputs": []
    }
  ]
}