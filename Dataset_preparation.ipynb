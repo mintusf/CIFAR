{
  "nbformat": 4,
  "nbformat_minor": 0,
  "metadata": {
    "colab": {
      "name": "Untitled2.ipynb",
      "provenance": [],
      "include_colab_link": true
    },
    "kernelspec": {
      "name": "python3",
      "display_name": "Python 3"
    }
  },
  "cells": [
    {
      "cell_type": "markdown",
      "metadata": {
        "id": "view-in-github",
        "colab_type": "text"
      },
      "source": [
        "<a href=\"https://colab.research.google.com/github/mintusf/CIFAR/blob/master/Dataset_preparation.ipynb\" target=\"_parent\"><img src=\"https://colab.research.google.com/assets/colab-badge.svg\" alt=\"Open In Colab\"/></a>"
      ]
    },
    {
      "cell_type": "code",
      "metadata": {
        "id": "Qy0BAZYbLxGZ",
        "colab_type": "code",
        "colab": {}
      },
      "source": [
        ""
      ],
      "execution_count": 0,
      "outputs": []
    },
    {
      "cell_type": "markdown",
      "metadata": {
        "id": "clgv0OegLzKb",
        "colab_type": "text"
      },
      "source": [
        "This script's objective is to prepare the dataset for a task. Procedures includes:\n",
        "\n",
        "\n",
        "*   Downloading data\n",
        "*   Deleting images to be undersampled (50% of classes [bird, deer, truck])\n",
        "*   Preparing augmented dataset to balance the distribution of classes\n",
        "*   Save all 4 datasets: training dataset with undersampled data, training dataset with augmented data, development and test datasets with balanced classes distribution"
      ]
    },
    {
      "cell_type": "markdown",
      "metadata": {
        "id": "J2bQNftrMoVq",
        "colab_type": "text"
      },
      "source": [
        "First, let's download CIFAR-10 dataset and check shapes."
      ]
    },
    {
      "cell_type": "code",
      "metadata": {
        "id": "FosqcTVYMn37",
        "colab_type": "code",
        "colab": {
          "base_uri": "https://localhost:8080/",
          "height": 84
        },
        "outputId": "61354425-b8d4-4b23-b4ff-c5440849d1d7"
      },
      "source": [
        "import numpy as np\n",
        "import tensorflow as tf\n",
        "from tensorflow.keras.datasets import cifar10\n",
        "(X_train_original, Y_train_original_1d), (X_test,Y_test_1d) = cifar10.load_data()\n",
        "X_train_original = X_train_original/255.\n",
        "\n",
        "print(X_train_original.shape)\n",
        "print(X_test.shape)\n",
        "print(Y_train_original_1d.shape)\n",
        "print(Y_test_1d.shape)"
      ],
      "execution_count": 11,
      "outputs": [
        {
          "output_type": "stream",
          "text": [
            "(50000, 32, 32, 3)\n",
            "(10000, 32, 32, 3)\n",
            "(50000, 1)\n",
            "(10000, 1)\n"
          ],
          "name": "stdout"
        }
      ]
    },
    {
      "cell_type": "markdown",
      "metadata": {
        "id": "C9pVZINHvwnp",
        "colab_type": "text"
      },
      "source": [
        "## Dataset preparation"
      ]
    },
    {
      "cell_type": "markdown",
      "metadata": {
        "id": "yTWL-dsWPWfw",
        "colab_type": "text"
      },
      "source": [
        "The assumption of the problem is that classes [bird, deer, truck] should be limited to 50%. Following function is deleting images from dataset.\n",
        "\n",
        "\n",
        "\n",
        "> Arguments:\n",
        "\n",
        "\n",
        "*   X -> numpy array containing examples from dataset\n",
        "*   Y -> numpy array labels corresponding labels\n",
        "*   ratio -> float indicating how big part of class should be deleted\n",
        "*   class_no -> integer indicating which class should be undersampled\n",
        "\n",
        "\n",
        "\n",
        "\n",
        "> Returns:\n",
        "\n",
        "\n",
        "*   X -> numpy array containing new dataset with chosen classes undersampled\n",
        "*   Y -> numpy array containing corresponding labels\n",
        "*   deleted_examples -> numpy array containing deleted examples\n",
        "*   deleted_labels -> numpy array containing corresponding labels\n",
        "\n",
        "\n",
        "\n",
        "\n",
        "\n",
        "\n"
      ]
    },
    {
      "cell_type": "code",
      "metadata": {
        "id": "r02TtwxMPy4l",
        "colab_type": "code",
        "colab": {}
      },
      "source": [
        "def del_img (X, Y, ratio, class_no):\n",
        "  \n",
        "  m = X.shape [0]\n",
        "  class_count = 0\n",
        "\n",
        "  # creating empty arrays for deleted dataset\n",
        "  deleted = []\n",
        "  deleted_labels = []\n",
        "\n",
        "  # counting number of examples of selected class\n",
        "  class_count = np.sum(Y==class_no)\n",
        "\n",
        "  # for repeatable results\n",
        "  np.random.seed(1)\n",
        "\n",
        "  # creating and shuffling array of indices\n",
        "  a = np.arange(class_count)\n",
        "  np.random.seed(1)\n",
        "  np.random.shuffle(a)\n",
        "\n",
        "  # picking indices of examples to be deleted\n",
        "  img_to_del = a [:int(class_count*ratio)]\n",
        "  img_to_del_wholearray = []\n",
        "  counter = 0\n",
        "\n",
        "  # looping through the array to find global indices instances of chosen class to be deleted and saving these instances \n",
        "  for i in range(m):\n",
        "      if Y[i]==class_no:\n",
        "          if counter in img_to_del:\n",
        "              img_to_del_wholearray.append(i)\n",
        "              deleted.append (X[i])\n",
        "              deleted_labels.append(int(Y[i]))\n",
        "          counter += 1\n",
        "  \n",
        "  # deleting examples and labels at randomly chosen indices of selected class\n",
        "  X = np.delete(X,img_to_del_wholearray,axis = 0)\n",
        "  Y = np.delete(Y,img_to_del_wholearray,axis = 0)\n",
        "  deleted_examples = np.array(deleted,dtype=np.uint8)\n",
        "  return X, Y, deleted_examples, deleted_labels"
      ],
      "execution_count": 0,
      "outputs": []
    },
    {
      "cell_type": "code",
      "metadata": {
        "id": "0m4gA576Mna7",
        "colab_type": "code",
        "colab": {
          "base_uri": "https://localhost:8080/",
          "height": 67
        },
        "outputId": "2bdeedf2-18e9-4234-df15-bfae4070f164"
      },
      "source": [
        "deleted_all = np.empty((0,32,32,3),dtype=np.uint8)\n",
        "deleted_labels_all = np.empty((0),dtype = np.int8)\n",
        "\n",
        "\n",
        "# Deleting half of birds, cats and deerrs\n",
        "  \n",
        "#deleting half of birds images\n",
        "X_train, Y_train_1d, deleted,deleted_labels = del_img(X_train_original, Y_train_original_1d, 0.5,2)\n",
        "deleted_all = np.append(deleted_all,deleted,axis = 0)\n",
        "deleted_labels_all = np.append(deleted_labels_all,deleted_labels,axis = 0)\n",
        "  \n",
        "#deleting half of deer images\n",
        "X_train, Y_train_1d, deleted,deleted_labels = del_img(X_train, Y_train_1d, 0.5,4)\n",
        "deleted_all = np.append(deleted_all,deleted,axis = 0)\n",
        "deleted_labels_all = np.append(deleted_labels_all,deleted_labels,axis = 0)\n",
        "  \n",
        "#deleting half of track images\n",
        "X_train, Y_train_1d, deleted,deleted_labels = del_img(X_train, Y_train_1d, 0.5,9)\n",
        "deleted_all = np.append(deleted_all,deleted,axis = 0)\n",
        "deleted_labels_all = np.append(deleted_labels_all,deleted_labels,axis = 0)\n",
        "\n",
        "print(X_train.shape)\n",
        "print(deleted_all.shape)\n",
        "print(deleted_labels_all.shape)"
      ],
      "execution_count": 25,
      "outputs": [
        {
          "output_type": "stream",
          "text": [
            "(42500, 32, 32, 3)\n",
            "(7500, 32, 32, 3)\n",
            "(7500,)\n"
          ],
          "name": "stdout"
        }
      ]
    },
    {
      "cell_type": "markdown",
      "metadata": {
        "id": "Q9nfmkpStAUW",
        "colab_type": "text"
      },
      "source": [
        "Next cell defines two function for validation of created dataset. Function \"Count_class\" counts instances of a class in dataset and function \"show_img\" show randomly chosen examples with labels."
      ]
    },
    {
      "cell_type": "code",
      "metadata": {
        "id": "rKG2I6NPOZAN",
        "colab_type": "code",
        "colab": {}
      },
      "source": [
        "# list with class names\n",
        "names = ['airplane',\n",
        " 'automobile',\n",
        " 'bird',\n",
        " 'cat',\n",
        " 'deer',\n",
        " 'dog',\n",
        " 'frog',\n",
        " 'horse',\n",
        " 'ship',\n",
        " 'truck']\n",
        "\n",
        "def count_class (Y,class_no):\n",
        "  class_count = 0\n",
        "  for i in range (Y.shape[0]):\n",
        "      if Y[i]==class_no:\n",
        "          class_count += 1\n",
        "  return class_count\n",
        "\n",
        "\n",
        "import matplotlib.pyplot as plt\n",
        "def show_img (X,Y,no):\n",
        "  idx = np.random.randint(Y.shape [0],size = no)  \n",
        "  for i in idx:\n",
        "      #step1 = X[i,:,:,:]\n",
        "      plt.imshow(X[i])\n",
        "      plt.show()\n",
        "      print(names[int(Y[i])])"
      ],
      "execution_count": 0,
      "outputs": []
    },
    {
      "cell_type": "markdown",
      "metadata": {
        "id": "r_WDgoCVtsvy",
        "colab_type": "text"
      },
      "source": [
        "Let's check number of examples of each class in labels vector as well as random images if dataset and labels are synchronized."
      ]
    },
    {
      "cell_type": "code",
      "metadata": {
        "id": "1Jm2LMEQtsQI",
        "colab_type": "code",
        "colab": {
          "base_uri": "https://localhost:8080/",
          "height": 1000
        },
        "outputId": "a4be7ddc-6aeb-4826-a78e-a2d9cfbb667b"
      },
      "source": [
        "for i in range(10):  \n",
        "    print(f'Examples of class {names[i]}: ' + str(count_class(Y_train_1d,i)))\n",
        "\n",
        "show_img(X_train,Y_train_1d,5)\n"
      ],
      "execution_count": 40,
      "outputs": [
        {
          "output_type": "stream",
          "text": [
            "Examples of class airplane: 5000\n",
            "Examples of class automobile: 5000\n",
            "Examples of class bird: 2500\n",
            "Examples of class cat: 5000\n",
            "Examples of class deer: 2500\n",
            "Examples of class dog: 5000\n",
            "Examples of class frog: 5000\n",
            "Examples of class horse: 5000\n",
            "Examples of class ship: 5000\n",
            "Examples of class truck: 2500\n"
          ],
          "name": "stdout"
        },
        {
          "output_type": "display_data",
          "data": {
            "image/png": "[encoded data removed]",
            "text/plain": [
              "<Figure size 432x288 with 1 Axes>"
            ]
          },
          "metadata": {
            "tags": []
          }
        },
        {
          "output_type": "stream",
          "text": [
            "frog\n"
          ],
          "name": "stdout"
        },
        {
          "output_type": "display_data",
          "data": {
            "image/png": "[encoded data removed]",
            "text/plain": [
              "<Figure size 432x288 with 1 Axes>"
            ]
          },
          "metadata": {
            "tags": []
          }
        },
        {
          "output_type": "stream",
          "text": [
            "automobile\n"
          ],
          "name": "stdout"
        },
        {
          "output_type": "display_data",
          "data": {
            "image/png": "[encoded data removed]",
            "text/plain": [
              "<Figure size 432x288 with 1 Axes>"
            ]
          },
          "metadata": {
            "tags": []
          }
        },
        {
          "output_type": "stream",
          "text": [
            "ship\n"
          ],
          "name": "stdout"
        },
        {
          "output_type": "display_data",
          "data": {
            "image/png": "[encoded data removed]",
            "text/plain": [
              "<Figure size 432x288 with 1 Axes>"
            ]
          },
          "metadata": {
            "tags": []
          }
        },
        {
          "output_type": "stream",
          "text": [
            "airplane\n"
          ],
          "name": "stdout"
        },
        {
          "output_type": "display_data",
          "data": {
            "image/png": "[encoded data removed]",
            "text/plain": [
              "<Figure size 432x288 with 1 Axes>"
            ]
          },
          "metadata": {
            "tags": []
          }
        },
        {
          "output_type": "stream",
          "text": [
            "truck\n"
          ],
          "name": "stdout"
        }
      ]
    },
    {
      "cell_type": "markdown",
      "metadata": {
        "id": "UsfwhL89uxWO",
        "colab_type": "text"
      },
      "source": [
        "It proves that the dataset was divided properly."
      ]
    },
    {
      "cell_type": "markdown",
      "metadata": {
        "id": "adD2DSnWviOr",
        "colab_type": "text"
      },
      "source": [
        "# Data augmentation\n",
        "\n"
      ]
    },
    {
      "cell_type": "markdown",
      "metadata": {
        "id": "jZCxQ5lrv1An",
        "colab_type": "text"
      },
      "source": [
        "Since dataset is unbalanced in terms of class distribution, it can cause unbalanced training which could lead to 'naive' network where one class has higher probability to be predicted. In the case of CIFAR-10, the model should not have any 'preferable' class therefore some countermeasures should be implemented. According to publication https://arxiv.org/pdf/1710.05381.pdf, a good way to deal with unbalanced dataset is minority oversampling. In order to decrease possibility of overfitting, this method will be combined with data augmentation. In this section, new 2500 examples of undersampled classes will be created."
      ]
    },
    {
      "cell_type": "markdown",
      "metadata": {
        "id": "efjWI7eJ3875",
        "colab_type": "text"
      },
      "source": [
        "Next function adds augmented examples to a dataset.\n",
        "\n",
        "\n",
        "> Arguments:\n",
        "\n",
        "\n",
        "*   X -> numpy array containing examples from dataset\n",
        "*   Y -> numpy array labels corresponding labels\n",
        "*   class_no -> integer indicating which class should be undersampled\n",
        "*   amount -> number of new images to be created\n",
        "\n",
        "\n",
        "\n",
        "> Returns:\n",
        "\n",
        "\n",
        "\n",
        "*   X -> dataset with augmented examples appended\n",
        "*   Y -> corresponding labels\n",
        "\n",
        "\n",
        "\n",
        "\n"
      ]
    },
    {
      "cell_type": "code",
      "metadata": {
        "id": "_ySVLSaMjEk_",
        "colab_type": "code",
        "colab": {}
      },
      "source": [
        "from tensorflow.keras.preprocessing.image import ImageDataGenerator\n",
        "\n",
        "def add_augmented(X,Y,class_no,amount):\n",
        "\n",
        "  # definition of data generator using keras function\n",
        "  datagen = ImageDataGenerator(\n",
        "    rotation_range=15,\n",
        "    width_shift_range=0.2,\n",
        "    height_shift_range=0.2,\n",
        "    shear_range=0.2,\n",
        "    zoom_range=0.3,\n",
        "    horizontal_flip=False,\n",
        "    fill_mode='nearest')\n",
        "  i = 1\n",
        "\n",
        "  # separate only images of selected class for generator\n",
        "  X_separated = X[Y==class_no] \n",
        "  m = X_separated.shape[0]\n",
        "  for batch in datagen.flow(X_separated, batch_size=1): # getting iterator\n",
        "      generated = batch.astype(np.uint8)\n",
        "      X = np.append(X, generated,axis=0)\n",
        "      i += 1\n",
        "\n",
        "      # Since generator is generating images continously, loop break is needed\n",
        "      if i > amount:\n",
        "          break\n",
        "  Y = np.append(Y,(class_no*np.ones((amount,1))).astype(np.uint8))\n",
        "  return X, Y"
      ],
      "execution_count": 0,
      "outputs": []
    },
    {
      "cell_type": "markdown",
      "metadata": {
        "id": "llC9afFp5PRB",
        "colab_type": "text"
      },
      "source": [
        "In order to add 2500 examples for each of undersampled class [bird, deer, truck], function will be run 3 times. Cell might take 10 minutes to run."
      ]
    },
    {
      "cell_type": "code",
      "metadata": {
        "id": "92GfEegi5LgI",
        "colab_type": "code",
        "colab": {
          "base_uri": "https://localhost:8080/",
          "height": 421
        },
        "outputId": "ea52361a-ecc0-483e-fef3-19dc6710e960"
      },
      "source": [
        "with tf.device('/device:GPU:0'):\n",
        "  X_train_aug, Y_train_1d_aug = add_augmented(X_train,Y_train_1d.flatten(),2,2500)\n",
        "  X_train_aug, Y_train_1d_aug = add_augmented(X_train_aug,Y_train_1d_aug.flatten(),4,2500)\n",
        "  X_train_aug, Y_train_1d_aug = add_augmented(X_train_aug,Y_train_1d_aug.flatten(),9,2500)"
      ],
      "execution_count": 93,
      "outputs": [
        {
          "output_type": "error",
          "ename": "KeyboardInterrupt",
          "evalue": "ignored",
          "traceback": [
            "\u001b[0;31m---------------------------------------------------------------------------\u001b[0m",
            "\u001b[0;31mKeyboardInterrupt\u001b[0m                         Traceback (most recent call last)",
            "\u001b[0;32m<ipython-input-93-352a0eb981ba>\u001b[0m in \u001b[0;36m<module>\u001b[0;34m()\u001b[0m\n\u001b[1;32m      1\u001b[0m \u001b[0;32mwith\u001b[0m \u001b[0mtf\u001b[0m\u001b[0;34m.\u001b[0m\u001b[0mdevice\u001b[0m\u001b[0;34m(\u001b[0m\u001b[0;34m'/device:GPU:0'\u001b[0m\u001b[0;34m)\u001b[0m\u001b[0;34m:\u001b[0m\u001b[0;34m\u001b[0m\u001b[0;34m\u001b[0m\u001b[0m\n\u001b[1;32m      2\u001b[0m   \u001b[0mX_train_aug\u001b[0m\u001b[0;34m,\u001b[0m \u001b[0mY_train_1d_aug\u001b[0m \u001b[0;34m=\u001b[0m \u001b[0madd_augmented\u001b[0m\u001b[0;34m(\u001b[0m\u001b[0mX_train\u001b[0m\u001b[0;34m,\u001b[0m\u001b[0mY_train_1d\u001b[0m\u001b[0;34m.\u001b[0m\u001b[0mflatten\u001b[0m\u001b[0;34m(\u001b[0m\u001b[0;34m)\u001b[0m\u001b[0;34m,\u001b[0m\u001b[0;36m2\u001b[0m\u001b[0;34m,\u001b[0m\u001b[0;36m2500\u001b[0m\u001b[0;34m)\u001b[0m\u001b[0;34m\u001b[0m\u001b[0;34m\u001b[0m\u001b[0m\n\u001b[0;32m----> 3\u001b[0;31m   \u001b[0mX_train_aug\u001b[0m\u001b[0;34m,\u001b[0m \u001b[0mY_train_1d_aug\u001b[0m \u001b[0;34m=\u001b[0m \u001b[0madd_augmented\u001b[0m\u001b[0;34m(\u001b[0m\u001b[0mX_train_aug\u001b[0m\u001b[0;34m,\u001b[0m\u001b[0mY_train_1d_aug\u001b[0m\u001b[0;34m.\u001b[0m\u001b[0mflatten\u001b[0m\u001b[0;34m(\u001b[0m\u001b[0;34m)\u001b[0m\u001b[0;34m,\u001b[0m\u001b[0;36m4\u001b[0m\u001b[0;34m,\u001b[0m\u001b[0;36m2500\u001b[0m\u001b[0;34m)\u001b[0m\u001b[0;34m\u001b[0m\u001b[0;34m\u001b[0m\u001b[0m\n\u001b[0m\u001b[1;32m      4\u001b[0m   \u001b[0mX_train_aug\u001b[0m\u001b[0;34m,\u001b[0m \u001b[0mY_train_1d_aug\u001b[0m \u001b[0;34m=\u001b[0m \u001b[0madd_augmented\u001b[0m\u001b[0;34m(\u001b[0m\u001b[0mX_train_aug\u001b[0m\u001b[0;34m,\u001b[0m\u001b[0mY_train_1d_aug\u001b[0m\u001b[0;34m.\u001b[0m\u001b[0mflatten\u001b[0m\u001b[0;34m(\u001b[0m\u001b[0;34m)\u001b[0m\u001b[0;34m,\u001b[0m\u001b[0;36m9\u001b[0m\u001b[0;34m,\u001b[0m\u001b[0;36m2500\u001b[0m\u001b[0;34m)\u001b[0m\u001b[0;34m\u001b[0m\u001b[0;34m\u001b[0m\u001b[0m\n",
            "\u001b[0;32m<ipython-input-62-9d96ff08b3bf>\u001b[0m in \u001b[0;36madd_augmented\u001b[0;34m(X, Y, class_no, amount)\u001b[0m\n\u001b[1;32m     19\u001b[0m   \u001b[0;32mfor\u001b[0m \u001b[0mbatch\u001b[0m \u001b[0;32min\u001b[0m \u001b[0mdatagen\u001b[0m\u001b[0;34m.\u001b[0m\u001b[0mflow\u001b[0m\u001b[0;34m(\u001b[0m\u001b[0mX_separated\u001b[0m\u001b[0;34m,\u001b[0m \u001b[0mbatch_size\u001b[0m\u001b[0;34m=\u001b[0m\u001b[0;36m1\u001b[0m\u001b[0;34m)\u001b[0m\u001b[0;34m:\u001b[0m \u001b[0;31m# getting iterator\u001b[0m\u001b[0;34m\u001b[0m\u001b[0;34m\u001b[0m\u001b[0m\n\u001b[1;32m     20\u001b[0m       \u001b[0mgenerated\u001b[0m \u001b[0;34m=\u001b[0m \u001b[0mbatch\u001b[0m\u001b[0;34m.\u001b[0m\u001b[0mastype\u001b[0m\u001b[0;34m(\u001b[0m\u001b[0mnp\u001b[0m\u001b[0;34m.\u001b[0m\u001b[0muint8\u001b[0m\u001b[0;34m)\u001b[0m\u001b[0;34m\u001b[0m\u001b[0;34m\u001b[0m\u001b[0m\n\u001b[0;32m---> 21\u001b[0;31m       \u001b[0mX\u001b[0m \u001b[0;34m=\u001b[0m \u001b[0mnp\u001b[0m\u001b[0;34m.\u001b[0m\u001b[0mappend\u001b[0m\u001b[0;34m(\u001b[0m\u001b[0mX\u001b[0m\u001b[0;34m,\u001b[0m \u001b[0mgenerated\u001b[0m\u001b[0;34m,\u001b[0m\u001b[0maxis\u001b[0m\u001b[0;34m=\u001b[0m\u001b[0;36m0\u001b[0m\u001b[0;34m)\u001b[0m\u001b[0;34m\u001b[0m\u001b[0;34m\u001b[0m\u001b[0m\n\u001b[0m\u001b[1;32m     22\u001b[0m       \u001b[0mi\u001b[0m \u001b[0;34m+=\u001b[0m \u001b[0;36m1\u001b[0m\u001b[0;34m\u001b[0m\u001b[0;34m\u001b[0m\u001b[0m\n\u001b[1;32m     23\u001b[0m \u001b[0;34m\u001b[0m\u001b[0m\n",
            "\u001b[0;32m<__array_function__ internals>\u001b[0m in \u001b[0;36mappend\u001b[0;34m(*args, **kwargs)\u001b[0m\n",
            "\u001b[0;32m/usr/local/lib/python3.6/dist-packages/numpy/lib/function_base.py\u001b[0m in \u001b[0;36mappend\u001b[0;34m(arr, values, axis)\u001b[0m\n\u001b[1;32m   4698\u001b[0m         \u001b[0mvalues\u001b[0m \u001b[0;34m=\u001b[0m \u001b[0mravel\u001b[0m\u001b[0;34m(\u001b[0m\u001b[0mvalues\u001b[0m\u001b[0;34m)\u001b[0m\u001b[0;34m\u001b[0m\u001b[0;34m\u001b[0m\u001b[0m\n\u001b[1;32m   4699\u001b[0m         \u001b[0maxis\u001b[0m \u001b[0;34m=\u001b[0m \u001b[0marr\u001b[0m\u001b[0;34m.\u001b[0m\u001b[0mndim\u001b[0m\u001b[0;34m-\u001b[0m\u001b[0;36m1\u001b[0m\u001b[0;34m\u001b[0m\u001b[0;34m\u001b[0m\u001b[0m\n\u001b[0;32m-> 4700\u001b[0;31m     \u001b[0;32mreturn\u001b[0m \u001b[0mconcatenate\u001b[0m\u001b[0;34m(\u001b[0m\u001b[0;34m(\u001b[0m\u001b[0marr\u001b[0m\u001b[0;34m,\u001b[0m \u001b[0mvalues\u001b[0m\u001b[0;34m)\u001b[0m\u001b[0;34m,\u001b[0m \u001b[0maxis\u001b[0m\u001b[0;34m=\u001b[0m\u001b[0maxis\u001b[0m\u001b[0;34m)\u001b[0m\u001b[0;34m\u001b[0m\u001b[0;34m\u001b[0m\u001b[0m\n\u001b[0m\u001b[1;32m   4701\u001b[0m \u001b[0;34m\u001b[0m\u001b[0m\n\u001b[1;32m   4702\u001b[0m \u001b[0;34m\u001b[0m\u001b[0m\n",
            "\u001b[0;32m<__array_function__ internals>\u001b[0m in \u001b[0;36mconcatenate\u001b[0;34m(*args, **kwargs)\u001b[0m\n",
            "\u001b[0;31mKeyboardInterrupt\u001b[0m: "
          ]
        }
      ]
    },
    {
      "cell_type": "markdown",
      "metadata": {
        "id": "OhqsWqKFEda9",
        "colab_type": "text"
      },
      "source": [
        "Let's shuffle obtained dataset."
      ]
    },
    {
      "cell_type": "code",
      "metadata": {
        "id": "UAow-Zla5bwm",
        "colab_type": "code",
        "colab": {}
      },
      "source": [
        "np.random.seed(1)\n",
        "permutation = list(np.random.permutation(X_train_aug.shape[0]))\n",
        "X_train_aug = X_train_aug[permutation, :, :, :]\n",
        "Y_train_1d_aug = Y_train_1d_aug[permutation]"
      ],
      "execution_count": 0,
      "outputs": []
    },
    {
      "cell_type": "markdown",
      "metadata": {
        "id": "mF7sYu8FEkVA",
        "colab_type": "text"
      },
      "source": [
        "And finally, let's divide test dataset into development dataset, which would be used in the network development process and test dataset, which would be used to judge the network on data that is has never seen."
      ]
    },
    {
      "cell_type": "code",
      "metadata": {
        "id": "YDjwDr7fEhuu",
        "colab_type": "code",
        "colab": {}
      },
      "source": [
        "from sklearn.model_selection import train_test_split\n",
        "X_test,X_dev, Y_test_1d, Y_dev_1d = train_test_split(X_test,Y_test_1d,test_size = 0.5)"
      ],
      "execution_count": 0,
      "outputs": []
    },
    {
      "cell_type": "markdown",
      "metadata": {
        "id": "0TJ9s5chFJm8",
        "colab_type": "text"
      },
      "source": [
        "In the last step, let's evaluate created dataset before using them for classification problem solving."
      ]
    },
    {
      "cell_type": "code",
      "metadata": {
        "id": "GN1j_3pYEzSY",
        "colab_type": "code",
        "colab": {
          "base_uri": "https://localhost:8080/",
          "height": 1000
        },
        "outputId": "8f110880-de89-4a90-e3fb-05ed2f7ea6b2"
      },
      "source": [
        "for i in range (10):\n",
        "  print(f'Class: {names[i]}')\n",
        "  print('Training dataset: \\t\\t' + str(count_class(Y_train_1d,i)))\n",
        "  print('Training dataset (augmented): \\t' + str(count_class(Y_train_1d_aug,i)))\n",
        "  print('Test dataset: \\t\\t\\t' + str(count_class(Y_test_1d,i)))\n",
        "  print('Development dataset: \\t\\t' + str(count_class(Y_dev_1d,i)))\n",
        "  print('\\n')"
      ],
      "execution_count": 92,
      "outputs": [
        {
          "output_type": "stream",
          "text": [
            "Class: airplane\n",
            "Training dataset: \t\t5000\n",
            "Training dataset (augmented): \t5000\n",
            "Test dataset: \t\t\t510\n",
            "Development dataset: \t\t490\n",
            "\n",
            "\n",
            "Class: automobile\n",
            "Training dataset: \t\t5000\n",
            "Training dataset (augmented): \t5000\n",
            "Test dataset: \t\t\t487\n",
            "Development dataset: \t\t513\n",
            "\n",
            "\n",
            "Class: bird\n",
            "Training dataset: \t\t2500\n",
            "Training dataset (augmented): \t2700\n",
            "Test dataset: \t\t\t493\n",
            "Development dataset: \t\t507\n",
            "\n",
            "\n",
            "Class: cat\n",
            "Training dataset: \t\t5000\n",
            "Training dataset (augmented): \t5000\n",
            "Test dataset: \t\t\t527\n",
            "Development dataset: \t\t473\n",
            "\n",
            "\n",
            "Class: deer\n",
            "Training dataset: \t\t2500\n",
            "Training dataset (augmented): \t2500\n",
            "Test dataset: \t\t\t518\n",
            "Development dataset: \t\t482\n",
            "\n",
            "\n",
            "Class: dog\n",
            "Training dataset: \t\t5000\n",
            "Training dataset (augmented): \t5000\n",
            "Test dataset: \t\t\t482\n",
            "Development dataset: \t\t518\n",
            "\n",
            "\n",
            "Class: frog\n",
            "Training dataset: \t\t5000\n",
            "Training dataset (augmented): \t5000\n",
            "Test dataset: \t\t\t500\n",
            "Development dataset: \t\t500\n",
            "\n",
            "\n",
            "Class: horse\n",
            "Training dataset: \t\t5000\n",
            "Training dataset (augmented): \t5000\n",
            "Test dataset: \t\t\t511\n",
            "Development dataset: \t\t489\n",
            "\n",
            "\n",
            "Class: ship\n",
            "Training dataset: \t\t5000\n",
            "Training dataset (augmented): \t5000\n",
            "Test dataset: \t\t\t491\n",
            "Development dataset: \t\t509\n",
            "\n",
            "\n",
            "Class: truck\n",
            "Training dataset: \t\t2500\n",
            "Training dataset (augmented): \t2500\n",
            "Test dataset: \t\t\t481\n",
            "Development dataset: \t\t519\n",
            "\n",
            "\n"
          ],
          "name": "stdout"
        }
      ]
    },
    {
      "cell_type": "code",
      "metadata": {
        "id": "_jQAxAKwFvwE",
        "colab_type": "code",
        "colab": {}
      },
      "source": [
        ""
      ],
      "execution_count": 0,
      "outputs": []
    }
  ]
}