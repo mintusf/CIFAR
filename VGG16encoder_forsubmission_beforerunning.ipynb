{
  "nbformat": 4,
  "nbformat_minor": 0,
  "metadata": {
    "colab": {
      "name": "VGG16encoder_forsubmission.ipynb",
      "provenance": [],
      "collapsed_sections": [],
      "include_colab_link": true
    },
    "kernelspec": {
      "name": "python3",
      "display_name": "Python 3"
    },
    "accelerator": "GPU"
  },
  "cells": [
    {
      "cell_type": "markdown",
      "metadata": {
        "id": "view-in-github",
        "colab_type": "text"
      },
      "source": [
        "<a href=\"https://colab.research.google.com/github/mintusf/CIFAR/blob/master/VGG16encoder_forsubmission_beforerunning.ipynb\" target=\"_parent\"><img src=\"https://colab.research.google.com/assets/colab-badge.svg\" alt=\"Open In Colab\"/></a>"
      ]
    },
    {
      "cell_type": "markdown",
      "metadata": {
        "id": "_xuGdhIxr619",
        "colab_type": "text"
      },
      "source": [
        "# Semi-unsupervised CIFAR-10 classification\n",
        "\n",
        "---\n"
      ]
    },
    {
      "cell_type": "markdown",
      "metadata": {
        "id": "DHIfC1m4CX1V",
        "colab_type": "text"
      },
      "source": [
        "**Data downloading and pre-processing**"
      ]
    },
    {
      "cell_type": "markdown",
      "metadata": {
        "id": "n9wjwcBssItQ",
        "colab_type": "text"
      },
      "source": [
        "This script present model for classification of undersampled CIFAR-10 dataset. All functions needed to build and and train model are included."
      ]
    },
    {
      "cell_type": "markdown",
      "metadata": {
        "id": "17aoP9hesVKS",
        "colab_type": "text"
      },
      "source": [
        "At first, let's connect with google drive in order to download dataset data.\n",
        "You need to click the shown link, choose your google account and allow Google Cloud SDK to access it. The password will be shown which should be inputed in blank area."
      ]
    },
    {
      "cell_type": "code",
      "metadata": {
        "id": "gblZY-ytr7ZW",
        "colab_type": "code",
        "colab": {}
      },
      "source": [
        "!pip install -U -q PyDrive\n",
        "from pydrive.auth import GoogleAuth\n",
        "from pydrive.drive import GoogleDrive\n",
        "from google.colab import auth\n",
        "from oauth2client.client import GoogleCredentials\n",
        "auth.authenticate_user()\n",
        "gauth = GoogleAuth()\n",
        "gauth.credentials = GoogleCredentials.get_application_default()\n",
        "drive = GoogleDrive(gauth)"
      ],
      "execution_count": 0,
      "outputs": []
    },
    {
      "cell_type": "markdown",
      "metadata": {
        "id": "j1dlv3TvKOxd",
        "colab_type": "text"
      },
      "source": [
        "Now, let's download data from Google Drive.\n",
        "\n",
        "\n",
        "\n",
        "*   Train -> undersampled dataset with 42500 examples\n",
        "*   Train_augmented -> training dataset where some augmented examples were added to undersampled classes (50000 examples in total)\n",
        "*   Dev -> balanced dataset with 5000 examples for model development (cross validation)\n",
        "*   Test -> balanced dataset with 5000 examples for final model check"
      ]
    },
    {
      "cell_type": "code",
      "metadata": {
        "id": "inmfCi6SKJRq",
        "colab_type": "code",
        "colab": {}
      },
      "source": [
        "!pip install -U -q PyDrive\n",
        "from pydrive.auth import GoogleAuth\n",
        "from pydrive.drive import GoogleDrive\n",
        "from google.colab import auth\n",
        "from oauth2client.client import GoogleCredentials\n",
        "\n",
        "# Authenticate and create the PyDrive client.\n",
        "auth.authenticate_user()\n",
        "gauth = GoogleAuth()\n",
        "gauth.credentials = GoogleCredentials.get_application_default()\n",
        "drive = GoogleDrive(gauth)\n",
        "\n",
        "# Downloading Train_X file containing 42500 examples with undersampled classes [bird, deer, truck]\n",
        "link = 'https://drive.google.com/open?id=1MfxFllrpEduRC6L42cthQwNWtdtE6DiG'\n",
        "fluff, id = link.split('=')\n",
        "downloaded = drive.CreateFile({'id':id}) \n",
        "downloaded.GetContentFile('Train_X')\n",
        "\n",
        "# Downloading Train_Y file containing 42500 labels for Train_X\n",
        "link = 'https://drive.google.com/open?id=1_WtueFsji8R9o6QFVHfoYfphnYykHQqG'\n",
        "fluff, id = link.split('=')\n",
        "downloaded = drive.CreateFile({'id':id}) \n",
        "downloaded.GetContentFile('Train_Y')\n",
        "\n",
        "# Downloading Train_X_augmented file containing 50000 examples with 7500 examples being augmented images of undersampled classes [bird, deer, truck]\n",
        "link = 'https://drive.google.com/open?id=1Vnfgpdwg248OI91BwoWlUG7rAW8ewYCK'\n",
        "fluff, id = link.split('=')\n",
        "downloaded = drive.CreateFile({'id':id}) \n",
        "downloaded.GetContentFile('Train_X_augmented')\n",
        "\n",
        "# Downloading Train_Y file containing 50000 labels for Train_X_augmented\n",
        "link = 'https://drive.google.com/open?id=1bCrf0yc_Axh0RKkpbHCdNislxvdJZ9VO'\n",
        "fluff, id = link.split('=')\n",
        "downloaded = drive.CreateFile({'id':id}) \n",
        "downloaded.GetContentFile('Train_Y_augmented')\n",
        "\n",
        "link = 'https://drive.google.com/open?id=1X_vSxFLO-IBmPGZ8mP9tK9jtyrkf27dl'\n",
        "fluff, id = link.split('=')\n",
        "downloaded = drive.CreateFile({'id':id}) \n",
        "downloaded.GetContentFile('Dev_X')\n",
        "\n",
        "link = 'https://drive.google.com/open?id=1bEJFQb6rSWnEREG3IBIxvN3enYt0jT0X'\n",
        "fluff, id = link.split('=')\n",
        "downloaded = drive.CreateFile({'id':id}) \n",
        "downloaded.GetContentFile('Dev_Y')\n",
        "\n",
        "link = 'https://drive.google.com/open?id=1v1t_Gu4Ulyt58mSg_bwIeJbvJq0OA80l'\n",
        "fluff, id = link.split('=')\n",
        "downloaded = drive.CreateFile({'id':id}) \n",
        "downloaded.GetContentFile('Test_X')\n",
        "\n",
        "link = 'https://drive.google.com/open?id=1BV8IxrBW46H0Jj_NatVsORQmAki3Osdt'\n",
        "fluff, id = link.split('=')\n",
        "downloaded = drive.CreateFile({'id':id}) \n",
        "downloaded.GetContentFile('Test_Y')"
      ],
      "execution_count": 0,
      "outputs": []
    },
    {
      "cell_type": "markdown",
      "metadata": {
        "id": "AuWZEfVuTBi6",
        "colab_type": "text"
      },
      "source": [
        "Let's download needed libraries"
      ]
    },
    {
      "cell_type": "code",
      "metadata": {
        "id": "o51DgxWVTEmr",
        "colab_type": "code",
        "outputId": "8229e958-d4be-42cc-eff1-d6c574b5e62f",
        "colab": {
          "base_uri": "https://localhost:8080/",
          "height": 62
        }
      },
      "source": [
        "import numpy as np\n",
        "import tensorflow as tf\n",
        "from tensorflow.keras.datasets import cifar10"
      ],
      "execution_count": 0,
      "outputs": [
        {
          "output_type": "display_data",
          "data": {
            "text/html": [
              "<p style=\"color: red;\">\n",
              "The default version of TensorFlow in Colab will soon switch to TensorFlow 2.x.<br>\n",
              "We recommend you <a href=\"https://www.tensorflow.org/guide/migrate\" target=\"_blank\">upgrade</a> now \n",
              "or ensure your notebook will continue to use TensorFlow 1.x via the <code>%tensorflow_version 1.x</code> magic:\n",
              "<a href=\"https://colab.research.google.com/notebooks/tensorflow_version.ipynb\" target=\"_blank\">more info</a>.</p>\n"
            ],
            "text/plain": [
              "<IPython.core.display.HTML object>"
            ]
          },
          "metadata": {
            "tags": []
          }
        }
      ]
    },
    {
      "cell_type": "markdown",
      "metadata": {
        "id": "muP55Uy5TeZ4",
        "colab_type": "text"
      },
      "source": [
        "In the next step, downloaded files will be loaded into variables into dataset variables. Input images are normalized to the range <0, 1> in order to improve training."
      ]
    },
    {
      "cell_type": "code",
      "metadata": {
        "id": "pUci-nBAKTct",
        "colab_type": "code",
        "colab": {}
      },
      "source": [
        "X_train = np.load('Train_X')/255.\n",
        "Y_train_1d = np.load('Train_Y')\n",
        "X_dev = np.load('Dev_X')/255.\n",
        "Y_dev_1d = np.load('Dev_Y')\n",
        "X_test = np.load('Test_X')/255.\n",
        "Y_test_1d = np.load('Test_Y')\n",
        "X_train_augmented = np.load('Train_X_augmented')/255.\n",
        "Y_train_augmented_1d = np.load('Train_Y_augmented')\n"
      ],
      "execution_count": 0,
      "outputs": []
    },
    {
      "cell_type": "markdown",
      "metadata": {
        "id": "dB5CE1JvTsj6",
        "colab_type": "text"
      },
      "source": [
        "Next step is to convert labels into one-hot format. The reason of that is that softmax activation will be used in the last layer which outputs vector with the lenght of the number of classes containing probabilities for each class."
      ]
    },
    {
      "cell_type": "code",
      "metadata": {
        "id": "xRmvyB6KTr3B",
        "colab_type": "code",
        "outputId": "bbfa949f-5c92-47cd-9a13-aa5efa89b366",
        "colab": {
          "base_uri": "https://localhost:8080/",
          "height": 84
        }
      },
      "source": [
        "Y_train = np.eye(10)[Y_train_1d.reshape(-1)]\n",
        "print(Y_train.shape)\n",
        "Y_dev = np.eye(10)[Y_dev_1d.reshape(-1)]\n",
        "print(Y_dev.shape)\n",
        "Y_test = np.eye(10)[Y_test_1d.reshape(-1)]\n",
        "print(Y_test.shape)\n",
        "Y_train_augmented = np.eye(10)[Y_train_augmented_1d.reshape(-1)]\n",
        "print(Y_train_augmented.shape)"
      ],
      "execution_count": 0,
      "outputs": [
        {
          "output_type": "stream",
          "text": [
            "(42500, 10)\n",
            "(5000, 10)\n",
            "(5000, 10)\n",
            "(50000, 10)\n"
          ],
          "name": "stdout"
        }
      ]
    },
    {
      "cell_type": "markdown",
      "metadata": {
        "id": "f-Z1vIWZxbRe",
        "colab_type": "text"
      },
      "source": [
        "Let's save names of labels."
      ]
    },
    {
      "cell_type": "code",
      "metadata": {
        "id": "i_sw-pRvxcn6",
        "colab_type": "code",
        "colab": {}
      },
      "source": [
        "names = ['airplane',\n",
        " 'automobile',\n",
        " 'bird',\n",
        " 'cat',\n",
        " 'deer',\n",
        " 'dog',\n",
        " 'frog',\n",
        " 'horse',\n",
        " 'ship',\n",
        " 'truck']"
      ],
      "execution_count": 0,
      "outputs": []
    },
    {
      "cell_type": "markdown",
      "metadata": {
        "id": "8TdaV_CkCdzh",
        "colab_type": "text"
      },
      "source": [
        "**Autoencoder development**"
      ]
    },
    {
      "cell_type": "markdown",
      "metadata": {
        "id": "bWQ4bPx7TZAk",
        "colab_type": "text"
      },
      "source": [
        "Keras framework will be used for building the model.It includes many functions which simplifies creating deep learning algorithms."
      ]
    },
    {
      "cell_type": "code",
      "metadata": {
        "id": "BP_ynLA2TX_l",
        "colab_type": "code",
        "colab": {}
      },
      "source": [
        "from tensorflow.keras.layers import Input, Add, Dense, Activation, ZeroPadding2D, BatchNormalization, Flatten, Conv2D, AveragePooling2D, MaxPooling2D, Dropout,UpSampling2D\n",
        "from tensorflow.keras.models import Model, load_model\n",
        "from tensorflow.keras import regularizers\n",
        "from tensorflow.keras.initializers import glorot_uniform\n",
        "from tensorflow.keras.utils import plot_model\n",
        "from tensorflow.keras.preprocessing.image import ImageDataGenerator"
      ],
      "execution_count": 0,
      "outputs": []
    },
    {
      "cell_type": "markdown",
      "metadata": {
        "id": "nM81mtCOT3bh",
        "colab_type": "text"
      },
      "source": [
        "Now, let's build the model of convolutional autoencoder. \n",
        "\n",
        "---\n",
        "\n",
        "\n",
        "Autoencoders use same examples as inputs and outputs in order to remove data which are unrelevant for classification and extract informational features in hidden layers which can be used for classification. Usually hidden layers have smaller shape than input in order to 'force' the algorithm to find most useful features. An autoencoder can be divided into encoder and decoder. While the first one encodes the image into lower-dimension format, the second decodes it into the same format as input. Usually, a decoder has a symetrical architecture of an encoder.\n",
        "\n",
        "The architecture is based on VGG-16. It consists of blocks CONV->BN->DROPOUT, however it is important that when MaxPooling layer is used to decrease dimensions, dropout should not be used before it but after. For the training, data augmentation is used.\n",
        "\n",
        "Following function creates a CNN model of autoencoder connecting input layer with output layer.\n",
        "  \n",
        "\n",
        "> Arguments:\n",
        "*   input_img -> an input layer consisting image\n",
        "*   dropout -> probability of dropout\n",
        "\n",
        "\n",
        "\n",
        "> Returns:\n",
        "*   encoded -> a tensor of hidden layer which is used as encoder of input image\n",
        "*   decoded -> the output of autoencoder\n",
        "\n",
        "\n",
        "\n",
        "\n",
        "\n",
        "\n",
        "\n"
      ]
    },
    {
      "cell_type": "code",
      "metadata": {
        "id": "iw0uV7FCS_yH",
        "colab_type": "code",
        "colab": {}
      },
      "source": [
        "def Autoencoder (input_img,dropout):\n",
        "\n",
        "    # The Autoencoder is divided into encoder and decoder\n",
        "    # Shape of input is 32,32,3\n",
        "\n",
        "    # First convolution block of encoder\n",
        "    x = Conv2D(64, (3, 3), activation='relu', padding='same', name = 'Conv1_encoder')(input_img)  # Shape: 32x32x64\n",
        "    x = BatchNormalization(name = 'BN0')(x)\n",
        "    x = Dropout(dropout)(x)\n",
        "\n",
        "    # Second convolution block of encoder\n",
        "    x = Conv2D(64, (3, 3), activation='relu', padding='same', name = 'Conv2_encoder')(x) # Shape: 32x32x64\n",
        "    x = BatchNormalization(name = 'BN1')(x)\n",
        "    \n",
        "    # Max Pooling for dimensions reduction\n",
        "    x = MaxPooling2D((2,2),name = 'MP1')(x)# 16x16x64\n",
        "    x = Dropout(dropout)(x)\n",
        "\n",
        "    # Third convolution block of encoder\n",
        "    x = Conv2D(128, (3, 3), activation='relu', padding='same', name = 'Conv3_encoder')(x) # Shape: 16x16x128\n",
        "    x = BatchNormalization(name = 'BN2')(x)\n",
        "    x = Dropout(dropout)(x)\n",
        "\n",
        "    # Fourth convolution block of encoder\n",
        "    x = Conv2D(128, (3, 3), activation='relu', padding='same', name = 'Conv4_encoder')(x) # Shape: 16x16x128\n",
        "    x = BatchNormalization(name = 'BN3')(x)\n",
        "    \n",
        "    # Max Pooling for dimensions reduction\n",
        "    x = MaxPooling2D((2, 2), padding='same',name = 'MP2')(x) # Shape: 8x8x128\n",
        "    x = Dropout(dropout)(x)\n",
        "\n",
        "    # Fifth convolution block of encoder\n",
        "    x = Conv2D(256, (3, 3), activation='relu', padding='same', name = 'Conv5_encoder')(x) # Shape: 8x8x256\n",
        "    x = BatchNormalization(name = 'BN4')(x)\n",
        "    x = Dropout(dropout)(x)\n",
        "\n",
        "    # Sixth convolution block of encoder\n",
        "    x = Conv2D(256, (3, 3), activation='relu', padding='same', name = 'Conv6_encoder')(x) # Shape: 8x8x256\n",
        "    x = BatchNormalization(name = 'Encoded')(x)\n",
        "\n",
        "    # the encoded representation's shape is 8x8x256\n",
        "    encoded = x\n",
        "\n",
        "    # First convolution block of decoder\n",
        "    x = Conv2D(256, (3, 3), activation='relu', padding='same', name = 'Conv6_decoder')(encoded) # Shape: 8x8x256\n",
        "    x = BatchNormalization(name = 'BN6')(x)\n",
        "    x = Dropout(dropout)(x)\n",
        "\n",
        "    # Second convolution block of decoder\n",
        "    x = Conv2D(256, (3, 3), activation='relu', padding='same', name = 'Conv5_decoder')(x) # Shape: 8x8x256\n",
        "    x = BatchNormalization(name = 'BN7')(x)\n",
        "    \n",
        "    x = UpSampling2D((2,2),name = 'US1')(x) # Shape: 16x16x256\n",
        "    x = Dropout(dropout)(x)\n",
        "\n",
        "    # Third convolution block of decoder\n",
        "    x = Conv2D(128, (3, 3), activation='relu', padding='same', name = 'Conv4_decoder')(x) # Shape: 16x16x128\n",
        "    x = BatchNormalization(name = 'BN8')(x)\n",
        "    x = Dropout(dropout)(x)\n",
        "\n",
        "    # Fourth convolution block of decoder\n",
        "    x = Conv2D(128, (3, 3), activation='relu', padding='same', name = 'Conv3_decoder')(x) # Shape: 16x16x128\n",
        "    x = BatchNormalization(name = 'BN9')(x)\n",
        "    \n",
        "    x = UpSampling2D((2,2),name = 'US2')(x) # Shape: 32x32x128\n",
        "    x = Dropout(dropout)(x)\n",
        "    \n",
        "    # Fifth convolution block of decoder\n",
        "    x = Conv2D(64, (3, 3), activation='relu', padding='same', name = 'Conv2_decoder')(x) # Shape: 32x32x64\n",
        "    x = BatchNormalization(name = 'BN10')(x)\n",
        "    x = Dropout(dropout)(x)\n",
        "\n",
        "    # Sixth convolution block of decoder\n",
        "    x = Conv2D(64, (3, 3), activation='relu', padding='same', name = 'Conv1_decoder')(x) # Shape: 32x32x64\n",
        "    x = BatchNormalization(name = 'BN11')(x)\n",
        "    x = Dropout(dropout)(x)\n",
        "    decoded = Conv2D(3, (3, 3), activation='sigmoid', padding='same', name = 'Output')(x) # Shape: 32x32x3\n",
        "\n",
        "    return (encoded, decoded)"
      ],
      "execution_count": 0,
      "outputs": []
    },
    {
      "cell_type": "markdown",
      "metadata": {
        "id": "aglQ3BaxRTZQ",
        "colab_type": "text"
      },
      "source": [
        "Following function creates autoencoder network.\n",
        "\n",
        "> Arguments:\n",
        "*   dropout -> probability of dropout\n",
        "*   load_weights -> boolean argument deciding if weights of a pre-trained model should be used as initial\n",
        "*   train -> boolean argument deciding if the model should be train (it is possible to just load weights without training)\n",
        "*   save_model -> boolean deciding if model and its weigths be save on google drive\n",
        "*   augmentation -> boolean deciding if augmentation is used\n",
        "*   model_name -> string with the name of file with weigths to be saved\n",
        "\n",
        "\n",
        "\n",
        "\n",
        "> Returns:\n",
        "*   model_autoenc -> a class of created model\n",
        "*   history -> a history of training process (if trained)\n"
      ]
    },
    {
      "cell_type": "code",
      "metadata": {
        "id": "Xm8o1Y44UIwH",
        "colab_type": "code",
        "colab": {}
      },
      "source": [
        "def autoencoder_train(x_train, x_dev,dropout,load_weights = False, train_model = True, save_model = False, augmentation = False, model_name=''):\n",
        "  # Creating the tensor of input layer\n",
        "  input_img = Input(shape = (32,32,3))\n",
        "\n",
        "  # Creating a model based on architecture from Autoencoder function\n",
        "  model_autoenc = Model(input_img,Autoencoder(input_img,dropout)[1],name = 'Autoencoder')\n",
        "\n",
        "  # Defining Adam as used optimizer\n",
        "  Adam = tf.keras.optimizers.Adam(learning_rate=0.001, beta_1=0.9, beta_2=0.999, amsgrad=False)\n",
        "\n",
        "  # Compiling the model with mean square error as loss function, because it will represent how much information is lost by average in each pixel  \n",
        "  model_autoenc.compile(optimizer='adam', loss='mse', metrics=['accuracy'])\n",
        "\n",
        "  # Printing model's architecture\n",
        "  model_autoenc.summary()\n",
        "\n",
        "  # Loading weights from google drive file\n",
        "  if load_weights:\n",
        "    last_weight_file = drive.CreateFile({'id': '1uQ4fMOlGQeXj-Wh7az6bixJcFJAymez0'}) \n",
        "    last_weight_file.GetContentFile('last_weights.mat')\n",
        "    model_autoenc.load_weights('last_weights.mat')\n",
        "    print('Weights loaded.')\n",
        "\n",
        "  # Autoencoder training\n",
        "  if train:\n",
        "  \n",
        "  # Creating data generator \n",
        "    if augmentation:\n",
        "      datagen = ImageDataGenerator(\n",
        "        featurewise_center=False,  # set input mean to 0 over the dataset\n",
        "        samplewise_center=False,  # set each sample mean to 0\n",
        "        featurewise_std_normalization=False,  # divide inputs by std of the dataset\n",
        "        samplewise_std_normalization=False,  # divide each input by its std\n",
        "        zca_whitening=False,  # apply ZCA whitening\n",
        "        rotation_range=15,  # randomly rotate images in the range (degrees, 0 to 180)\n",
        "        width_shift_range=0.1,  # randomly shift images horizontally (fraction of total width)\n",
        "        height_shift_range=0.1,  # randomly shift images vertically (fraction of total height)\n",
        "        zoom_range=0.1,\n",
        "        shear_range=0.1,\n",
        "        horizontal_flip=True,  # randomly flip images\n",
        "        vertical_flip=False)  # randomly flip images\n",
        "      \n",
        "      # Fitting data generator to training dataset\n",
        "      datagen.fit(x_train)\n",
        "\n",
        "      # Training\n",
        "      history = model_autoenc.fit_generator(datagen.flow(x_train, x_train,\n",
        "                                      batch_size=256),\n",
        "                          steps_per_epoch=x_train.shape[0] // batch_size,\n",
        "                          epochs=50,\n",
        "                          validation_data=(x_dev, x_dev),verbose=2)\n",
        "    \n",
        "    # Training without augmentation option\n",
        "    else:\n",
        "        history = model_autoenc.fit(x_train, x_train, validation_data=(x_dev, x_dev), epochs = 50, batch_size = 256,verbose = 2)\n",
        "    print('Training finished.')\n",
        "  else:\n",
        "    history = None\n",
        "  if save_weights:\n",
        "    # Saving model on Google Drive\n",
        "    model_autoenc.save(model_name + '.h5')    \n",
        "    model_file = drive.CreateFile({'title' : model_name + '.h5'})\n",
        "    model_file.SetContentFile(model_name + '.h5')\n",
        "    model_file.Upload()\n",
        "    drive.CreateFile({'id': model_file.get('id')})\n",
        "    print(f\"Model saved, id: {model_file.get('''id''')}\")\n",
        "\n",
        "    # Saving weights on Google Drive\n",
        "    model_autoenc.save_weights(model_name + '_weights.h5')\n",
        "    weights_file = drive.CreateFile({'title' : model_name + '_weights.h5'})\n",
        "    weights_file.SetContentFile(model_name + '_weights.h5')\n",
        "    weights_file.Upload()\n",
        "    drive.CreateFile({'id': weights_file.get('id')})\n",
        "    print(f\"Weights saved, id: {model_file.get('''id''')}\")\n",
        "\n",
        "  return model_autoenc, history"
      ],
      "execution_count": 0,
      "outputs": []
    },
    {
      "cell_type": "markdown",
      "metadata": {
        "id": "7_IugEG478gu",
        "colab_type": "text"
      },
      "source": [
        "Now autoencoder model can be created. By default, weights from a pre-trained mode are used.\n",
        "\n",
        "Note:\n",
        "If download error is raised, please rerun first cell from the script."
      ]
    },
    {
      "cell_type": "code",
      "metadata": {
        "id": "eKbAQuhG78sV",
        "colab_type": "code",
        "outputId": "6196e8b6-e899-4612-97af-8372ae83ec27",
        "colab": {
          "base_uri": "https://localhost:8080/",
          "height": 1000
        }
      },
      "source": [
        "model_autoenc, history = autoencoder_train(0.1,load_weights = True, train_model = False,save_model=False,augmentation = False)"
      ],
      "execution_count": 0,
      "outputs": [
        {
          "output_type": "stream",
          "text": [
            "Model: \"Autoencoder\"\n",
            "_________________________________________________________________\n",
            "Layer (type)                 Output Shape              Param #   \n",
            "=================================================================\n",
            "input_12 (InputLayer)        [(None, 32, 32, 3)]       0         \n",
            "_________________________________________________________________\n",
            "Conv1_encoder (Conv2D)       (None, 32, 32, 64)        1792      \n",
            "_________________________________________________________________\n",
            "BN0 (BatchNormalization)     (None, 32, 32, 64)        256       \n",
            "_________________________________________________________________\n",
            "dropout_88 (Dropout)         (None, 32, 32, 64)        0         \n",
            "_________________________________________________________________\n",
            "Conv2_encoder (Conv2D)       (None, 32, 32, 64)        36928     \n",
            "_________________________________________________________________\n",
            "BN1 (BatchNormalization)     (None, 32, 32, 64)        256       \n",
            "_________________________________________________________________\n",
            "MP1 (MaxPooling2D)           (None, 16, 16, 64)        0         \n",
            "_________________________________________________________________\n",
            "dropout_89 (Dropout)         (None, 16, 16, 64)        0         \n",
            "_________________________________________________________________\n",
            "Conv3_encoder (Conv2D)       (None, 16, 16, 128)       73856     \n",
            "_________________________________________________________________\n",
            "BN2 (BatchNormalization)     (None, 16, 16, 128)       512       \n",
            "_________________________________________________________________\n",
            "dropout_90 (Dropout)         (None, 16, 16, 128)       0         \n",
            "_________________________________________________________________\n",
            "Conv4_encoder (Conv2D)       (None, 16, 16, 128)       147584    \n",
            "_________________________________________________________________\n",
            "BN3 (BatchNormalization)     (None, 16, 16, 128)       512       \n",
            "_________________________________________________________________\n",
            "MP2 (MaxPooling2D)           (None, 8, 8, 128)         0         \n",
            "_________________________________________________________________\n",
            "dropout_91 (Dropout)         (None, 8, 8, 128)         0         \n",
            "_________________________________________________________________\n",
            "Conv5_encoder (Conv2D)       (None, 8, 8, 256)         295168    \n",
            "_________________________________________________________________\n",
            "BN4 (BatchNormalization)     (None, 8, 8, 256)         1024      \n",
            "_________________________________________________________________\n",
            "dropout_92 (Dropout)         (None, 8, 8, 256)         0         \n",
            "_________________________________________________________________\n",
            "Conv6_encoder (Conv2D)       (None, 8, 8, 256)         590080    \n",
            "_________________________________________________________________\n",
            "Encoded (BatchNormalization) (None, 8, 8, 256)         1024      \n",
            "_________________________________________________________________\n",
            "Conv6_decoder (Conv2D)       (None, 8, 8, 256)         590080    \n",
            "_________________________________________________________________\n",
            "BN6 (BatchNormalization)     (None, 8, 8, 256)         1024      \n",
            "_________________________________________________________________\n",
            "dropout_93 (Dropout)         (None, 8, 8, 256)         0         \n",
            "_________________________________________________________________\n",
            "Conv5_decoder (Conv2D)       (None, 8, 8, 256)         590080    \n",
            "_________________________________________________________________\n",
            "BN7 (BatchNormalization)     (None, 8, 8, 256)         1024      \n",
            "_________________________________________________________________\n",
            "US1 (UpSampling2D)           (None, 16, 16, 256)       0         \n",
            "_________________________________________________________________\n",
            "dropout_94 (Dropout)         (None, 16, 16, 256)       0         \n",
            "_________________________________________________________________\n",
            "Conv4_decoder (Conv2D)       (None, 16, 16, 128)       295040    \n",
            "_________________________________________________________________\n",
            "BN8 (BatchNormalization)     (None, 16, 16, 128)       512       \n",
            "_________________________________________________________________\n",
            "dropout_95 (Dropout)         (None, 16, 16, 128)       0         \n",
            "_________________________________________________________________\n",
            "Conv3_decoder (Conv2D)       (None, 16, 16, 128)       147584    \n",
            "_________________________________________________________________\n",
            "BN9 (BatchNormalization)     (None, 16, 16, 128)       512       \n",
            "_________________________________________________________________\n",
            "US2 (UpSampling2D)           (None, 32, 32, 128)       0         \n",
            "_________________________________________________________________\n",
            "dropout_96 (Dropout)         (None, 32, 32, 128)       0         \n",
            "_________________________________________________________________\n",
            "Conv2_decoder (Conv2D)       (None, 32, 32, 64)        73792     \n",
            "_________________________________________________________________\n",
            "BN10 (BatchNormalization)    (None, 32, 32, 64)        256       \n",
            "_________________________________________________________________\n",
            "dropout_97 (Dropout)         (None, 32, 32, 64)        0         \n",
            "_________________________________________________________________\n",
            "Conv1_decoder (Conv2D)       (None, 32, 32, 64)        36928     \n",
            "_________________________________________________________________\n",
            "BN11 (BatchNormalization)    (None, 32, 32, 64)        256       \n",
            "_________________________________________________________________\n",
            "dropout_98 (Dropout)         (None, 32, 32, 64)        0         \n",
            "_________________________________________________________________\n",
            "Output (Conv2D)              (None, 32, 32, 3)         1731      \n",
            "=================================================================\n",
            "Total params: 2,887,811\n",
            "Trainable params: 2,884,227\n",
            "Non-trainable params: 3,584\n",
            "_________________________________________________________________\n",
            "Weights loaded.\n"
          ],
          "name": "stdout"
        }
      ]
    },
    {
      "cell_type": "markdown",
      "metadata": {
        "id": "sHr8k0_g91Q_",
        "colab_type": "text"
      },
      "source": [
        "Following function visualize training process."
      ]
    },
    {
      "cell_type": "code",
      "metadata": {
        "id": "scLHUSiadRK6",
        "colab_type": "code",
        "colab": {}
      },
      "source": [
        "def visualize_training(history):\n",
        "  import matplotlib.pyplot as plt\n",
        "\n",
        "  figure,ax = plt.subplots(1,2,figsize = (10,4))\n",
        "  ax[0].plot(history.history['acc'])\n",
        "  ax[0].plot(history.history['val_acc'])\n",
        "  ax[0].set_title('Model accuracy')\n",
        "  ax[0].set_ylabel('Accuracy')\n",
        "  ax[0].set_xlabel('Epoch')\n",
        "  ax[0].legend(['Train', 'Test'], loc='upper left')\n",
        "\n",
        "  # Plot training & validation loss values\n",
        "  ax[1].plot(history.history['loss'])\n",
        "  ax[1].plot(history.history['val_loss'])\n",
        "  ax[1].set_title('Model loss')\n",
        "  ax[1].set_ylabel('Loss')\n",
        "  ax[1].set_xlabel('Epoch')\n",
        "  ax[1].legend(['Train', 'Test'], loc='upper left')\n",
        "  plt.show()"
      ],
      "execution_count": 0,
      "outputs": []
    },
    {
      "cell_type": "code",
      "metadata": {
        "id": "tpdiOLC9A0vp",
        "colab_type": "code",
        "colab": {}
      },
      "source": [
        "if history!=None:\n",
        "  visualize_training(history)"
      ],
      "execution_count": 0,
      "outputs": []
    },
    {
      "cell_type": "markdown",
      "metadata": {
        "id": "gR2hjthPX4AZ",
        "colab_type": "text"
      },
      "source": [
        "Let's see the example of input image and decoded output from autoencoder."
      ]
    },
    {
      "cell_type": "code",
      "metadata": {
        "id": "Y9PyhbowWG4H",
        "colab_type": "code",
        "outputId": "f583cd1e-b6b0-44d0-88d6-58b3c40c7cf4",
        "colab": {
          "base_uri": "https://localhost:8080/",
          "height": 531
        }
      },
      "source": [
        "import matplotlib.pyplot as plt\n",
        "\n",
        "i = np.random.randint(5000)\n",
        "decoded = model_autoenc.predict(np.reshape(X_test[i],(-1,32,32,3)))\n",
        "plt.imshow(X_test[i])\n",
        "plt.show()\n",
        "plt.imshow(decoded[0])"
      ],
      "execution_count": 0,
      "outputs": [
        {
          "output_type": "display_data",
          "data": {
            "image/png": "[encoded data removed]",
            "text/plain": [
              "<Figure size 432x288 with 1 Axes>"
            ]
          },
          "metadata": {
            "tags": []
          }
        },
        {
          "output_type": "execute_result",
          "data": {
            "text/plain": [
              "<matplotlib.image.AxesImage at 0x7ff2d040e2b0>"
            ]
          },
          "metadata": {
            "tags": []
          },
          "execution_count": 62
        },
        {
          "output_type": "display_data",
          "data": {
            "image/png": "[encoded data removed]",
            "text/plain": [
              "<Figure size 432x288 with 1 Axes>"
            ]
          },
          "metadata": {
            "tags": []
          }
        }
      ]
    },
    {
      "cell_type": "markdown",
      "metadata": {
        "id": "zhgQy4dEX9uQ",
        "colab_type": "text"
      },
      "source": [
        "It seems that not much information is lost. It means that the autoencoder does not decrease variance of image."
      ]
    },
    {
      "cell_type": "markdown",
      "metadata": {
        "id": "Wqn3ESEUChmX",
        "colab_type": "text"
      },
      "source": [
        "**Classifier development**"
      ]
    },
    {
      "cell_type": "markdown",
      "metadata": {
        "id": "z800VUeJajqE",
        "colab_type": "text"
      },
      "source": [
        "Now let's create another network for final classification, which will be 'attached' to the hidden layer inside of the developed autoencoder called. The goal is to use features extracted by autoencoder as input to classification network in order to achieve accurate classification."
      ]
    },
    {
      "cell_type": "markdown",
      "metadata": {
        "id": "cYIgFp08wgNR",
        "colab_type": "text"
      },
      "source": [
        "Following function build the classification model consisting of 2 convolutional blocks (Conv, Batch_norm, Activation and dropout) using autoencoder's hidden layer as input.\n",
        "\n",
        "> Arguments:\n",
        "*   encoded -> tensor of input layer for the network\n",
        "*   weights_decay -> l2 regularization parameter\n",
        "*   train -> boolean argument deciding if the model should be train (it is possible to just load weights without training)\n",
        "*   num_classes -> number of classes\n",
        "*   dropout -> the probability of dropout \n",
        "\n",
        "\n",
        "\n",
        "> Returns:\n",
        "*   X -> tensor with output layer of classifier (shape [m,10])"
      ]
    },
    {
      "cell_type": "code",
      "metadata": {
        "id": "cI6ty26SE8A0",
        "colab_type": "code",
        "colab": {}
      },
      "source": [
        "def build_model(encoded,weight_decay,num_classes,dropout,dropout_fc):\n",
        "\n",
        "      # First convolutional block\n",
        "      X = Conv2D(512, (3, 3), padding='same',kernel_regularizer=regularizers.l2(weight_decay))(encoded)\n",
        "      X = BatchNormalization()(X)\n",
        "      X = Activation('relu')(X)\n",
        "      \n",
        "      X = MaxPooling2D(pool_size=(2, 2))(X)\n",
        "      X = Dropout(dropout)(X)\n",
        "\n",
        "      # First convolutional block\n",
        "      X = Conv2D(512, (3, 3), padding='same',kernel_regularizer=regularizers.l2(weight_decay))(X)\n",
        "      X = BatchNormalization()(X)\n",
        "      X = Activation('relu')(X)  \n",
        "      \n",
        "      X = MaxPooling2D(pool_size=(2, 2))(X)\n",
        "      X = Dropout(dropout)(X)\n",
        "\n",
        "      # First fully connected layer\n",
        "      X = Flatten()(X)\n",
        "      X = Dense(1024,kernel_regularizer=regularizers.l2(weight_decay))(X)\n",
        "      X = BatchNormalization()(X)\n",
        "      X = Activation('relu')(X)  \n",
        "      X = Dropout(dropout_fc)(X)\n",
        "\n",
        "      # Second fully connected layer\n",
        "      X = Dense(1024,kernel_regularizer=regularizers.l2(weight_decay))(X)\n",
        "      X = BatchNormalization()(X)\n",
        "      X = Activation('relu')(X)  \n",
        "      X = Dropout(dropout_fc)(X)\n",
        "\n",
        "      # Output layer with softmax function\n",
        "      X = Dense(num_classes)(X)\n",
        "      X = Activation('softmax')(X)\n",
        "      \n",
        "      return X"
      ],
      "execution_count": 0,
      "outputs": []
    },
    {
      "cell_type": "markdown",
      "metadata": {
        "id": "bqDIQAyjF18z",
        "colab_type": "text"
      },
      "source": [
        "Nextr function is for training the classifier\n",
        "\n",
        "> Arguments:\n",
        "*   epochs -> number of epochs for training\n",
        "*   model_classifier -> instance of a model to be trained\n",
        "*   x_train -> training dataset\n",
        "*   y_train -> training labels\n",
        "*   x_dev -> development dataset\n",
        "*   y_dev -> development labels\n",
        "*   learning rate\n",
        "*   augmentation -> boolean deciding if augmentation is used\n",
        "\n",
        "\n",
        "\n",
        "> Returns:\n",
        "*   model_classifier -> trained model\n",
        "*   history -> training history"
      ]
    },
    {
      "cell_type": "code",
      "metadata": {
        "id": "iyPQFlFlF2Jv",
        "colab_type": "code",
        "colab": {}
      },
      "source": [
        "def train(epochs,model_classifier,x_train,y_train,x_dev,y_dev,learning_rate=0.001, augmentation = True):\n",
        "\n",
        "    #training parameters\n",
        "    batch_size = 256\n",
        "    learning_rate = learning_rate\n",
        "    lr_decay = 1e-6\n",
        "    lr_drop = 20\n",
        "\n",
        "    #data augmentation\n",
        "    datagen = ImageDataGenerator(\n",
        "        featurewise_center=False,  # set input mean to 0 over the dataset\n",
        "        samplewise_center=False,  # set each sample mean to 0\n",
        "        featurewise_std_normalization=False,  # divide inputs by std of the dataset\n",
        "        samplewise_std_normalization=False,  # divide each input by its std\n",
        "        zca_whitening=False,  # apply ZCA whitening\n",
        "        rotation_range=15,  # randomly rotate images in the range (degrees, 0 to 180)\n",
        "        width_shift_range=0.1,  # randomly shift images horizontally (fraction of total width)\n",
        "        height_shift_range=0.1,  # randomly shift images vertically (fraction of total height)\n",
        "        zoom_range=0.1,\n",
        "        shear_range=0.1,\n",
        "        horizontal_flip=True,  # randomly flip images\n",
        "        vertical_flip=False)  # randomly flip images\n",
        "    \n",
        "    # Fitting generator to training dataset\n",
        "    datagen.fit(x_train)\n",
        "\n",
        "    # class weights for loss function\n",
        "    class_weight = {0: 1.,1: 1.,2: 5.,3: 2.,4: 3.,5: 4.,6: 1.,7: 1.,8: 1.,9: 1.}\n",
        "\n",
        "    # Training with augmentation\n",
        "    if augmentation:\n",
        "      history = model_classifier.fit_generator(datagen.flow(x_train, y_train,\n",
        "                                      batch_size=batch_size),\n",
        "                          steps_per_epoch=x_train.shape[0] // batch_size,\n",
        "                          epochs=epochs,\n",
        "                          validation_data=(x_dev, y_dev),verbose=2,class_weight = class_weight)\n",
        "    \n",
        "    else:  \n",
        "      history = model_classifier.fit(x_train,y_train, batch_size=batch_size,epochs=maxepoches,validation_data=(x_test, y_test),verbose=1,class_weight = class_weight)\n",
        "\n",
        "    return model_classifier, history"
      ],
      "execution_count": 0,
      "outputs": []
    },
    {
      "cell_type": "markdown",
      "metadata": {
        "id": "-ADN9iHtF8aj",
        "colab_type": "text"
      },
      "source": [
        "Nextr function is for training the classifier\n",
        "\n",
        "> Arguments:\n",
        "*   epochs -> number of epochs for training\n",
        "*   x_train -> training dataset\n",
        "*   y_train -> training labels\n",
        "*   x_dev -> development dataset\n",
        "*   y_dev -> development labels\n",
        "*   load_weights -> boolean deciding if pre-trained weigths should be downloaded\n",
        "*   train_model -> boolean deciding if training process is executed\n",
        "*   trainable_autoencoder -> boolean deciding if autoencoder layers are trainable\n",
        "*   save_weights -> boolean deciding if optimized weights are saved on google drive\n",
        "*   augmentation -> boolean deciding if augmentation is used\n",
        "*   learning rate\n",
        "*   dropout -> probability for classifier's CNN layers\n",
        "*   dropout_fc -> probability for fully connected layers\n",
        "*   weights_id -> google drive id of weights to be loaded\n",
        "*   model_name -> name of model for saved files\n",
        "\n",
        "\n",
        "> Returns:\n",
        "*   model -> trained model\n",
        "*   history -> training history"
      ]
    },
    {
      "cell_type": "code",
      "metadata": {
        "id": "oDofFvbFF8h7",
        "colab_type": "code",
        "colab": {}
      },
      "source": [
        "from tensorflow.keras import optimizers\n",
        "\n",
        "def build_and_train(epochs,x_train,y_train,x_dev,y_dev,load_weights=True,train_model=True,trainable_autoencoder=True, save_weights = False, augmentation = True,learning_rate=0.001, dropout = 0.1, weights_id = None,ae_drop = 0.0, dropout_fc=0.3,model_name=''):\n",
        "    =\n",
        "    # Model parameters\n",
        "    num_classes = 10\n",
        "    weight_decay = 0\n",
        "    x_shape = [32,32,3]\n",
        "    input_img = Input((32,32,3))\n",
        "\n",
        "    # Creating instance of encoder's part of autoencoder model\n",
        "    encoded = Autoencoder(input_img,ae_drop)[0]\n",
        "\n",
        "    # Joining classifier with encoder\n",
        "    model = Model(input_img,build_model(encoded,weight_decay,num_classes,dropout,dropout_fc=dropout_fc))\n",
        "\n",
        "    # Copying weights from encoder\n",
        "    for l1,l2 in zip(model.layers[:20],model_autoenc.layers[:20]):\n",
        "      l1.set_weights(l2.get_weights())\n",
        "\n",
        "    # Choosing trainability of encoder's layers\n",
        "    for layer in model.layers[0:20]:\n",
        "      layer.trainable = trainable_autoencoder\n",
        "\n",
        "    # Loading weights of a whole classifier (if set)\n",
        "    if load_weights:\n",
        "      last_weight_file = drive.CreateFile({'id': weights_id}) \n",
        "      last_weight_file.GetContentFile('last_weights.mat')\n",
        "      model.load_weights('last_weights.mat')\n",
        "\n",
        "    # Printing model's structure\n",
        "    model.summary()\n",
        "\n",
        "    # Using Adam optimizer\n",
        "    adam = optimizers.Adam(learning_rate=learning_rate, beta_1=0.9, beta_2=0.999, amsgrad=False)\n",
        "\n",
        "    # Compiling the model\n",
        "    model.compile(loss='categorical_crossentropy', optimizer=adam,metrics=['accuracy'])\n",
        "\n",
        "    # Training the model\n",
        "    if train_model:\n",
        "      model,history = train(epochs, model,x_train,y_train,x_dev,y_dev,learning_rate,augmentation)\n",
        "    else:\n",
        "      history=None\n",
        "\n",
        "    if save_weights:\n",
        "      # saving model\n",
        "      model.save(model_name + '.h5')    \n",
        "      model_file = drive.CreateFile({'title' : model_name + '.h5'})\n",
        "      model_file.SetContentFile(model_name + '.h5')\n",
        "      model_file.Upload()\n",
        "      drive.CreateFile({'id': model_file.get('id')})\n",
        "      print(f\"Model saved, id: {model_file.get('''id''')}\")\n",
        "\n",
        "      # saving weights\n",
        "      model.save_weights(model_name + '_weights.h5')\n",
        "      weights_file = drive.CreateFile({'title' : model_name + '_weights.h5'})\n",
        "      weights_file.SetContentFile(model_name + '_weights.h5')\n",
        "      weights_file.Upload()\n",
        "      drive.CreateFile({'id': weights_file.get('id')})\n",
        "      print(f\"Weights saved, id: {model_file.get('''id''')}\")\n",
        "\n",
        "    return model,history\n"
      ],
      "execution_count": 0,
      "outputs": []
    },
    {
      "cell_type": "markdown",
      "metadata": {
        "id": "LmvbQz9_s7AG",
        "colab_type": "text"
      },
      "source": [
        "Let's use these functions to train model or download pre-trained weights."
      ]
    },
    {
      "cell_type": "code",
      "metadata": {
        "id": "2t12pjVOc4pl",
        "colab_type": "code",
        "outputId": "7fc10207-815f-4ab3-89a1-9bb77a409f85",
        "colab": {
          "base_uri": "https://localhost:8080/",
          "height": 1000
        }
      },
      "source": [
        "with tf.device('/device:GPU:0'):\n",
        "  model_classifier1,history = build_and_train(10,X_train_augmented,Y_train_augmented,X_dev,Y_dev,load_weights=True, train_model=False,trainable_autoencoder=True, save_weights = False,dropout = 0.4, ae_drop = 0.4, dropout_fc=0.4,weights_id = '1-aJJgiDnh09ii4Fj2CFFTQ42fE99SVIR')"
      ],
      "execution_count": 0,
      "outputs": [
        {
          "output_type": "stream",
          "text": [
            "Model: \"model_5\"\n",
            "_________________________________________________________________\n",
            "Layer (type)                 Output Shape              Param #   \n",
            "=================================================================\n",
            "input_4 (InputLayer)         [(None, 32, 32, 3)]       0         \n",
            "_________________________________________________________________\n",
            "Conv1_encoder (Conv2D)       (None, 32, 32, 64)        1792      \n",
            "_________________________________________________________________\n",
            "BN0 (BatchNormalization)     (None, 32, 32, 64)        256       \n",
            "_________________________________________________________________\n",
            "dropout_174 (Dropout)        (None, 32, 32, 64)        0         \n",
            "_________________________________________________________________\n",
            "Conv2_encoder (Conv2D)       (None, 32, 32, 64)        36928     \n",
            "_________________________________________________________________\n",
            "BN1 (BatchNormalization)     (None, 32, 32, 64)        256       \n",
            "_________________________________________________________________\n",
            "MP1 (MaxPooling2D)           (None, 16, 16, 64)        0         \n",
            "_________________________________________________________________\n",
            "dropout_175 (Dropout)        (None, 16, 16, 64)        0         \n",
            "_________________________________________________________________\n",
            "Conv3_encoder (Conv2D)       (None, 16, 16, 128)       73856     \n",
            "_________________________________________________________________\n",
            "BN2 (BatchNormalization)     (None, 16, 16, 128)       512       \n",
            "_________________________________________________________________\n",
            "dropout_176 (Dropout)        (None, 16, 16, 128)       0         \n",
            "_________________________________________________________________\n",
            "Conv4_encoder (Conv2D)       (None, 16, 16, 128)       147584    \n",
            "_________________________________________________________________\n",
            "BN3 (BatchNormalization)     (None, 16, 16, 128)       512       \n",
            "_________________________________________________________________\n",
            "MP2 (MaxPooling2D)           (None, 8, 8, 128)         0         \n",
            "_________________________________________________________________\n",
            "dropout_177 (Dropout)        (None, 8, 8, 128)         0         \n",
            "_________________________________________________________________\n",
            "Conv5_encoder (Conv2D)       (None, 8, 8, 256)         295168    \n",
            "_________________________________________________________________\n",
            "BN4 (BatchNormalization)     (None, 8, 8, 256)         1024      \n",
            "_________________________________________________________________\n",
            "dropout_178 (Dropout)        (None, 8, 8, 256)         0         \n",
            "_________________________________________________________________\n",
            "Conv6_encoder (Conv2D)       (None, 8, 8, 256)         590080    \n",
            "_________________________________________________________________\n",
            "Encoded (BatchNormalization) (None, 8, 8, 256)         1024      \n",
            "_________________________________________________________________\n",
            "conv2d_10 (Conv2D)           (None, 8, 8, 512)         1180160   \n",
            "_________________________________________________________________\n",
            "batch_normalization_20 (Batc (None, 8, 8, 512)         2048      \n",
            "_________________________________________________________________\n",
            "activation_25 (Activation)   (None, 8, 8, 512)         0         \n",
            "_________________________________________________________________\n",
            "max_pooling2d_10 (MaxPooling (None, 4, 4, 512)         0         \n",
            "_________________________________________________________________\n",
            "dropout_185 (Dropout)        (None, 4, 4, 512)         0         \n",
            "_________________________________________________________________\n",
            "conv2d_11 (Conv2D)           (None, 4, 4, 512)         2359808   \n",
            "_________________________________________________________________\n",
            "batch_normalization_21 (Batc (None, 4, 4, 512)         2048      \n",
            "_________________________________________________________________\n",
            "activation_26 (Activation)   (None, 4, 4, 512)         0         \n",
            "_________________________________________________________________\n",
            "max_pooling2d_11 (MaxPooling (None, 2, 2, 512)         0         \n",
            "_________________________________________________________________\n",
            "dropout_186 (Dropout)        (None, 2, 2, 512)         0         \n",
            "_________________________________________________________________\n",
            "flatten_5 (Flatten)          (None, 2048)              0         \n",
            "_________________________________________________________________\n",
            "dense_15 (Dense)             (None, 1024)              2098176   \n",
            "_________________________________________________________________\n",
            "batch_normalization_22 (Batc (None, 1024)              4096      \n",
            "_________________________________________________________________\n",
            "activation_27 (Activation)   (None, 1024)              0         \n",
            "_________________________________________________________________\n",
            "dropout_187 (Dropout)        (None, 1024)              0         \n",
            "_________________________________________________________________\n",
            "dense_16 (Dense)             (None, 1024)              1049600   \n",
            "_________________________________________________________________\n",
            "batch_normalization_23 (Batc (None, 1024)              4096      \n",
            "_________________________________________________________________\n",
            "activation_28 (Activation)   (None, 1024)              0         \n",
            "_________________________________________________________________\n",
            "dropout_188 (Dropout)        (None, 1024)              0         \n",
            "_________________________________________________________________\n",
            "dense_17 (Dense)             (None, 10)                10250     \n",
            "_________________________________________________________________\n",
            "activation_29 (Activation)   (None, 10)                0         \n",
            "=================================================================\n",
            "Total params: 7,859,274\n",
            "Trainable params: 7,851,338\n",
            "Non-trainable params: 7,936\n",
            "_________________________________________________________________\n"
          ],
          "name": "stdout"
        }
      ]
    },
    {
      "cell_type": "markdown",
      "metadata": {
        "id": "Gge74veTtC2f",
        "colab_type": "text"
      },
      "source": [
        "Next cell shows model's evaluation, mislabeled examples and classes misclassification distribution."
      ]
    },
    {
      "cell_type": "code",
      "metadata": {
        "id": "ssk1dt_fiBgL",
        "colab_type": "code",
        "outputId": "dc02e365-ca0e-4d79-8e71-dedac220832c",
        "colab": {
          "base_uri": "https://localhost:8080/",
          "height": 1000
        }
      },
      "source": [
        "import tensorflow.keras.backend as K\n",
        "model_classifier1.evaluate(X_dev,Y_dev)\n",
        "predictions = np.argmax(model_classifier1.predict(X_dev),axis = 1)\n",
        "labels = np.argmax(Y_dev,axis = 1)\n",
        "print(predictions.shape)\n",
        "print(labels.shape)\n",
        "print(np.equal(predictions,labels))\n",
        "mistaken = X_dev[np.not_equal(predictions,labels)]\n",
        "new_labels = labels[np.not_equal(predictions,labels)]\n",
        "new_predictions = predictions [np.not_equal(predictions,labels)]\n",
        "print(mistaken.shape)\n",
        "\n",
        "for i in range(5):\n",
        "  plt.imshow(mistaken[i,:,:,:])\n",
        "  plt.show()\n",
        "  print(\"Class: \"+names[new_labels[i]])\n",
        "  print(\"Predicted: \"+names[new_predictions[i]])\n",
        "\n",
        "for i in range(10):\n",
        "  count = np.sum(new_labels==i)\n",
        "  print(\"The number of mistaken \"+ names[i] + \"s is: \"+ str(count))"
      ],
      "execution_count": 0,
      "outputs": [
        {
          "output_type": "stream",
          "text": [
            "5000/5000 [==============================] - 1s 206us/sample - loss: 0.3589 - acc: 0.8986\n",
            "(5000,)\n",
            "(5000,)\n",
            "[ True False  True ...  True  True  True]\n",
            "(507, 32, 32, 3)\n"
          ],
          "name": "stdout"
        },
        {
          "output_type": "display_data",
          "data": {
            "image/png": "[encoded data removed]",
            "text/plain": [
              "<Figure size 432x288 with 1 Axes>"
            ]
          },
          "metadata": {
            "tags": []
          }
        },
        {
          "output_type": "stream",
          "text": [
            "Class: cat\n",
            "Predicted: frog\n"
          ],
          "name": "stdout"
        },
        {
          "output_type": "display_data",
          "data": {
            "image/png": "[encoded data removed]",
            "text/plain": [
              "<Figure size 432x288 with 1 Axes>"
            ]
          },
          "metadata": {
            "tags": []
          }
        },
        {
          "output_type": "stream",
          "text": [
            "Class: dog\n",
            "Predicted: cat\n"
          ],
          "name": "stdout"
        },
        {
          "output_type": "display_data",
          "data": {
            "image/png": "[encoded data removed]",
            "text/plain": [
              "<Figure size 432x288 with 1 Axes>"
            ]
          },
          "metadata": {
            "tags": []
          }
        },
        {
          "output_type": "stream",
          "text": [
            "Class: dog\n",
            "Predicted: cat\n"
          ],
          "name": "stdout"
        },
        {
          "output_type": "display_data",
          "data": {
            "image/png": "[encoded data removed]",
            "text/plain": [
              "<Figure size 432x288 with 1 Axes>"
            ]
          },
          "metadata": {
            "tags": []
          }
        },
        {
          "output_type": "stream",
          "text": [
            "Class: automobile\n",
            "Predicted: frog\n"
          ],
          "name": "stdout"
        },
        {
          "output_type": "display_data",
          "data": {
            "image/png": "[encoded data removed]",
            "text/plain": [
              "<Figure size 432x288 with 1 Axes>"
            ]
          },
          "metadata": {
            "tags": []
          }
        },
        {
          "output_type": "stream",
          "text": [
            "Class: cat\n",
            "Predicted: truck\n",
            "The number of mistaken airplanes is: 25\n",
            "The number of mistaken automobiles is: 7\n",
            "The number of mistaken birds is: 79\n",
            "The number of mistaken cats is: 108\n",
            "The number of mistaken deers is: 102\n",
            "The number of mistaken dogs is: 73\n",
            "The number of mistaken frogs is: 14\n",
            "The number of mistaken horses is: 24\n",
            "The number of mistaken ships is: 31\n",
            "The number of mistaken trucks is: 44\n"
          ],
          "name": "stdout"
        }
      ]
    },
    {
      "cell_type": "markdown",
      "metadata": {
        "id": "DbqmTuKLtV1E",
        "colab_type": "text"
      },
      "source": [
        "Classification report and confusion matrix are another ways to evaluate a model:"
      ]
    },
    {
      "cell_type": "code",
      "metadata": {
        "id": "sqLPjJ6b4HeB",
        "colab_type": "code",
        "outputId": "117ed742-80eb-4fa3-d33b-d0bb43a9acd9",
        "colab": {
          "base_uri": "https://localhost:8080/",
          "height": 504
        }
      },
      "source": [
        "from sklearn.metrics import classification_report, confusion_matrix\n",
        "print(classification_report(labels,predictions))\n",
        "print(confusion_matrix(labels,predictions))\n",
        "print(names)\n",
        "print(X_test.shape)"
      ],
      "execution_count": 0,
      "outputs": [
        {
          "output_type": "stream",
          "text": [
            "              precision    recall  f1-score   support\n",
            "\n",
            "           0       0.88      0.95      0.91       484\n",
            "           1       0.92      0.99      0.95       496\n",
            "           2       0.89      0.83      0.86       478\n",
            "           3       0.84      0.80      0.82       527\n",
            "           4       0.94      0.80      0.87       509\n",
            "           5       0.87      0.86      0.86       519\n",
            "           6       0.84      0.97      0.90       518\n",
            "           7       0.92      0.95      0.93       477\n",
            "           8       0.96      0.94      0.95       486\n",
            "           9       0.96      0.91      0.94       506\n",
            "\n",
            "    accuracy                           0.90      5000\n",
            "   macro avg       0.90      0.90      0.90      5000\n",
            "weighted avg       0.90      0.90      0.90      5000\n",
            "\n",
            "[[459   3   6   1   1   0   3   1   9   1]\n",
            " [  1 489   0   0   0   0   1   0   2   3]\n",
            " [ 19   0 399  12   7   8  26   6   0   1]\n",
            " [ 10   1  14 419   6  42  23   4   3   5]\n",
            " [  4   1  17  11 407  13  35  20   1   0]\n",
            " [  1   1   3  45   3 446   8   9   1   2]\n",
            " [  2   0   5   6   0   1 504   0   0   0]\n",
            " [  4   0   2   5   5   5   0 453   1   2]\n",
            " [ 16   5   0   1   1   0   1   1 455   6]\n",
            " [  7  30   1   0   1   0   1   1   3 462]]\n",
            "['airplane', 'automobile', 'bird', 'cat', 'deer', 'dog', 'frog', 'horse', 'ship', 'truck']\n",
            "(5000, 32, 32, 3)\n"
          ],
          "name": "stdout"
        }
      ]
    }
  ]
}